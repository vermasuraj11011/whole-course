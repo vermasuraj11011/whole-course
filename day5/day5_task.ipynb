{
 "cells": [
  {
   "metadata": {},
   "cell_type": "markdown",
   "source": [
    "# Store the above data in a csv\n",
    "\n",
    "1. Read the text file (csv) \n",
    "2. create the case Class to Represent the entity\n",
    "3. add all the records in to List\n",
    "4. Perform filter operations based on salary and departments\n",
    "5. perform map operations to produce formatted report\n",
    "6. perform reduce operation to find total Salary, average Salary, number of employees department wise"
   ],
   "id": "32972d83e9d981c3"
  },
  {
   "metadata": {
    "ExecuteTime": {
     "end_time": "2024-11-03T17:16:10.815356Z",
     "start_time": "2024-11-03T17:16:10.664134Z"
    }
   },
   "cell_type": "code",
   "source": [
    "// reading the csv file \n",
    "\n",
    "import scala.io.Source\n",
    "import java.io.{FileNotFoundException, IOException}\n",
    "\n",
    "def readingCSV(filePath: String): List[String] = {\n",
    "  val file = Source.fromFile(filename)\n",
    "  try {\n",
    "    file.getLines().toList\n",
    "  } catch {\n",
    "    case e: FileNotFoundException =>\n",
    "      println(\"File not found\")\n",
    "      List.empty[String]\n",
    "\n",
    "    case e: IOException =>\n",
    "      println(\"IO Exception\")\n",
    "      List.empty[String]\n",
    "\n",
    "  } finally {\n",
    "    file.close()\n",
    "  }\n",
    "}\n",
    "\n",
    "val filename = \"salary_data.csv\"\n",
    "val employeeList: List[String] = readingCSV(filePath = filename)"
   ],
   "id": "bd09acff5df1f9ad",
   "outputs": [
    {
     "data": {
      "text/plain": [
       "\u001B[32mimport \u001B[39m\u001B[36mscala.io.Source\u001B[39m\n",
       "\u001B[32mimport \u001B[39m\u001B[36mjava.io.{FileNotFoundException, IOException}\u001B[39m\n",
       "defined \u001B[32mfunction\u001B[39m \u001B[36mreadingCSV\u001B[39m\n",
       "\u001B[36mfilename\u001B[39m: \u001B[32mString\u001B[39m = \u001B[32m\"salary_data.csv\"\u001B[39m\n",
       "\u001B[36memployeeList\u001B[39m: \u001B[32mList\u001B[39m[\u001B[32mString\u001B[39m] = \u001B[33mList\u001B[39m(\n",
       "  \u001B[32m\"sno,name,city,salary,department\"\u001B[39m,\n",
       "  \u001B[32m\"1,John Doe,New York,60000,Marketing\"\u001B[39m,\n",
       "  \u001B[32m\"2,Jane Smith,Los Angeles,55000,Finance\"\u001B[39m,\n",
       "  \u001B[32m\"3,Michael Johnson,Chicago,62000,HR\"\u001B[39m,\n",
       "  \u001B[32m\"4,Sarah Lee,San Francisco,58000,Engineering\"\u001B[39m,\n",
       "  \u001B[32m\"5,David Brown,Houston,63000,Operations\"\u001B[39m,\n",
       "  \u001B[32m\"6,Emily Taylor,Miami,54000,Sales\"\u001B[39m,\n",
       "  \u001B[32m\"7,James Wilson,Dallas,59000,Marketing\"\u001B[39m,\n",
       "  \u001B[32m\"8,Emma Anderson,Seattle,61000,Finance\"\u001B[39m,\n",
       "  \u001B[32m\"9,Matthew Martinez,Boston,57000,HR\"\u001B[39m,\n",
       "  \u001B[32m\"10,Olivia Thomas,Atlanta,64000,Engineering\"\u001B[39m,\n",
       "  \u001B[32m\"11,Liam Garcia,Denver,53000,Operations\"\u001B[39m,\n",
       "  \u001B[32m\"12,Sophia Hernandez,Phoenix,60000,Sales\"\u001B[39m,\n",
       "  \u001B[32m\"13,Alexander Lopez,Philadelphia,56001,Marketing\"\u001B[39m,\n",
       "  \u001B[32m\"14,Mia Gonzalez,Detroit,62000,Finance\"\u001B[39m,\n",
       "  \u001B[32m\"15,Ethan Perez,Minneapolis,55000,HR\"\u001B[39m,\n",
       "  \u001B[32m\"16,Isabella Carter,Portland,63000,Engineering\"\u001B[39m,\n",
       "  \u001B[32m\"17,Mason Torres,Baltimore,52000,Operations\"\u001B[39m,\n",
       "  \u001B[32m\"18,Ava Ramirez,San Diego,64000,Sales\"\u001B[39m,\n",
       "  \u001B[32m\"19,Logan Sanders,Washington,57000,Marketing\"\u001B[39m,\n",
       "  \u001B[32m\"20,Harper King,Birmingham,61000,Finance\"\u001B[39m,\n",
       "  \u001B[32m\"21,Lucas Rivera,Memphis,59000,HR\"\u001B[39m,\n",
       "  \u001B[32m\"22,Evelyn Scott,Nashville,60000,Engineering\"\u001B[39m,\n",
       "  \u001B[32m\"23,Avery Green,Milwaukee,56000,Operations\"\u001B[39m,\n",
       "  \u001B[32m\"24,Lincoln Taylor,Indianapolis,62000,Sales\"\u001B[39m,\n",
       "  \u001B[32m\"25,Sofia Cooper,Louisville,54000,Marketing\"\u001B[39m,\n",
       "  \u001B[32m\"26,Aiden Bennett,Jacksonville,63000,Finance\"\u001B[39m,\n",
       "  \u001B[32m\"27,Madison Flores,Charlotte,58000,HR\"\u001B[39m,\n",
       "  \u001B[32m\"28,Ella Collins,San Jose,65000,Engineering\"\u001B[39m,\n",
       "  \u001B[32m\"29,Chloe Howard,San Antonio,53000,Operations\"\u001B[39m,\n",
       "  \u001B[32m\"30,Carter Hughes,Oklahoma City,61000,Sales\"\u001B[39m,\n",
       "  \u001B[32m\"31,Aria Nelson,Tucson,57000,Marketing\"\u001B[39m,\n",
       "  \u001B[32m\"32,Grayson Baker,Cleveland,60000,Finance\"\u001B[39m,\n",
       "  \u001B[32m\"33,Zoey Morris,Mesa,55000,HR\"\u001B[39m,\n",
       "  \u001B[32m\"34,Nova Ward,Kansas City,64000,Engineering\"\u001B[39m,\n",
       "  \u001B[32m\"35,Hudson James,Virginia Beach,52000,Operations\"\u001B[39m,\n",
       "  \u001B[32m\"36,Leah Watson,Atlanta,62000,Sales\"\u001B[39m,\n",
       "  \u001B[32m\"37,Riley Brooks,Colorado Springs,54000,Marketing\"\u001B[39m,\n",
       "..."
      ]
     },
     "execution_count": 16,
     "metadata": {},
     "output_type": "execute_result"
    }
   ],
   "execution_count": 16
  },
  {
   "metadata": {
    "ExecuteTime": {
     "end_time": "2024-11-03T17:16:10.916977Z",
     "start_time": "2024-11-03T17:16:10.822935Z"
    }
   },
   "cell_type": "code",
   "source": [
    "// Creating a case class to represent the entity\n",
    "case class Employee(empId: Int, name: String, city: String, salary: Int, department: String)\n",
    "\n",
    "object Employee {\n",
    "  def apply(emp: String): Employee = {\n",
    "    val empRecord: Array[String] = emp.split(\",\")\n",
    "    Employee(empId = empRecord(0).toInt, name = empRecord(1), city = empRecord(2), salary = empRecord(3).toInt, department = empRecord(4))\n",
    "  }\n",
    "}\n",
    "\n",
    "val emp: Employee = Employee(1, \"Shyam\", \"Indore\", 37000, \"Engineering\")\n",
    "val emp1: Employee = Employee(\"37,Riley Brooks,Colorado Springs,54000,Marketing\")"
   ],
   "id": "4e06f405c8fc2045",
   "outputs": [
    {
     "data": {
      "text/plain": [
       "defined \u001B[32mclass\u001B[39m \u001B[36mEmployee\u001B[39m\n",
       "defined \u001B[32mobject\u001B[39m \u001B[36mEmployee\u001B[39m\n",
       "\u001B[36memp\u001B[39m: \u001B[32mEmployee\u001B[39m = \u001B[33mEmployee\u001B[39m(\n",
       "  empId = \u001B[32m1\u001B[39m,\n",
       "  name = \u001B[32m\"Shyam\"\u001B[39m,\n",
       "  city = \u001B[32m\"Indore\"\u001B[39m,\n",
       "  salary = \u001B[32m37000\u001B[39m,\n",
       "  department = \u001B[32m\"Engineering\"\u001B[39m\n",
       ")\n",
       "\u001B[36memp1\u001B[39m: \u001B[32mEmployee\u001B[39m = \u001B[33mEmployee\u001B[39m(\n",
       "  empId = \u001B[32m37\u001B[39m,\n",
       "  name = \u001B[32m\"Riley Brooks\"\u001B[39m,\n",
       "  city = \u001B[32m\"Colorado Springs\"\u001B[39m,\n",
       "  salary = \u001B[32m54000\u001B[39m,\n",
       "  department = \u001B[32m\"Marketing\"\u001B[39m\n",
       ")"
      ]
     },
     "execution_count": 17,
     "metadata": {},
     "output_type": "execute_result"
    }
   ],
   "execution_count": 17
  },
  {
   "metadata": {
    "ExecuteTime": {
     "end_time": "2024-11-03T17:16:10.999661Z",
     "start_time": "2024-11-03T17:16:10.924357Z"
    }
   },
   "cell_type": "code",
   "source": [
    "// add all the records in to List\n",
    "\n",
    "val listOFEmployees: List[Employee] = employeeList.tail.map(emp => Employee(emp))"
   ],
   "id": "44f9ff397bbaa7c9",
   "outputs": [
    {
     "data": {
      "text/plain": [
       "\u001B[36mlistOFEmployees\u001B[39m: \u001B[32mList\u001B[39m[\u001B[32mEmployee\u001B[39m] = \u001B[33mList\u001B[39m(\n",
       "  \u001B[33mEmployee\u001B[39m(\n",
       "    empId = \u001B[32m1\u001B[39m,\n",
       "    name = \u001B[32m\"John Doe\"\u001B[39m,\n",
       "    city = \u001B[32m\"New York\"\u001B[39m,\n",
       "    salary = \u001B[32m60000\u001B[39m,\n",
       "    department = \u001B[32m\"Marketing\"\u001B[39m\n",
       "  ),\n",
       "  \u001B[33mEmployee\u001B[39m(\n",
       "    empId = \u001B[32m2\u001B[39m,\n",
       "    name = \u001B[32m\"Jane Smith\"\u001B[39m,\n",
       "    city = \u001B[32m\"Los Angeles\"\u001B[39m,\n",
       "    salary = \u001B[32m55000\u001B[39m,\n",
       "    department = \u001B[32m\"Finance\"\u001B[39m\n",
       "  ),\n",
       "  \u001B[33mEmployee\u001B[39m(\n",
       "    empId = \u001B[32m3\u001B[39m,\n",
       "    name = \u001B[32m\"Michael Johnson\"\u001B[39m,\n",
       "    city = \u001B[32m\"Chicago\"\u001B[39m,\n",
       "    salary = \u001B[32m62000\u001B[39m,\n",
       "    department = \u001B[32m\"HR\"\u001B[39m\n",
       "  ),\n",
       "  \u001B[33mEmployee\u001B[39m(\n",
       "    empId = \u001B[32m4\u001B[39m,\n",
       "    name = \u001B[32m\"Sarah Lee\"\u001B[39m,\n",
       "    city = \u001B[32m\"San Francisco\"\u001B[39m,\n",
       "    salary = \u001B[32m58000\u001B[39m,\n",
       "    department = \u001B[32m\"Engineering\"\u001B[39m\n",
       "  ),\n",
       "  \u001B[33mEmployee\u001B[39m(\n",
       "    empId = \u001B[32m5\u001B[39m,\n",
       "    name = \u001B[32m\"David Brown\"\u001B[39m,\n",
       "    city = \u001B[32m\"Houston\"\u001B[39m,\n",
       "    salary = \u001B[32m63000\u001B[39m,\n",
       "    department = \u001B[32m\"Operations\"\u001B[39m\n",
       "  ),\n",
       "  \u001B[33mEmployee\u001B[39m(\n",
       "    empId = \u001B[32m6\u001B[39m,\n",
       "    name = \u001B[32m\"Emily Taylor\"\u001B[39m,\n",
       "..."
      ]
     },
     "execution_count": 18,
     "metadata": {},
     "output_type": "execute_result"
    }
   ],
   "execution_count": 18
  },
  {
   "metadata": {
    "ExecuteTime": {
     "end_time": "2024-11-03T17:16:11.091871Z",
     "start_time": "2024-11-03T17:16:11.005996Z"
    }
   },
   "cell_type": "code",
   "source": [
    "// Perform filter operations based on salary and departments\n",
    "val employees: List[Employee] = listOFEmployees\n",
    "\n",
    "// filtering employee with salary greater than 60000\n",
    "val empWithSalaryGtr60000: List[Employee] = employees.filter(_.salary > 60000)\n",
    "val empWithSalaryBw50000And60000: List[Employee] = employees.filter(emp => emp.salary > 50000 && emp.salary < 60000)"
   ],
   "id": "ecaee02cc6dfec2b",
   "outputs": [
    {
     "data": {
      "text/plain": [
       "\u001B[36memployees\u001B[39m: \u001B[32mList\u001B[39m[\u001B[32mEmployee\u001B[39m] = \u001B[33mList\u001B[39m(\n",
       "  \u001B[33mEmployee\u001B[39m(\n",
       "    empId = \u001B[32m1\u001B[39m,\n",
       "    name = \u001B[32m\"John Doe\"\u001B[39m,\n",
       "    city = \u001B[32m\"New York\"\u001B[39m,\n",
       "    salary = \u001B[32m60000\u001B[39m,\n",
       "    department = \u001B[32m\"Marketing\"\u001B[39m\n",
       "  ),\n",
       "  \u001B[33mEmployee\u001B[39m(\n",
       "    empId = \u001B[32m2\u001B[39m,\n",
       "    name = \u001B[32m\"Jane Smith\"\u001B[39m,\n",
       "    city = \u001B[32m\"Los Angeles\"\u001B[39m,\n",
       "    salary = \u001B[32m55000\u001B[39m,\n",
       "    department = \u001B[32m\"Finance\"\u001B[39m\n",
       "  ),\n",
       "  \u001B[33mEmployee\u001B[39m(\n",
       "    empId = \u001B[32m3\u001B[39m,\n",
       "    name = \u001B[32m\"Michael Johnson\"\u001B[39m,\n",
       "    city = \u001B[32m\"Chicago\"\u001B[39m,\n",
       "    salary = \u001B[32m62000\u001B[39m,\n",
       "    department = \u001B[32m\"HR\"\u001B[39m\n",
       "  ),\n",
       "  \u001B[33mEmployee\u001B[39m(\n",
       "    empId = \u001B[32m4\u001B[39m,\n",
       "    name = \u001B[32m\"Sarah Lee\"\u001B[39m,\n",
       "    city = \u001B[32m\"San Francisco\"\u001B[39m,\n",
       "    salary = \u001B[32m58000\u001B[39m,\n",
       "    department = \u001B[32m\"Engineering\"\u001B[39m\n",
       "  ),\n",
       "  \u001B[33mEmployee\u001B[39m(\n",
       "    empId = \u001B[32m5\u001B[39m,\n",
       "    name = \u001B[32m\"David Brown\"\u001B[39m,\n",
       "    city = \u001B[32m\"Houston\"\u001B[39m,\n",
       "    salary = \u001B[32m63000\u001B[39m,\n",
       "    department = \u001B[32m\"Operations\"\u001B[39m\n",
       "  ),\n",
       "  \u001B[33mEmployee\u001B[39m(\n",
       "    empId = \u001B[32m6\u001B[39m,\n",
       "    name = \u001B[32m\"Emily Taylor\"\u001B[39m,\n",
       "...\n",
       "\u001B[36mempWithSalaryGtr60000\u001B[39m: \u001B[32mList\u001B[39m[\u001B[32mEmployee\u001B[39m] = \u001B[33mList\u001B[39m(\n",
       "  \u001B[33mEmployee\u001B[39m(\n",
       "    empId = \u001B[32m3\u001B[39m,\n",
       "    name = \u001B[32m\"Michael Johnson\"\u001B[39m,\n",
       "    city = \u001B[32m\"Chicago\"\u001B[39m,\n",
       "    salary = \u001B[32m62000\u001B[39m,\n",
       "    department = \u001B[32m\"HR\"\u001B[39m\n",
       "  ),\n",
       "  \u001B[33mEmployee\u001B[39m(\n",
       "    empId = \u001B[32m5\u001B[39m,\n",
       "    name = \u001B[32m\"David Brown\"\u001B[39m,\n",
       "    city = \u001B[32m\"Houston\"\u001B[39m,\n",
       "    salary = \u001B[32m63000\u001B[39m,\n",
       "    department = \u001B[32m\"Operations\"\u001B[39m\n",
       "  ),\n",
       "  \u001B[33mEmployee\u001B[39m(\n",
       "    empId = \u001B[32m8\u001B[39m,\n",
       "    name = \u001B[32m\"Emma Anderson\"\u001B[39m,\n",
       "    city = \u001B[32m\"Seattle\"\u001B[39m,\n",
       "    salary = \u001B[32m61000\u001B[39m,\n",
       "    department = \u001B[32m\"Finance\"\u001B[39m\n",
       "  ),\n",
       "  \u001B[33mEmployee\u001B[39m(\n",
       "    empId = \u001B[32m10\u001B[39m,\n",
       "    name = \u001B[32m\"Olivia Thomas\"\u001B[39m,\n",
       "    city = \u001B[32m\"Atlanta\"\u001B[39m,\n",
       "    salary = \u001B[32m64000\u001B[39m,\n",
       "    department = \u001B[32m\"Engineering\"\u001B[39m\n",
       "  ),\n",
       "  \u001B[33mEmployee\u001B[39m(\n",
       "    empId = \u001B[32m14\u001B[39m,\n",
       "    name = \u001B[32m\"Mia Gonzalez\"\u001B[39m,\n",
       "    city = \u001B[32m\"Detroit\"\u001B[39m,\n",
       "    salary = \u001B[32m62000\u001B[39m,\n",
       "    department = \u001B[32m\"Finance\"\u001B[39m\n",
       "  ),\n",
       "  \u001B[33mEmployee\u001B[39m(\n",
       "    empId = \u001B[32m16\u001B[39m,\n",
       "    name = \u001B[32m\"Isabella Carter\"\u001B[39m,\n",
       "...\n",
       "\u001B[36mempWithSalaryBw50000And60000\u001B[39m: \u001B[32mList\u001B[39m[\u001B[32mEmployee\u001B[39m] = \u001B[33mList\u001B[39m(\n",
       "  \u001B[33mEmployee\u001B[39m(\n",
       "    empId = \u001B[32m2\u001B[39m,\n",
       "    name = \u001B[32m\"Jane Smith\"\u001B[39m,\n",
       "    city = \u001B[32m\"Los Angeles\"\u001B[39m,\n",
       "    salary = \u001B[32m55000\u001B[39m,\n",
       "    department = \u001B[32m\"Finance\"\u001B[39m\n",
       "  ),\n",
       "  \u001B[33mEmployee\u001B[39m(\n",
       "    empId = \u001B[32m4\u001B[39m,\n",
       "    name = \u001B[32m\"Sarah Lee\"\u001B[39m,\n",
       "    city = \u001B[32m\"San Francisco\"\u001B[39m,\n",
       "    salary = \u001B[32m58000\u001B[39m,\n",
       "    department = \u001B[32m\"Engineering\"\u001B[39m\n",
       "  ),\n",
       "  \u001B[33mEmployee\u001B[39m(\n",
       "    empId = \u001B[32m6\u001B[39m,\n",
       "    name = \u001B[32m\"Emily Taylor\"\u001B[39m,\n",
       "    city = \u001B[32m\"Miami\"\u001B[39m,\n",
       "    salary = \u001B[32m54000\u001B[39m,\n",
       "    department = \u001B[32m\"Sales\"\u001B[39m\n",
       "  ),\n",
       "  \u001B[33mEmployee\u001B[39m(\n",
       "    empId = \u001B[32m7\u001B[39m,\n",
       "    name = \u001B[32m\"James Wilson\"\u001B[39m,\n",
       "    city = \u001B[32m\"Dallas\"\u001B[39m,\n",
       "    salary = \u001B[32m59000\u001B[39m,\n",
       "    department = \u001B[32m\"Marketing\"\u001B[39m\n",
       "  ),\n",
       "  \u001B[33mEmployee\u001B[39m(\n",
       "    empId = \u001B[32m9\u001B[39m,\n",
       "    name = \u001B[32m\"Matthew Martinez\"\u001B[39m,\n",
       "    city = \u001B[32m\"Boston\"\u001B[39m,\n",
       "    salary = \u001B[32m57000\u001B[39m,\n",
       "    department = \u001B[32m\"HR\"\u001B[39m\n",
       "  ),\n",
       "  \u001B[33mEmployee\u001B[39m(\n",
       "    empId = \u001B[32m11\u001B[39m,\n",
       "    name = \u001B[32m\"Liam Garcia\"\u001B[39m,\n",
       "..."
      ]
     },
     "execution_count": 19,
     "metadata": {},
     "output_type": "execute_result"
    }
   ],
   "execution_count": 19
  },
  {
   "metadata": {
    "ExecuteTime": {
     "end_time": "2024-11-03T17:16:11.176172Z",
     "start_time": "2024-11-03T17:16:11.098497Z"
    }
   },
   "cell_type": "code",
   "source": [
    "def departmentFilter(department: String): List[Employee] = employees.filter(_.department == department)\n",
    "def departmentFilter(departments: Set[String]): List[Employee] = employees.filter(emp => departments.contains(emp.department))\n",
    "\n",
    "val empWithDepartmentFinance: List[Employee] = departmentFilter(\"Finance\")\n",
    "val empWithDepartmentFinanceAndMarketing: List[Employee] = departmentFilter(Set(\"Marketing\", \"Finance\"))"
   ],
   "id": "a106ff0119790847",
   "outputs": [
    {
     "data": {
      "text/plain": [
       "defined \u001B[32mfunction\u001B[39m \u001B[36mdepartmentFilter\u001B[39m\n",
       "defined \u001B[32mfunction\u001B[39m \u001B[36mdepartmentFilter\u001B[39m\n",
       "\u001B[36mempWithDepartmentFinance\u001B[39m: \u001B[32mList\u001B[39m[\u001B[32mEmployee\u001B[39m] = \u001B[33mList\u001B[39m(\n",
       "  \u001B[33mEmployee\u001B[39m(\n",
       "    empId = \u001B[32m2\u001B[39m,\n",
       "    name = \u001B[32m\"Jane Smith\"\u001B[39m,\n",
       "    city = \u001B[32m\"Los Angeles\"\u001B[39m,\n",
       "    salary = \u001B[32m55000\u001B[39m,\n",
       "    department = \u001B[32m\"Finance\"\u001B[39m\n",
       "  ),\n",
       "  \u001B[33mEmployee\u001B[39m(\n",
       "    empId = \u001B[32m8\u001B[39m,\n",
       "    name = \u001B[32m\"Emma Anderson\"\u001B[39m,\n",
       "    city = \u001B[32m\"Seattle\"\u001B[39m,\n",
       "    salary = \u001B[32m61000\u001B[39m,\n",
       "    department = \u001B[32m\"Finance\"\u001B[39m\n",
       "  ),\n",
       "  \u001B[33mEmployee\u001B[39m(\n",
       "    empId = \u001B[32m14\u001B[39m,\n",
       "    name = \u001B[32m\"Mia Gonzalez\"\u001B[39m,\n",
       "    city = \u001B[32m\"Detroit\"\u001B[39m,\n",
       "    salary = \u001B[32m62000\u001B[39m,\n",
       "    department = \u001B[32m\"Finance\"\u001B[39m\n",
       "  ),\n",
       "  \u001B[33mEmployee\u001B[39m(\n",
       "    empId = \u001B[32m20\u001B[39m,\n",
       "    name = \u001B[32m\"Harper King\"\u001B[39m,\n",
       "    city = \u001B[32m\"Birmingham\"\u001B[39m,\n",
       "    salary = \u001B[32m61000\u001B[39m,\n",
       "    department = \u001B[32m\"Finance\"\u001B[39m\n",
       "  ),\n",
       "  \u001B[33mEmployee\u001B[39m(\n",
       "    empId = \u001B[32m26\u001B[39m,\n",
       "    name = \u001B[32m\"Aiden Bennett\"\u001B[39m,\n",
       "    city = \u001B[32m\"Jacksonville\"\u001B[39m,\n",
       "    salary = \u001B[32m63000\u001B[39m,\n",
       "    department = \u001B[32m\"Finance\"\u001B[39m\n",
       "  ),\n",
       "  \u001B[33mEmployee\u001B[39m(\n",
       "    empId = \u001B[32m32\u001B[39m,\n",
       "    name = \u001B[32m\"Grayson Baker\"\u001B[39m,\n",
       "...\n",
       "\u001B[36mempWithDepartmentFinanceAndMarketing\u001B[39m: \u001B[32mList\u001B[39m[\u001B[32mEmployee\u001B[39m] = \u001B[33mList\u001B[39m(\n",
       "  \u001B[33mEmployee\u001B[39m(\n",
       "    empId = \u001B[32m1\u001B[39m,\n",
       "    name = \u001B[32m\"John Doe\"\u001B[39m,\n",
       "    city = \u001B[32m\"New York\"\u001B[39m,\n",
       "    salary = \u001B[32m60000\u001B[39m,\n",
       "    department = \u001B[32m\"Marketing\"\u001B[39m\n",
       "  ),\n",
       "  \u001B[33mEmployee\u001B[39m(\n",
       "    empId = \u001B[32m2\u001B[39m,\n",
       "    name = \u001B[32m\"Jane Smith\"\u001B[39m,\n",
       "    city = \u001B[32m\"Los Angeles\"\u001B[39m,\n",
       "    salary = \u001B[32m55000\u001B[39m,\n",
       "    department = \u001B[32m\"Finance\"\u001B[39m\n",
       "  ),\n",
       "  \u001B[33mEmployee\u001B[39m(\n",
       "    empId = \u001B[32m7\u001B[39m,\n",
       "    name = \u001B[32m\"James Wilson\"\u001B[39m,\n",
       "    city = \u001B[32m\"Dallas\"\u001B[39m,\n",
       "    salary = \u001B[32m59000\u001B[39m,\n",
       "    department = \u001B[32m\"Marketing\"\u001B[39m\n",
       "  ),\n",
       "  \u001B[33mEmployee\u001B[39m(\n",
       "    empId = \u001B[32m8\u001B[39m,\n",
       "    name = \u001B[32m\"Emma Anderson\"\u001B[39m,\n",
       "    city = \u001B[32m\"Seattle\"\u001B[39m,\n",
       "    salary = \u001B[32m61000\u001B[39m,\n",
       "    department = \u001B[32m\"Finance\"\u001B[39m\n",
       "  ),\n",
       "  \u001B[33mEmployee\u001B[39m(\n",
       "    empId = \u001B[32m13\u001B[39m,\n",
       "    name = \u001B[32m\"Alexander Lopez\"\u001B[39m,\n",
       "    city = \u001B[32m\"Philadelphia\"\u001B[39m,\n",
       "    salary = \u001B[32m56001\u001B[39m,\n",
       "    department = \u001B[32m\"Marketing\"\u001B[39m\n",
       "  ),\n",
       "  \u001B[33mEmployee\u001B[39m(\n",
       "    empId = \u001B[32m14\u001B[39m,\n",
       "    name = \u001B[32m\"Mia Gonzalez\"\u001B[39m,\n",
       "..."
      ]
     },
     "execution_count": 20,
     "metadata": {},
     "output_type": "execute_result"
    }
   ],
   "execution_count": 20
  },
  {
   "metadata": {
    "ExecuteTime": {
     "end_time": "2024-11-03T17:16:11.250234Z",
     "start_time": "2024-11-03T17:16:11.181636Z"
    }
   },
   "cell_type": "code",
   "source": [
    "// perform map operations to produce formatted report\n",
    "def formatedOutput(emp: Employee): String = s\"Emp Id: ${emp.empId}, Name: ${emp.name},City: ${emp.city},  Salary: ${emp.salary}, Department: ${emp.department}\"\n",
    "val formatedOutputList: List[String] = employees.map(formatedOutput)"
   ],
   "id": "cfb9307a8b3847f7",
   "outputs": [
    {
     "data": {
      "text/plain": [
       "defined \u001B[32mfunction\u001B[39m \u001B[36mformatedOutput\u001B[39m\n",
       "\u001B[36mformatedOutputList\u001B[39m: \u001B[32mList\u001B[39m[\u001B[32mString\u001B[39m] = \u001B[33mList\u001B[39m(\n",
       "  \u001B[32m\"Emp Id: 1, Name: John Doe,City: New York,  Salary: 60000, Department: Marketing\"\u001B[39m,\n",
       "  \u001B[32m\"Emp Id: 2, Name: Jane Smith,City: Los Angeles,  Salary: 55000, Department: Finance\"\u001B[39m,\n",
       "  \u001B[32m\"Emp Id: 3, Name: Michael Johnson,City: Chicago,  Salary: 62000, Department: HR\"\u001B[39m,\n",
       "  \u001B[32m\"Emp Id: 4, Name: Sarah Lee,City: San Francisco,  Salary: 58000, Department: Engineering\"\u001B[39m,\n",
       "  \u001B[32m\"Emp Id: 5, Name: David Brown,City: Houston,  Salary: 63000, Department: Operations\"\u001B[39m,\n",
       "  \u001B[32m\"Emp Id: 6, Name: Emily Taylor,City: Miami,  Salary: 54000, Department: Sales\"\u001B[39m,\n",
       "  \u001B[32m\"Emp Id: 7, Name: James Wilson,City: Dallas,  Salary: 59000, Department: Marketing\"\u001B[39m,\n",
       "  \u001B[32m\"Emp Id: 8, Name: Emma Anderson,City: Seattle,  Salary: 61000, Department: Finance\"\u001B[39m,\n",
       "  \u001B[32m\"Emp Id: 9, Name: Matthew Martinez,City: Boston,  Salary: 57000, Department: HR\"\u001B[39m,\n",
       "  \u001B[32m\"Emp Id: 10, Name: Olivia Thomas,City: Atlanta,  Salary: 64000, Department: Engineering\"\u001B[39m,\n",
       "  \u001B[32m\"Emp Id: 11, Name: Liam Garcia,City: Denver,  Salary: 53000, Department: Operations\"\u001B[39m,\n",
       "  \u001B[32m\"Emp Id: 12, Name: Sophia Hernandez,City: Phoenix,  Salary: 60000, Department: Sales\"\u001B[39m,\n",
       "  \u001B[32m\"Emp Id: 13, Name: Alexander Lopez,City: Philadelphia,  Salary: 56001, Department: Marketing\"\u001B[39m,\n",
       "  \u001B[32m\"Emp Id: 14, Name: Mia Gonzalez,City: Detroit,  Salary: 62000, Department: Finance\"\u001B[39m,\n",
       "  \u001B[32m\"Emp Id: 15, Name: Ethan Perez,City: Minneapolis,  Salary: 55000, Department: HR\"\u001B[39m,\n",
       "  \u001B[32m\"Emp Id: 16, Name: Isabella Carter,City: Portland,  Salary: 63000, Department: Engineering\"\u001B[39m,\n",
       "  \u001B[32m\"Emp Id: 17, Name: Mason Torres,City: Baltimore,  Salary: 52000, Department: Operations\"\u001B[39m,\n",
       "  \u001B[32m\"Emp Id: 18, Name: Ava Ramirez,City: San Diego,  Salary: 64000, Department: Sales\"\u001B[39m,\n",
       "  \u001B[32m\"Emp Id: 19, Name: Logan Sanders,City: Washington,  Salary: 57000, Department: Marketing\"\u001B[39m,\n",
       "..."
      ]
     },
     "execution_count": 21,
     "metadata": {},
     "output_type": "execute_result"
    }
   ],
   "execution_count": 21
  },
  {
   "metadata": {
    "ExecuteTime": {
     "end_time": "2024-11-03T17:16:11.353222Z",
     "start_time": "2024-11-03T17:16:11.256475Z"
    }
   },
   "cell_type": "code",
   "source": [
    "// perform reduce operation to find total Salary, average Salary, number of employees department wise\n",
    "\n",
    "val totalSalary: Int = employees.map(_.salary).reduce(_ + _)\n",
    "val averageSalary: Double = totalSalary / employees.size\n",
    "val departmentSize: Map[String, Int] = employees.groupBy(emp => emp.department).map{case (key, value) => (key, value.size)}"
   ],
   "id": "5f7d2e9f0b967aff",
   "outputs": [
    {
     "data": {
      "text/plain": [
       "\u001B[36mtotalSalary\u001B[39m: \u001B[32mInt\u001B[39m = \u001B[32m2943001\u001B[39m\n",
       "\u001B[36maverageSalary\u001B[39m: \u001B[32mDouble\u001B[39m = \u001B[32m58860.0\u001B[39m\n",
       "\u001B[36mdepartmentSize\u001B[39m: \u001B[32mMap\u001B[39m[\u001B[32mString\u001B[39m, \u001B[32mInt\u001B[39m] = \u001B[33mHashMap\u001B[39m(\n",
       "  \u001B[32m\"Engineering\"\u001B[39m -> \u001B[32m8\u001B[39m,\n",
       "  \u001B[32m\"Operations\"\u001B[39m -> \u001B[32m8\u001B[39m,\n",
       "  \u001B[32m\"Sales\"\u001B[39m -> \u001B[32m8\u001B[39m,\n",
       "  \u001B[32m\"Marketing\"\u001B[39m -> \u001B[32m9\u001B[39m,\n",
       "  \u001B[32m\"HR\"\u001B[39m -> \u001B[32m8\u001B[39m,\n",
       "  \u001B[32m\"Finance\"\u001B[39m -> \u001B[32m9\u001B[39m\n",
       ")"
      ]
     },
     "execution_count": 22,
     "metadata": {},
     "output_type": "execute_result"
    }
   ],
   "execution_count": 22
  }
 ],
 "metadata": {
  "kernelspec": {
   "display_name": "Scala",
   "language": "scala",
   "name": "scala"
  },
  "language_info": {
   "codemirror_mode": "text/x-scala",
   "file_extension": ".sc",
   "mimetype": "text/x-scala",
   "name": "scala",
   "nbconvert_exporter": "script",
   "version": "2.13.14"
  }
 },
 "nbformat": 4,
 "nbformat_minor": 5
}
