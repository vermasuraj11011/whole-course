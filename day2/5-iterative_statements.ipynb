{
 "cells": [
  {
   "cell_type": "markdown",
   "id": "1edf40698c26a6f9",
   "metadata": {},
   "source": [
    "## Iteration Statements\n",
    "* for loop\n",
    "* while loop\n",
    "* do-while loop\n",
    "* for comprehensions\n"
   ]
  },
  {
   "cell_type": "code",
   "id": "d51022fa3396d3d9",
   "metadata": {
    "ExecuteTime": {
     "end_time": "2024-10-27T17:34:29.919293Z",
     "start_time": "2024-10-27T17:34:28.956287Z"
    }
   },
   "source": [
    "// for loop\n",
    "for (i <- 1 to 5) {\n",
    "    print(s\"$i \")\n",
    "}\n",
    "\n",
    "println()\n",
    "\n",
    "// while loop\n",
    "var i = 1\n",
    "while (i <= 5) {\n",
    "    print(s\"$i \")\n",
    "    i += 1\n",
    "}\n",
    "\n",
    "println()\n",
    "\n",
    "// do-while loop\n",
    "i = 1\n",
    "do {\n",
    "    print(s\"$i \")\n",
    "    i += 1\n",
    "} while (i <= 5)\n",
    "\n",
    "println()\n",
    "\n",
    "// for comprehensions\n",
    "val numbers = List(1, 2, 3, 4, 5)\n",
    "val squares = for (num <- numbers) yield num * num\n",
    "\n",
    "println(squares)"
   ],
   "outputs": [
    {
     "name": "stdout",
     "output_type": "stream",
     "text": [
      "1 2 3 4 5 \n",
      "1 2 3 4 5 \n",
      "1 2 3 4 5 \n",
      "List(1, 4, 9, 16, 25)\n"
     ]
    },
    {
     "data": {
      "text/plain": [
       "\u001B[36mi\u001B[39m: \u001B[32mInt\u001B[39m = \u001B[32m6\u001B[39m\n",
       "\u001B[36mnumbers\u001B[39m: \u001B[32mList\u001B[39m[\u001B[32mInt\u001B[39m] = \u001B[33mList\u001B[39m(\u001B[32m1\u001B[39m, \u001B[32m2\u001B[39m, \u001B[32m3\u001B[39m, \u001B[32m4\u001B[39m, \u001B[32m5\u001B[39m)\n",
       "\u001B[36msquares\u001B[39m: \u001B[32mList\u001B[39m[\u001B[32mInt\u001B[39m] = \u001B[33mList\u001B[39m(\u001B[32m1\u001B[39m, \u001B[32m4\u001B[39m, \u001B[32m9\u001B[39m, \u001B[32m16\u001B[39m, \u001B[32m25\u001B[39m)"
      ],
      "text/html": [
       "<div class=\"jp-RenderedText\">\n",
       "<pre><code><span style=\"color: rgb(0, 187, 187)\"><span class=\"ansi-cyan-fg\">i</span></span>: <span style=\"color: rgb(0, 187, 0)\"><span class=\"ansi-green-fg\">Int</span></span> = <span style=\"color: rgb(0, 187, 0)\"><span class=\"ansi-green-fg\">6</span></span>\n",
       "<span style=\"color: rgb(0, 187, 187)\"><span class=\"ansi-cyan-fg\">numbers</span></span>: <span style=\"color: rgb(0, 187, 0)\"><span class=\"ansi-green-fg\">List</span></span>[<span style=\"color: rgb(0, 187, 0)\"><span class=\"ansi-green-fg\">Int</span></span>] = <span style=\"color: yellow\"><span class=\"ansi-yellow-fg\">List</span></span>(<span style=\"color: rgb(0, 187, 0)\"><span class=\"ansi-green-fg\">1</span></span>, <span style=\"color: rgb(0, 187, 0)\"><span class=\"ansi-green-fg\">2</span></span>, <span style=\"color: rgb(0, 187, 0)\"><span class=\"ansi-green-fg\">3</span></span>, <span style=\"color: rgb(0, 187, 0)\"><span class=\"ansi-green-fg\">4</span></span>, <span style=\"color: rgb(0, 187, 0)\"><span class=\"ansi-green-fg\">5</span></span>)\n",
       "<span style=\"color: rgb(0, 187, 187)\"><span class=\"ansi-cyan-fg\">squares</span></span>: <span style=\"color: rgb(0, 187, 0)\"><span class=\"ansi-green-fg\">List</span></span>[<span style=\"color: rgb(0, 187, 0)\"><span class=\"ansi-green-fg\">Int</span></span>] = <span style=\"color: yellow\"><span class=\"ansi-yellow-fg\">List</span></span>(<span style=\"color: rgb(0, 187, 0)\"><span class=\"ansi-green-fg\">1</span></span>, <span style=\"color: rgb(0, 187, 0)\"><span class=\"ansi-green-fg\">4</span></span>, <span style=\"color: rgb(0, 187, 0)\"><span class=\"ansi-green-fg\">9</span></span>, <span style=\"color: rgb(0, 187, 0)\"><span class=\"ansi-green-fg\">16</span></span>, <span style=\"color: rgb(0, 187, 0)\"><span class=\"ansi-green-fg\">25</span></span>)</code></pre>\n",
       "</div>"
      ]
     },
     "metadata": {},
     "output_type": "display_data"
    }
   ],
   "execution_count": 1
  }
 ],
 "metadata": {
  "kernelspec": {
   "display_name": "Scala",
   "language": "scala",
   "name": "scala"
  },
  "language_info": {
   "codemirror_mode": "text/x-scala",
   "file_extension": ".sc",
   "mimetype": "text/x-scala",
   "name": "scala",
   "nbconvert_exporter": "script",
   "version": "2.13.14"
  }
 },
 "nbformat": 4,
 "nbformat_minor": 5
}
