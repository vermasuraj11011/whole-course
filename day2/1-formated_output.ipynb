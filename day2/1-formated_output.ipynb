{
 "cells": [
  {
   "cell_type": "markdown",
   "id": "bb7b548f7e175e6d",
   "metadata": {},
   "source": [
    "## Prints\n",
    "* printf\n",
    "* print     -> print in the same line \n",
    "* println   -> print in the next line\n",
    "* println(s\"\")\n",
    "* println(s\"\"\"hi\n",
    "hellow \n",
    "hiiiiii\"\"\")"
   ]
  },
  {
   "cell_type": "code",
   "id": "5c8934bb693229e",
   "metadata": {
    "ExecuteTime": {
     "end_time": "2024-10-27T17:32:32.137689Z",
     "start_time": "2024-10-27T17:32:31.252123Z"
    }
   },
   "source": [
    "val work = \"Hyderabad\"\n",
    "printf(\"hi i am %s and i lives on %d floor\", \"Suraj\", 7)\n",
    "print(\"\\n\")\n",
    "print(\"hi i am suraj\")\n",
    "print(\"\\n\")\n",
    "println(\"hi i works in Hyderabad\")\n",
    "val home = \"Indore\"\n",
    "println(s\"Weather in $work is similar to $home\")\n",
    "println(s\"\"\"hi how are you\n",
    "i am learning scala\n",
    "it is good\"\"\")\n"
   ],
   "outputs": [
    {
     "name": "stdout",
     "output_type": "stream",
     "text": [
      "hi i am Suraj and i lives on 7 floor\n",
      "hi i am suraj\n",
      "hi i works in Hyderabad\n",
      "Weather in Hyderabad is similar to Indore\n",
      "hi how are you\n",
      "i am learning scala\n",
      "it is good\n"
     ]
    },
    {
     "data": {
      "text/plain": [
       "\u001B[36mwork\u001B[39m: \u001B[32mString\u001B[39m = \u001B[32m\"Hyderabad\"\u001B[39m\n",
       "\u001B[36mhome\u001B[39m: \u001B[32mString\u001B[39m = \u001B[32m\"Indore\"\u001B[39m"
      ]
     },
     "execution_count": 1,
     "metadata": {},
     "output_type": "execute_result"
    }
   ],
   "execution_count": 1
  },
  {
   "cell_type": "markdown",
   "id": "93c5aade7480eee3",
   "metadata": {},
   "source": [
    "\n",
    "\n",
    "## Formated String\n",
    "    x.formated(a,b)  where x is a string and a and b are the values to be inserted\n"
   ]
  },
  {
   "cell_type": "code",
   "id": "39384a6ab26a16c5",
   "metadata": {
    "ExecuteTime": {
     "end_time": "2024-10-27T17:14:26.194596Z",
     "start_time": "2024-10-27T17:14:25.957158Z"
    }
   },
   "source": [
    "var str = \"hi my name is %s and i am %d years old and my blood type is %c\"\n",
    "val name = \"Random Person\"\n",
    "val age = 30\n",
    "val bType = 'A'\n",
    "var formatedStr: String = str.formatted(name, age, bType)\n"
   ],
   "outputs": [
    {
     "data": {
      "text/plain": [
       "\u001B[36mstr\u001B[39m: \u001B[32mString\u001B[39m = \u001B[32m\"hi my name is %s and i am %d years old and my blood type is %c\"\u001B[39m\n",
       "\u001B[36mname\u001B[39m: \u001B[32mString\u001B[39m = \u001B[32m\"Random Person\"\u001B[39m\n",
       "\u001B[36mage\u001B[39m: \u001B[32mInt\u001B[39m = \u001B[32m30\u001B[39m\n",
       "\u001B[36mbType\u001B[39m: \u001B[32mChar\u001B[39m = \u001B[32m'A'\u001B[39m\n",
       "\u001B[36mformatedStr\u001B[39m: \u001B[32mString\u001B[39m = \u001B[32m\"hi my name is Random Person and i am 30 years old and my blood type is A\"\u001B[39m"
      ],
      "text/html": [
       "<div class=\"jp-RenderedText\">\n",
       "<pre><code><span style=\"color: rgb(0, 187, 187)\"><span class=\"ansi-cyan-fg\">str</span></span>: <span style=\"color: rgb(0, 187, 0)\"><span class=\"ansi-green-fg\">String</span></span> = <span style=\"color: rgb(0, 187, 0)\"><span class=\"ansi-green-fg\">&quot;hi my name is %s and i am %d years old and my blood type is %c&quot;</span></span>\n",
       "<span style=\"color: rgb(0, 187, 187)\"><span class=\"ansi-cyan-fg\">name</span></span>: <span style=\"color: rgb(0, 187, 0)\"><span class=\"ansi-green-fg\">String</span></span> = <span style=\"color: rgb(0, 187, 0)\"><span class=\"ansi-green-fg\">&quot;Random Person&quot;</span></span>\n",
       "<span style=\"color: rgb(0, 187, 187)\"><span class=\"ansi-cyan-fg\">age</span></span>: <span style=\"color: rgb(0, 187, 0)\"><span class=\"ansi-green-fg\">Int</span></span> = <span style=\"color: rgb(0, 187, 0)\"><span class=\"ansi-green-fg\">30</span></span>\n",
       "<span style=\"color: rgb(0, 187, 187)\"><span class=\"ansi-cyan-fg\">bType</span></span>: <span style=\"color: rgb(0, 187, 0)\"><span class=\"ansi-green-fg\">Char</span></span> = <span style=\"color: rgb(0, 187, 0)\"><span class=\"ansi-green-fg\">'A'</span></span>\n",
       "<span style=\"color: rgb(0, 187, 187)\"><span class=\"ansi-cyan-fg\">formatedStr</span></span>: <span style=\"color: rgb(0, 187, 0)\"><span class=\"ansi-green-fg\">String</span></span> = <span style=\"color: rgb(0, 187, 0)\"><span class=\"ansi-green-fg\">&quot;hi my name is Random Person and i am 30 years old and my blood type is A&quot;</span></span></code></pre>\n",
       "</div>"
      ]
     },
     "metadata": {},
     "output_type": "display_data"
    }
   ],
   "execution_count": 3
  }
 ],
 "metadata": {
  "kernelspec": {
   "display_name": "Scala",
   "language": "scala",
   "name": "scala"
  },
  "language_info": {
   "codemirror_mode": "text/x-scala",
   "file_extension": ".sc",
   "mimetype": "text/x-scala",
   "name": "scala",
   "nbconvert_exporter": "script",
   "version": "2.13.14"
  }
 },
 "nbformat": 4,
 "nbformat_minor": 5
}
