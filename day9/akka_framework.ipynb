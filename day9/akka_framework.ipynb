{
 "cells": [
  {
   "metadata": {},
   "cell_type": "markdown",
   "source": [
    "## Akka Framework\n",
    "\n",
    "\n",
    "### What is Akka?\n",
    "- Akka is a toolkit and runtime for building highly concurrent, distributed, and resilient message-driven applications on the JVM.\n",
    "- Akka is written in Scala, but the API is available in both Scala and Java.\n",
    "- Akka is based on the Actor Model.\n",
    "- Akka is a toolkit for building highly concurrent, distributed, and resilient message-driven applications for Java and Scala.\n",
    "\n",
    "### What is the Actor Model?\n",
    "- The Actor Model is a programming model for concurrency in a single process.\n",
    "- Actors are objects that encapsulate state and behavior, communicate exclusively by exchanging messages, and can only communicate with other actors.\n",
    "- Actors are lightweight, and many actors can run concurrently in a single process.\n",
    "- Actors are isolated from each other, and they do not share memory.\n",
    "- Actors can be distributed across multiple machines.\n",
    "- Actors can be supervised by other actors, and they can be restarted if they fail.\n",
    "- Actors can be organized into hierarchies, and they can be monitored by other actors.\n",
    "- Actors can be used to model complex systems, such as distributed systems, web servers, and databases.\n",
    "\n",
    "\n",
    "### Actor system\n",
    "- An actor system is a container for actors.\n",
    "- An actor system is a top-level actor that manages the lifecycle of actors.\n",
    "- An actor system is a factory for actors, and it provides a way to create, configure, and supervise actors.\n",
    "- An actor system is a hierarchical structure that consists of actors, supervisors, and dispatchers.\n",
    "- An actor system is a distributed system that can run on multiple machines.\n",
    "- An actor system is a fault-tolerant system that can recover from failures.\n",
    "- An actor system is a scalable system that can handle a large number of actors.\n",
    "- An actor system is a message-driven system that uses asynchronous message passing to communicate between actors.\n",
    "- An actor system is a reactive system that can respond to events in real-time.\n",
    "- An actor system is a concurrent system that can run multiple actors concurrently.\n",
    "- An actor system is a distributed system that can run on multiple machines."
   ],
   "id": "eadd2a9f93e3cdf"
  }
 ],
 "metadata": {
  "kernelspec": {
   "display_name": "Python 3",
   "language": "python",
   "name": "python3"
  },
  "language_info": {
   "codemirror_mode": {
    "name": "ipython",
    "version": 2
   },
   "file_extension": ".py",
   "mimetype": "text/x-python",
   "name": "python",
   "nbconvert_exporter": "python",
   "pygments_lexer": "ipython2",
   "version": "2.7.6"
  }
 },
 "nbformat": 4,
 "nbformat_minor": 5
}
