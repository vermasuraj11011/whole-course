{
 "cells": [
  {
   "cell_type": "markdown",
   "id": "cbb9aeab16ad9887",
   "metadata": {},
   "source": [
    "# Variables\n",
    "* var : this is the mutable variable\n",
    "* val : this are the immutable variable"
   ]
  },
  {
   "cell_type": "code",
   "id": "569ab4de450f7c44",
   "metadata": {
    "ExecuteTime": {
     "end_time": "2024-10-27T17:33:51.412075Z",
     "start_time": "2024-10-27T17:33:50.569322Z"
    }
   },
   "source": [
    "var s = \"name\"\n",
    "s = \"sur name\" // this is the valid statement\n",
    "val language = \"scala\" // if we change the value of language it will gives the error\n",
    "\n",
    "// we can also explicitly specify the type of the variable\n",
    "\n",
    "var variable: Int = 23\n",
    "\n",
    "// in the first cases compiler automatic infers the types of the variables\n"
   ],
   "outputs": [
    {
     "data": {
      "text/plain": [
       "\u001B[36ms\u001B[39m: \u001B[32mString\u001B[39m = \u001B[32m\"sur name\"\u001B[39m\n",
       "\u001B[36mlanguage\u001B[39m: \u001B[32mString\u001B[39m = \u001B[32m\"scala\"\u001B[39m\n",
       "\u001B[36mvariable\u001B[39m: \u001B[32mInt\u001B[39m = \u001B[32m23\u001B[39m"
      ],
      "text/html": [
       "<div class=\"jp-RenderedText\">\n",
       "<pre><code><span style=\"color: rgb(0, 187, 187)\"><span class=\"ansi-cyan-fg\">s</span></span>: <span style=\"color: rgb(0, 187, 0)\"><span class=\"ansi-green-fg\">String</span></span> = <span style=\"color: rgb(0, 187, 0)\"><span class=\"ansi-green-fg\">&quot;sur name&quot;</span></span>\n",
       "<span style=\"color: rgb(0, 187, 187)\"><span class=\"ansi-cyan-fg\">language</span></span>: <span style=\"color: rgb(0, 187, 0)\"><span class=\"ansi-green-fg\">String</span></span> = <span style=\"color: rgb(0, 187, 0)\"><span class=\"ansi-green-fg\">&quot;scala&quot;</span></span>\n",
       "<span style=\"color: rgb(0, 187, 187)\"><span class=\"ansi-cyan-fg\">variable</span></span>: <span style=\"color: rgb(0, 187, 0)\"><span class=\"ansi-green-fg\">Int</span></span> = <span style=\"color: rgb(0, 187, 0)\"><span class=\"ansi-green-fg\">23</span></span></code></pre>\n",
       "</div>"
      ]
     },
     "metadata": {},
     "output_type": "display_data"
    }
   ],
   "execution_count": 1
  }
 ],
 "metadata": {
  "kernelspec": {
   "display_name": "Scala",
   "language": "scala",
   "name": "scala"
  },
  "language_info": {
   "codemirror_mode": "text/x-scala",
   "file_extension": ".sc",
   "mimetype": "text/x-scala",
   "name": "scala",
   "nbconvert_exporter": "script",
   "version": "2.13.14"
  }
 },
 "nbformat": 4,
 "nbformat_minor": 5
}
