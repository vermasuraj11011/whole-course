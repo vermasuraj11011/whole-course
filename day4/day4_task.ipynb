{
 "cells": [
  {
   "cell_type": "markdown",
   "id": "e51649e16ad77e1c",
   "metadata": {},
   "source": [
    "# OOPs\n",
    "    * Encapsulation\n",
    "        - Class\n",
    "        - Object\n",
    "        - Instance\n",
    "        - Constructor\n",
    "        \n",
    "    * Abstraction\n",
    "        - Access Specifiers\n",
    "        \n",
    "    * Polymorphism\n",
    "        - Method Overloading\n",
    "        - Method Overriding\n",
    "    \n",
    "    * Inheritance\n",
    "        - Super Class & Sub Class\n",
    "        - Abstract Class\n",
    "        "
   ]
  },
  {
   "metadata": {},
   "cell_type": "markdown",
   "source": [
    "### Encapsulation\n",
    "    * Encapsulation is the technique of making the fields in a class private and providing access to the fields via public methods.\n",
    "    * If a field is declared private, it cannot be accessed by anyone outside the class, thereby hiding the fields within the class.\n",
    "    * To read or modify the field, you have to use the getter and setter methods.\n",
    "    * With this feature, you can make a class read-only or write-only. For example, you may want the \"salary\" field of an Employee class to be write-only. No one should be able to read it, but anyone should be able to modify it.\n",
    "    * Encapsulation is also known as data hiding."
   ],
   "id": "d9656d7a34002e40"
  },
  {
   "cell_type": "code",
   "id": "362371c86b66f9fa",
   "metadata": {
    "ExecuteTime": {
     "end_time": "2024-10-29T18:38:54.991587Z",
     "start_time": "2024-10-29T18:38:54.758800Z"
    }
   },
   "source": [
    "// Encapsulation\n",
    "\n",
    "class School(val name: String, val board: String, val students: Int, val medium: String, val city: String) {\n",
    "\n",
    "  def this(name: String) = this(name, \"CBSE\", 0, \"English\", School.cbseAddress)\n",
    "\n",
    "  def address: String = board match {\n",
    "    case \"CBSE\" => School.cbseAddress\n",
    "    case \"ICSE\" => School.icseAddress\n",
    "    case \"MPBoard\" => School.mpBoardAddress\n",
    "    case \"UPBoard\" => School.upBoardAddress\n",
    "    case _ => \"Unknown\"\n",
    "  }\n",
    "\n",
    "  def aboutSchool: String = s\"$name is located in $city and it is $medium school which is affiliated to $board board and its head office is in ${address}\"\n",
    "\n",
    "  override def toString: String = s\"School(name: $name,board: $board,students: $students,medium: $medium,city: $city)\"\n",
    "}\n",
    "\n",
    "object School {\n",
    "  val cbseAddress = \"Delhi\"\n",
    "  val icseAddress = \"Bangalore\"\n",
    "  val mpBoardAddress = \"Bhopal\"\n",
    "  val upBoardAddress = \"Lucknow\"\n",
    "}\n",
    "\n",
    "\n",
    "val ipsSchool = new School(name = \"IPS\", board = \"CBSE\", students = 2000, medium = \"English\", city = \"Indore\")\n",
    "println(\"\")\n",
    "println(ipsSchool)\n",
    "\n",
    "println(s\"name of the school is ${ipsSchool.name}\")\n"
   ],
   "outputs": [
    {
     "name": "stdout",
     "output_type": "stream",
     "text": [
      "\n",
      "School(name: IPS,board: CBSE,students: 2000,medium: English,city: Indore)\n",
      "name of the school is IPS\n"
     ]
    },
    {
     "data": {
      "text/plain": [
       "defined \u001B[32mclass\u001B[39m \u001B[36mSchool\u001B[39m\n",
       "defined \u001B[32mobject\u001B[39m \u001B[36mSchool\u001B[39m\n",
       "\u001B[36mipsSchool\u001B[39m: \u001B[32mSchool\u001B[39m = School(name: IPS,board: CBSE,students: 2000,medium: English,city: Indore)"
      ]
     },
     "execution_count": 12,
     "metadata": {},
     "output_type": "execute_result"
    }
   ],
   "execution_count": 12
  },
  {
   "metadata": {},
   "cell_type": "markdown",
   "source": [
    " ### Abstraction\n",
    "    * Abstraction is a process of hiding the implementation details and showing only functionality to the user.\n",
    "    * Abstraction lets you focus on what the object does instead of how it does it.\n",
    "    * Abstraction provides you a blueprint of a class and you can"
   ],
   "id": "5ade5402cc775624"
  },
  {
   "metadata": {
    "ExecuteTime": {
     "end_time": "2024-10-29T18:38:55.135200Z",
     "start_time": "2024-10-29T18:38:55.017321Z"
    }
   },
   "cell_type": "code",
   "source": [
    "// Abstraction\n",
    "// Access Specifiers (public, private, protected)\n",
    "// public - accessible from anywhere\n",
    "// private - accessible only within the class\n",
    "// protected - accessible within the class and its subclasses\n",
    "\n",
    "abstract class Animal {\n",
    "  def sound(): String\n",
    "\n",
    "  protected def sleep(): String = \"Sleeping\"\n",
    "}\n",
    "\n",
    "class Dog extends Animal {\n",
    "  def sound(): String = \"Bark\"\n",
    "\n",
    "  def showSleep(): String = sleep()\n",
    "}\n",
    "\n",
    "trait Pet {\n",
    "  def name(): String\n",
    "\n",
    "  private def secret(): String = \"This is a secret\"\n",
    "\n",
    "  def revealSecret(): String = secret()\n",
    "}\n",
    "\n",
    "class Cat extends Pet {\n",
    "  def name(): String = \"MyCat\"\n",
    "}\n",
    "\n",
    "val dog = new Dog\n",
    "println(dog.sound())\n",
    "println(dog.showSleep())\n",
    "\n",
    "val cat = new Cat\n",
    "println(cat.name())\n",
    "println(cat.revealSecret())\n"
   ],
   "id": "da91f0fea63223db",
   "outputs": [
    {
     "name": "stdout",
     "output_type": "stream",
     "text": [
      "Bark\n",
      "Sleeping\n",
      "MyCat\n",
      "This is a secret\n"
     ]
    },
    {
     "data": {
      "text/plain": [
       "defined \u001B[32mclass\u001B[39m \u001B[36mAnimal\u001B[39m\n",
       "defined \u001B[32mclass\u001B[39m \u001B[36mDog\u001B[39m\n",
       "defined \u001B[32mtrait\u001B[39m \u001B[36mPet\u001B[39m\n",
       "defined \u001B[32mclass\u001B[39m \u001B[36mCat\u001B[39m\n",
       "\u001B[36mdog\u001B[39m: \u001B[32mDog\u001B[39m = ammonite.$sess.cmd13$Helper$Dog@719fdcde\n",
       "\u001B[36mcat\u001B[39m: \u001B[32mCat\u001B[39m = ammonite.$sess.cmd13$Helper$Cat@34538433"
      ]
     },
     "execution_count": 13,
     "metadata": {},
     "output_type": "execute_result"
    }
   ],
   "execution_count": 13
  },
  {
   "metadata": {},
   "cell_type": "markdown",
   "source": [
    "### Polymorphism \n",
    "  * Method Overloading \n",
    "    - Compile Time Polymorphism (Static Polymorphism) \n",
    "    - Method Overloading is a feature that allows a class to have more than one method having the same name, if their argument lists are different.\n",
    "    - It is similar to constructor overloading in Java.\n",
    "\n",
    "  * Method Overriding\n",
    "    - Run Time Polymorphism (Dynamic Polymorphism)\n",
    "    - Method Overriding is a feature that allows a subclass to provide a specific implementation of a method that is already provided by its superclass.\n",
    "    - When a method in a subclass has the same name, same parameters or signature and same return type as a method in its super-class, then the method in the subclass is said to override the method in the super-class."
   ],
   "id": "44625bc9e6ec9507"
  },
  {
   "metadata": {
    "ExecuteTime": {
     "end_time": "2024-10-29T18:38:55.264642Z",
     "start_time": "2024-10-29T18:38:55.147695Z"
    }
   },
   "cell_type": "code",
   "source": [
    "// Polymorphism\n",
    "\n",
    "// Method Overloading\n",
    "class Calculator {\n",
    "  def add(a: Int, b: Int): Int = a + b\n",
    "\n",
    "  def add(a: Int, b: Int, c: Int): Int = a + b + c\n",
    "}\n",
    "\n",
    "val calc = new Calculator\n",
    "println(calc.add(10, 20))\n",
    "println(calc.add(10, 20, 30))\n",
    "\n",
    "// Method Overriding\n",
    "class Animal {\n",
    "  def sound(): String = \"Animal Sound\"\n",
    "}\n",
    "\n",
    "class Dog extends Animal {\n",
    "  override def sound(): String = \"Bark\"\n",
    "}\n",
    "\n",
    "val dog = new Dog\n",
    "println(dog.sound())"
   ],
   "id": "9fd108eec5ffddb9",
   "outputs": [
    {
     "name": "stdout",
     "output_type": "stream",
     "text": [
      "30\n",
      "60\n",
      "Bark\n"
     ]
    },
    {
     "data": {
      "text/plain": [
       "defined \u001B[32mclass\u001B[39m \u001B[36mCalculator\u001B[39m\n",
       "\u001B[36mcalc\u001B[39m: \u001B[32mCalculator\u001B[39m = ammonite.$sess.cmd14$Helper$Calculator@33517038\n",
       "defined \u001B[32mclass\u001B[39m \u001B[36mAnimal\u001B[39m\n",
       "defined \u001B[32mclass\u001B[39m \u001B[36mDog\u001B[39m\n",
       "\u001B[36mdog\u001B[39m: \u001B[32mDog\u001B[39m = ammonite.$sess.cmd14$Helper$Dog@60c2ab29"
      ]
     },
     "execution_count": 14,
     "metadata": {},
     "output_type": "execute_result"
    }
   ],
   "execution_count": 14
  },
  {
   "metadata": {},
   "cell_type": "markdown",
   "source": [
    "### Inheritance\n",
    "    * Inheritance is a mechanism in which one class acquires the property of another class.\n",
    "    * For example, a child inherits the traits of his/her parents. With inheritance, we can reuse the fields and methods of the existing class.\n",
    "    * Inheritance represents the IS-A relationship which is also known as a parent-child relationship.\n",
    "    * Super Class & Sub Class\n",
    "    * Abstract Class"
   ],
   "id": "2da10edfa06c440b"
  },
  {
   "metadata": {
    "ExecuteTime": {
     "end_time": "2024-10-29T18:38:55.395646Z",
     "start_time": "2024-10-29T18:38:55.276742Z"
    }
   },
   "cell_type": "code",
   "source": [
    "// Inheritance\n",
    "\n",
    "// Super Class & Sub Class\n",
    "class Animal {\n",
    "  def sound(): String = \"Animal Sound\"\n",
    "}\n",
    "\n",
    "class Dog extends Animal {\n",
    "  override def sound(): String = \"Bark\"\n",
    "}\n",
    "\n",
    "// animal is super class and dog is subclass\n",
    "val dog = new Dog\n",
    "println(dog.sound())"
   ],
   "id": "3aa95ec83abbcab4",
   "outputs": [
    {
     "name": "stdout",
     "output_type": "stream",
     "text": [
      "Bark\n"
     ]
    },
    {
     "data": {
      "text/plain": [
       "defined \u001B[32mclass\u001B[39m \u001B[36mAnimal\u001B[39m\n",
       "defined \u001B[32mclass\u001B[39m \u001B[36mDog\u001B[39m\n",
       "\u001B[36mdog\u001B[39m: \u001B[32mDog\u001B[39m = ammonite.$sess.cmd15$Helper$Dog@13bad69a"
      ]
     },
     "execution_count": 15,
     "metadata": {},
     "output_type": "execute_result"
    }
   ],
   "execution_count": 15
  },
  {
   "cell_type": "markdown",
   "id": "27719d8d5a124129",
   "metadata": {},
   "source": []
  },
  {
   "metadata": {
    "ExecuteTime": {
     "end_time": "2024-10-29T18:38:55.503671Z",
     "start_time": "2024-10-29T18:38:55.408879Z"
    }
   },
   "cell_type": "code",
   "source": [
    "// Abstract Class\n",
    "abstract class Animal {\n",
    "  def sound(): String\n",
    "}\n",
    "\n",
    "class Dog extends Animal {\n",
    "  def sound(): String = \"Bark\"\n",
    "}\n",
    "\n",
    "val dog = new Dog\n",
    "println(dog.sound())"
   ],
   "id": "4b3bf9caacb26d29",
   "outputs": [
    {
     "name": "stdout",
     "output_type": "stream",
     "text": [
      "Bark\n"
     ]
    },
    {
     "data": {
      "text/plain": [
       "defined \u001B[32mclass\u001B[39m \u001B[36mAnimal\u001B[39m\n",
       "defined \u001B[32mclass\u001B[39m \u001B[36mDog\u001B[39m\n",
       "\u001B[36mdog\u001B[39m: \u001B[32mDog\u001B[39m = ammonite.$sess.cmd16$Helper$Dog@76545bcc"
      ]
     },
     "execution_count": 16,
     "metadata": {},
     "output_type": "execute_result"
    }
   ],
   "execution_count": 16
  },
  {
   "metadata": {
    "ExecuteTime": {
     "end_time": "2024-10-29T18:38:55.600144Z",
     "start_time": "2024-10-29T18:38:55.512592Z"
    }
   },
   "cell_type": "code",
   "source": [
    "// multilevel inheritance\n",
    "class A() {\n",
    "  val a = \"A\"\n",
    "}\n",
    "\n",
    "class B() extends A() {\n",
    "  val b = \"B\"\n",
    "}\n",
    "\n",
    "class C() extends B() {\n",
    "  val c = \"C\"\n",
    "}\n",
    "\n",
    "\n",
    "val c = new C()\n",
    "println()\n",
    "println(c.a)\n",
    "println(c.b)"
   ],
   "id": "a48c2a61e32f71be",
   "outputs": [
    {
     "name": "stdout",
     "output_type": "stream",
     "text": [
      "\n",
      "A\n",
      "B\n"
     ]
    },
    {
     "data": {
      "text/plain": [
       "defined \u001B[32mclass\u001B[39m \u001B[36mA\u001B[39m\n",
       "defined \u001B[32mclass\u001B[39m \u001B[36mB\u001B[39m\n",
       "defined \u001B[32mclass\u001B[39m \u001B[36mC\u001B[39m\n",
       "\u001B[36mc\u001B[39m: \u001B[32mC\u001B[39m = ammonite.$sess.cmd17$Helper$C@6c54ba33"
      ]
     },
     "execution_count": 17,
     "metadata": {},
     "output_type": "execute_result"
    }
   ],
   "execution_count": 17
  },
  {
   "metadata": {
    "ExecuteTime": {
     "end_time": "2024-10-29T18:38:55.823892Z",
     "start_time": "2024-10-29T18:38:55.733881Z"
    }
   },
   "cell_type": "code",
   "source": [
    "// Multiple Inheritance\n",
    "trait A {\n",
    "  val a = \"A\"\n",
    "}\n",
    "\n",
    "trait B {\n",
    "  val b = \"B\"\n",
    "}\n",
    "\n",
    "class C extends A with B {\n",
    "  val c = \"C\"\n",
    "}\n",
    "\n",
    "val c = new C()\n",
    "println()\n",
    "println(c.a)\n",
    "println(c.b)"
   ],
   "id": "9590173c350701d7",
   "outputs": [
    {
     "name": "stdout",
     "output_type": "stream",
     "text": [
      "\n",
      "A\n",
      "B\n"
     ]
    },
    {
     "data": {
      "text/plain": [
       "defined \u001B[32mtrait\u001B[39m \u001B[36mA\u001B[39m\n",
       "defined \u001B[32mtrait\u001B[39m \u001B[36mB\u001B[39m\n",
       "defined \u001B[32mclass\u001B[39m \u001B[36mC\u001B[39m\n",
       "\u001B[36mc\u001B[39m: \u001B[32mC\u001B[39m = ammonite.$sess.cmd18$Helper$C@21648227"
      ]
     },
     "execution_count": 18,
     "metadata": {},
     "output_type": "execute_result"
    }
   ],
   "execution_count": 18
  }
 ],
 "metadata": {
  "kernelspec": {
   "display_name": "Scala",
   "language": "scala",
   "name": "scala"
  },
  "language_info": {
   "codemirror_mode": "text/x-scala",
   "file_extension": ".sc",
   "mimetype": "text/x-scala",
   "name": "scala",
   "nbconvert_exporter": "script",
   "version": "2.13.14"
  }
 },
 "nbformat": 4,
 "nbformat_minor": 5
}
