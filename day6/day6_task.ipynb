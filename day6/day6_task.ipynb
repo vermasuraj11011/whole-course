{
 "cells": [
  {
   "cell_type": "markdown",
   "id": "b4c3067ff19d9afb",
   "metadata": {},
   "source": [
    "## Day 6 \n",
    "\n",
    "### task 1\n",
    "\n",
    "    implicit conversion\n",
    "    implicit class and extend function     \n",
    "\n",
    "    1) crate a case class Student (sno, name, score)\n",
    "    2) process a list of students \n",
    "        - student with score > 70\n",
    "        - student whith score < 60\n",
    "    "
   ]
  },
  {
   "cell_type": "code",
   "id": "bfefa67ec77d8ca1",
   "metadata": {
    "ExecuteTime": {
     "end_time": "2024-11-04T16:55:30.729518Z",
     "start_time": "2024-11-04T16:55:29.876396Z"
    }
   },
   "source": "case class Student(sNo: Int, name: String, score: Int)",
   "outputs": [
    {
     "data": {
      "text/plain": [
       "defined \u001B[32mclass\u001B[39m \u001B[36mStudent\u001B[39m"
      ]
     },
     "execution_count": 1,
     "metadata": {},
     "output_type": "execute_result"
    }
   ],
   "execution_count": 1
  },
  {
   "cell_type": "code",
   "id": "8950d12a1a4bc263",
   "metadata": {
    "ExecuteTime": {
     "end_time": "2024-11-04T16:55:35.478489Z",
     "start_time": "2024-11-04T16:55:34.931521Z"
    }
   },
   "source": [
    "implicit class ListStudents(students: List[Student]) {\n",
    "  def %>(x: Int): List[Student] = students.filter(_.score > x)\n",
    "\n",
    "  def %<(x: Int): List[Student] = students.filter(_.score < x)\n",
    "}\n",
    "\n",
    "val students = List(Student(1, \"Suraj\", 78), Student(2, \"Shyam\", 60), Student(3, \"Ram\", 90), Student(4, \"Ghansham\", 67), Student(5, \"John\", 59), Student(6, \"Shown\", 40), Student(7, \"Mohan\", 70))\n",
    "\n",
    "val sudentGreaterThan70 = students %> 70\n",
    "val studentLessThan60 = students %< 60"
   ],
   "outputs": [
    {
     "data": {
      "text/plain": [
       "defined \u001B[32mclass\u001B[39m \u001B[36mListStudents\u001B[39m\n",
       "\u001B[36mstudents\u001B[39m: \u001B[32mList\u001B[39m[\u001B[32mStudent\u001B[39m] = \u001B[33mList\u001B[39m(\n",
       "  \u001B[33mStudent\u001B[39m(sNo = \u001B[32m1\u001B[39m, name = \u001B[32m\"Suraj\"\u001B[39m, score = \u001B[32m78\u001B[39m),\n",
       "  \u001B[33mStudent\u001B[39m(sNo = \u001B[32m2\u001B[39m, name = \u001B[32m\"Shyam\"\u001B[39m, score = \u001B[32m60\u001B[39m),\n",
       "  \u001B[33mStudent\u001B[39m(sNo = \u001B[32m3\u001B[39m, name = \u001B[32m\"Ram\"\u001B[39m, score = \u001B[32m90\u001B[39m),\n",
       "  \u001B[33mStudent\u001B[39m(sNo = \u001B[32m4\u001B[39m, name = \u001B[32m\"Ghansham\"\u001B[39m, score = \u001B[32m67\u001B[39m),\n",
       "  \u001B[33mStudent\u001B[39m(sNo = \u001B[32m5\u001B[39m, name = \u001B[32m\"John\"\u001B[39m, score = \u001B[32m59\u001B[39m),\n",
       "  \u001B[33mStudent\u001B[39m(sNo = \u001B[32m6\u001B[39m, name = \u001B[32m\"Shown\"\u001B[39m, score = \u001B[32m40\u001B[39m),\n",
       "  \u001B[33mStudent\u001B[39m(sNo = \u001B[32m7\u001B[39m, name = \u001B[32m\"Mohan\"\u001B[39m, score = \u001B[32m70\u001B[39m)\n",
       ")\n",
       "\u001B[36msudentGreaterThan70\u001B[39m: \u001B[32mList\u001B[39m[\u001B[32mStudent\u001B[39m] = \u001B[33mList\u001B[39m(\n",
       "  \u001B[33mStudent\u001B[39m(sNo = \u001B[32m1\u001B[39m, name = \u001B[32m\"Suraj\"\u001B[39m, score = \u001B[32m78\u001B[39m),\n",
       "  \u001B[33mStudent\u001B[39m(sNo = \u001B[32m3\u001B[39m, name = \u001B[32m\"Ram\"\u001B[39m, score = \u001B[32m90\u001B[39m)\n",
       ")\n",
       "\u001B[36mstudentLessThan60\u001B[39m: \u001B[32mList\u001B[39m[\u001B[32mStudent\u001B[39m] = \u001B[33mList\u001B[39m(\n",
       "  \u001B[33mStudent\u001B[39m(sNo = \u001B[32m5\u001B[39m, name = \u001B[32m\"John\"\u001B[39m, score = \u001B[32m59\u001B[39m),\n",
       "  \u001B[33mStudent\u001B[39m(sNo = \u001B[32m6\u001B[39m, name = \u001B[32m\"Shown\"\u001B[39m, score = \u001B[32m40\u001B[39m)\n",
       ")"
      ]
     },
     "execution_count": 2,
     "metadata": {},
     "output_type": "execute_result"
    }
   ],
   "execution_count": 2
  },
  {
   "metadata": {},
   "cell_type": "markdown",
   "source": [
    "## task 2\n",
    "    extend a add method in the student collection where one can pass the tuple (int, string, int) to add the student in the list\n"
   ],
   "id": "de5e533dfe7eff38"
  },
  {
   "metadata": {
    "ExecuteTime": {
     "end_time": "2024-11-04T16:55:37.865750Z",
     "start_time": "2024-11-04T16:55:37.526345Z"
    }
   },
   "cell_type": "code",
   "source": [
    "import scala.collection.mutable.ListBuffer\n",
    "\n",
    "class StudentOps(var students: ListBuffer[Student]) {\n",
    "  def add(student: Student): Unit = {\n",
    "    students.append(student)\n",
    "  }\n",
    "\n",
    "  def add(student: (Int, String, Int)): Unit = {\n",
    "    students.append(Student(student._1, student._2, student._3))\n",
    "  }\n",
    "}\n",
    "\n",
    "val students = ListBuffer(\n",
    "  Student(1, \"Suraj\", 78),\n",
    "  Student(2, \"Shyam\", 60)\n",
    ")\n",
    "\n",
    "val studentOps = new StudentOps(students)\n",
    "studentOps.add(Student(3, \"Tom\", 89))\n",
    "studentOps.add((4, \"Robin\", 90))\n",
    "\n",
    "println(students)"
   ],
   "id": "bb73d2559d93ee06",
   "outputs": [
    {
     "name": "stdout",
     "output_type": "stream",
     "text": [
      "ListBuffer(Student(1,Suraj,78), Student(2,Shyam,60), Student(3,Tom,89), Student(4,Robin,90))\n"
     ]
    },
    {
     "data": {
      "text/plain": [
       "\u001B[32mimport \u001B[39m\u001B[36mscala.collection.mutable.ListBuffer\u001B[39m\n",
       "defined \u001B[32mclass\u001B[39m \u001B[36mStudentOps\u001B[39m\n",
       "\u001B[36mstudents\u001B[39m: \u001B[32mListBuffer\u001B[39m[\u001B[32mStudent\u001B[39m] = \u001B[33mListBuffer\u001B[39m(\n",
       "  \u001B[33mStudent\u001B[39m(sNo = \u001B[32m1\u001B[39m, name = \u001B[32m\"Suraj\"\u001B[39m, score = \u001B[32m78\u001B[39m),\n",
       "  \u001B[33mStudent\u001B[39m(sNo = \u001B[32m2\u001B[39m, name = \u001B[32m\"Shyam\"\u001B[39m, score = \u001B[32m60\u001B[39m),\n",
       "  \u001B[33mStudent\u001B[39m(sNo = \u001B[32m3\u001B[39m, name = \u001B[32m\"Tom\"\u001B[39m, score = \u001B[32m89\u001B[39m),\n",
       "  \u001B[33mStudent\u001B[39m(sNo = \u001B[32m4\u001B[39m, name = \u001B[32m\"Robin\"\u001B[39m, score = \u001B[32m90\u001B[39m)\n",
       ")\n",
       "\u001B[36mstudentOps\u001B[39m: \u001B[32mStudentOps\u001B[39m = ammonite.$sess.cmd3$Helper$StudentOps@fee275f"
      ]
     },
     "execution_count": 3,
     "metadata": {},
     "output_type": "execute_result"
    }
   ],
   "execution_count": 3
  },
  {
   "metadata": {},
   "cell_type": "markdown",
   "source": [
    "### Task 3\n",
    "    extent a filterRecord method which will flter the students record on the basic of the lambda function "
   ],
   "id": "49069a28a5daa96b"
  },
  {
   "metadata": {
    "ExecuteTime": {
     "end_time": "2024-11-04T16:55:40.814183Z",
     "start_time": "2024-11-04T16:55:40.549512Z"
    }
   },
   "cell_type": "code",
   "source": [
    "implicit class ArrayFilter(students: Array[Student]) {\n",
    "  def filterRecord(x: Student => Boolean): Array[Student] = students.filter(x)\n",
    "}\n",
    "\n",
    "val students = Array(\n",
    "  Student(1, \"Suraj\", 74),\n",
    "  Student(2, \"Shyam\", 60),\n",
    "  Student(3, \"Ram\", 90),\n",
    "  Student(4, \"Tom\", 78),\n",
    "  Student(5, \"Shaun\", 71),\n",
    "  Student(6, \"Tom\", 66),\n",
    "  Student(7, \"Tom\", 94)\n",
    ")\n",
    "\n",
    "students.filterRecord(x => x.score == 78)\n",
    "students.filterRecord(x => x.name.startsWith(\"S\"))\n",
    "students.filterRecord(x => x.name.contains(\"a\"))\n",
    "students.filterRecord(x => x.score > 70 && x.score < 90)"
   ],
   "id": "c7ff9679c1bcbc8",
   "outputs": [
    {
     "data": {
      "text/plain": [
       "defined \u001B[32mclass\u001B[39m \u001B[36mArrayFilter\u001B[39m\n",
       "\u001B[36mstudents\u001B[39m: \u001B[32mArray\u001B[39m[\u001B[32mStudent\u001B[39m] = \u001B[33mArray\u001B[39m(\n",
       "  \u001B[33mStudent\u001B[39m(sNo = \u001B[32m1\u001B[39m, name = \u001B[32m\"Suraj\"\u001B[39m, score = \u001B[32m74\u001B[39m),\n",
       "  \u001B[33mStudent\u001B[39m(sNo = \u001B[32m2\u001B[39m, name = \u001B[32m\"Shyam\"\u001B[39m, score = \u001B[32m60\u001B[39m),\n",
       "  \u001B[33mStudent\u001B[39m(sNo = \u001B[32m3\u001B[39m, name = \u001B[32m\"Ram\"\u001B[39m, score = \u001B[32m90\u001B[39m),\n",
       "  \u001B[33mStudent\u001B[39m(sNo = \u001B[32m4\u001B[39m, name = \u001B[32m\"Tom\"\u001B[39m, score = \u001B[32m78\u001B[39m),\n",
       "  \u001B[33mStudent\u001B[39m(sNo = \u001B[32m5\u001B[39m, name = \u001B[32m\"Shaun\"\u001B[39m, score = \u001B[32m71\u001B[39m),\n",
       "  \u001B[33mStudent\u001B[39m(sNo = \u001B[32m6\u001B[39m, name = \u001B[32m\"Tom\"\u001B[39m, score = \u001B[32m66\u001B[39m),\n",
       "  \u001B[33mStudent\u001B[39m(sNo = \u001B[32m7\u001B[39m, name = \u001B[32m\"Tom\"\u001B[39m, score = \u001B[32m94\u001B[39m)\n",
       ")\n",
       "\u001B[36mres4_2\u001B[39m: \u001B[32mArray\u001B[39m[\u001B[32mStudent\u001B[39m] = \u001B[33mArray\u001B[39m(\u001B[33mStudent\u001B[39m(sNo = \u001B[32m4\u001B[39m, name = \u001B[32m\"Tom\"\u001B[39m, score = \u001B[32m78\u001B[39m))\n",
       "\u001B[36mres4_3\u001B[39m: \u001B[32mArray\u001B[39m[\u001B[32mStudent\u001B[39m] = \u001B[33mArray\u001B[39m(\n",
       "  \u001B[33mStudent\u001B[39m(sNo = \u001B[32m1\u001B[39m, name = \u001B[32m\"Suraj\"\u001B[39m, score = \u001B[32m74\u001B[39m),\n",
       "  \u001B[33mStudent\u001B[39m(sNo = \u001B[32m2\u001B[39m, name = \u001B[32m\"Shyam\"\u001B[39m, score = \u001B[32m60\u001B[39m),\n",
       "  \u001B[33mStudent\u001B[39m(sNo = \u001B[32m5\u001B[39m, name = \u001B[32m\"Shaun\"\u001B[39m, score = \u001B[32m71\u001B[39m)\n",
       ")\n",
       "\u001B[36mres4_4\u001B[39m: \u001B[32mArray\u001B[39m[\u001B[32mStudent\u001B[39m] = \u001B[33mArray\u001B[39m(\n",
       "  \u001B[33mStudent\u001B[39m(sNo = \u001B[32m1\u001B[39m, name = \u001B[32m\"Suraj\"\u001B[39m, score = \u001B[32m74\u001B[39m),\n",
       "  \u001B[33mStudent\u001B[39m(sNo = \u001B[32m2\u001B[39m, name = \u001B[32m\"Shyam\"\u001B[39m, score = \u001B[32m60\u001B[39m),\n",
       "  \u001B[33mStudent\u001B[39m(sNo = \u001B[32m3\u001B[39m, name = \u001B[32m\"Ram\"\u001B[39m, score = \u001B[32m90\u001B[39m),\n",
       "  \u001B[33mStudent\u001B[39m(sNo = \u001B[32m5\u001B[39m, name = \u001B[32m\"Shaun\"\u001B[39m, score = \u001B[32m71\u001B[39m)\n",
       ")\n",
       "\u001B[36mres4_5\u001B[39m: \u001B[32mArray\u001B[39m[\u001B[32mStudent\u001B[39m] = \u001B[33mArray\u001B[39m(\n",
       "  \u001B[33mStudent\u001B[39m(sNo = \u001B[32m1\u001B[39m, name = \u001B[32m\"Suraj\"\u001B[39m, score = \u001B[32m74\u001B[39m),\n",
       "  \u001B[33mStudent\u001B[39m(sNo = \u001B[32m4\u001B[39m, name = \u001B[32m\"Tom\"\u001B[39m, score = \u001B[32m78\u001B[39m),\n",
       "  \u001B[33mStudent\u001B[39m(sNo = \u001B[32m5\u001B[39m, name = \u001B[32m\"Shaun\"\u001B[39m, score = \u001B[32m71\u001B[39m)\n",
       ")"
      ]
     },
     "execution_count": 4,
     "metadata": {},
     "output_type": "execute_result"
    }
   ],
   "execution_count": 4
  },
  {
   "metadata": {},
   "cell_type": "markdown",
   "source": [
    "### Task 4:\n",
    "\n",
    "    declare a array of tuple like this\n",
    "\n",
    "    val records = Array(\n",
    "      (1, \"Alice\", 85), (2, \"Bob\", 92), (3, \"Charlie\", 78), (4, \"David\", 66), (5, \"Eve\", 90),\n",
    "      (6, \"Frank\", 73), (7, \"Grace\", 88), (8, \"Hannah\", 91), (9, \"Isaac\", 84), (10, \"Judy\", 76),\n",
    "      (11, \"Kevin\", 82), (12, \"Laura\", 79), (13, \"Mike\", 95), (14, \"Nina\", 70), (15, \"Oscar\", 89),\n",
    "      (16, \"Paul\", 80), (17, \"Quinn\", 77), (18, \"Rachel\", 93), (19, \"Sam\", 85), (20, \"Tina\", 74),\n",
    "      (21, \"Uma\", 69), (22, \"Victor\", 96), (23, \"Wendy\", 87), (24, \"Xander\", 68), (25, \"Yara\", 94),\n",
    "      (26, \"Zane\", 81), (27, \"Oliver\", 78), (28, \"Sophia\", 85), (29, \"Liam\", 90), (30, \"Mia\", 83),\n",
    "      (31, \"Noah\", 88), (32, \"Emma\", 75), (33, \"Ava\", 92), (34, \"William\", 86), (35, \"James\", 91),\n",
    "      (36, \"Lucas\", 72), (37, \"Amelia\", 79), (38, \"Ella\", 89), (39, \"Mason\", 76), (40, \"Logan\", 95),\n",
    "      (41, \"Ethan\", 84), (42, \"Charlotte\", 82), (43, \"Benjamin\", 80), (44, \"Alexander\", 71),\n",
    "      (45, \"Michael\", 88), (46, \"Isabella\", 73), (47, \"Daniel\", 86), (48, \"Elijah\", 81),\n",
    "      (49, \"Matthew\", 79), (50, \"Jackson\", 92)\n",
    "    )\n",
    "\n",
    "    in the StudentOps function defined earlier\n",
    "    add a function filterStudents(x:Student => Boolean): List[Student]\n",
    "    \n",
    "    and Array[Student] should be implicitly converted into List[Student]\n",
    "    \n",
    "    Eventhough we use record variable which is array type we must\n",
    "    be able to call filterStudents\n",
    "    \n",
    "    Test the filterStudents functions with records variable"
   ],
   "id": "73e44265940b523"
  },
  {
   "metadata": {
    "ExecuteTime": {
     "end_time": "2024-11-04T16:55:44.795855Z",
     "start_time": "2024-11-04T16:55:44.397970Z"
    }
   },
   "cell_type": "code",
   "source": [
    "val records: Array[(Int, String, Int)] = Array(\n",
    "  (1, \"Alice\", 85), (2, \"Bob\", 92), (3, \"Charlie\", 78), (4, \"David\", 66), (5, \"Eve\", 90),\n",
    "  (6, \"Frank\", 73), (7, \"Grace\", 88), (8, \"Hannah\", 91), (9, \"Isaac\", 84), (10, \"Judy\", 76),\n",
    "  (11, \"Kevin\", 82), (12, \"Laura\", 79), (13, \"Mike\", 95), (14, \"Nina\", 70), (15, \"Oscar\", 89),\n",
    "  (16, \"Paul\", 80), (17, \"Quinn\", 77), (18, \"Rachel\", 93), (19, \"Sam\", 85), (20, \"Tina\", 74),\n",
    "  (21, \"Uma\", 69), (22, \"Victor\", 96), (23, \"Wendy\", 87), (24, \"Xander\", 68), (25, \"Yara\", 94),\n",
    "  (26, \"Zane\", 81), (27, \"Oliver\", 78), (28, \"Sophia\", 85), (29, \"Liam\", 90), (30, \"Mia\", 83),\n",
    "  (31, \"Noah\", 88), (32, \"Emma\", 75), (33, \"Ava\", 92), (34, \"William\", 86), (35, \"James\", 91),\n",
    "  (36, \"Lucas\", 72), (37, \"Amelia\", 79), (38, \"Ella\", 89), (39, \"Mason\", 76), (40, \"Logan\", 95),\n",
    "  (41, \"Ethan\", 84), (42, \"Charlotte\", 82), (43, \"Benjamin\", 80), (44, \"Alexander\", 71),\n",
    "  (45, \"Michael\", 88), (46, \"Isabella\", 73), (47, \"Daniel\", 86), (48, \"Elijah\", 81),\n",
    "  (49, \"Matthew\", 79), (50, \"Jackson\", 92)\n",
    ")\n",
    "\n",
    "import scala.collection.immutable.ArraySeq\n",
    "import scala.collection.mutable.ListBuffer\n",
    "import scala.language.implicitConversions\n",
    "\n",
    "class StudentOps(var students: ListBuffer[Student]) {\n",
    "  def add(student: Student): Unit = students.append(student)\n",
    "\n",
    "  def add(student: (Int, String, Int)): Unit = students.append(Student(student._1, student._2, student._3))\n",
    "\n",
    "  def add(students: Array[(Int, String, Int)]): Unit = students.foreach(add)\n",
    "\n",
    "  def filter(fn: Student => Boolean): List[Student] = students.toList.filter(fn)\n",
    "}\n",
    "\n",
    "implicit def tupleToStudent(students: Array[(Int, String, Int)]): ListBuffer[Student] = {\n",
    "  val list = ListBuffer.empty[Student]\n",
    "  for (i <- 0 until students.length) {\n",
    "    val tuple = students(i)\n",
    "    list.append(Student(tuple._1, tuple._2, tuple._3))\n",
    "  }\n",
    "  list\n",
    "}\n",
    "\n",
    "// one more way to convert\n",
    "\n",
    "object ImplicitConversions {\n",
    "  // Convert a tuple (Int, String, Int) to a Student\n",
    "  implicit def tupleToStudent(tuple: (Int, String, Int)): Student =\n",
    "    Student(tuple._1, tuple._2, tuple._3)\n",
    "\n",
    "  implicit def arrayToList[T](array: Array[T]): List[T] = {\n",
    "    def convert(index: Int, acc: List[T]): List[T] = {\n",
    "      if (index < 0) acc // Base case: return accumulated list when index is out of bounds\n",
    "      else convert(index - 1, array(index) :: acc) // Prepend element at current index and decrement\n",
    "    }\n",
    "\n",
    "    convert(array.length - 1, Nil) // Start converting from the last element to the first\n",
    "  }\n",
    "}\n",
    "\n",
    "val studentOps = new StudentOps(records)\n",
    "\n",
    "// Test filters\n",
    "val score88Students = studentOps.filter(emp => emp.score == 88)\n",
    "val sNameStudents = studentOps.filter(emp => emp.name.startsWith(\"S\"))"
   ],
   "id": "1ba8a58384bbe911",
   "outputs": [
    {
     "data": {
      "text/plain": [
       "\u001B[36mrecords\u001B[39m: \u001B[32mArray\u001B[39m[(\u001B[32mInt\u001B[39m, \u001B[32mString\u001B[39m, \u001B[32mInt\u001B[39m)] = \u001B[33mArray\u001B[39m(\n",
       "  (\u001B[32m1\u001B[39m, \u001B[32m\"Alice\"\u001B[39m, \u001B[32m85\u001B[39m),\n",
       "  (\u001B[32m2\u001B[39m, \u001B[32m\"Bob\"\u001B[39m, \u001B[32m92\u001B[39m),\n",
       "  (\u001B[32m3\u001B[39m, \u001B[32m\"Charlie\"\u001B[39m, \u001B[32m78\u001B[39m),\n",
       "  (\u001B[32m4\u001B[39m, \u001B[32m\"David\"\u001B[39m, \u001B[32m66\u001B[39m),\n",
       "  (\u001B[32m5\u001B[39m, \u001B[32m\"Eve\"\u001B[39m, \u001B[32m90\u001B[39m),\n",
       "  (\u001B[32m6\u001B[39m, \u001B[32m\"Frank\"\u001B[39m, \u001B[32m73\u001B[39m),\n",
       "  (\u001B[32m7\u001B[39m, \u001B[32m\"Grace\"\u001B[39m, \u001B[32m88\u001B[39m),\n",
       "  (\u001B[32m8\u001B[39m, \u001B[32m\"Hannah\"\u001B[39m, \u001B[32m91\u001B[39m),\n",
       "  (\u001B[32m9\u001B[39m, \u001B[32m\"Isaac\"\u001B[39m, \u001B[32m84\u001B[39m),\n",
       "  (\u001B[32m10\u001B[39m, \u001B[32m\"Judy\"\u001B[39m, \u001B[32m76\u001B[39m),\n",
       "  (\u001B[32m11\u001B[39m, \u001B[32m\"Kevin\"\u001B[39m, \u001B[32m82\u001B[39m),\n",
       "  (\u001B[32m12\u001B[39m, \u001B[32m\"Laura\"\u001B[39m, \u001B[32m79\u001B[39m),\n",
       "  (\u001B[32m13\u001B[39m, \u001B[32m\"Mike\"\u001B[39m, \u001B[32m95\u001B[39m),\n",
       "  (\u001B[32m14\u001B[39m, \u001B[32m\"Nina\"\u001B[39m, \u001B[32m70\u001B[39m),\n",
       "  (\u001B[32m15\u001B[39m, \u001B[32m\"Oscar\"\u001B[39m, \u001B[32m89\u001B[39m),\n",
       "  (\u001B[32m16\u001B[39m, \u001B[32m\"Paul\"\u001B[39m, \u001B[32m80\u001B[39m),\n",
       "  (\u001B[32m17\u001B[39m, \u001B[32m\"Quinn\"\u001B[39m, \u001B[32m77\u001B[39m),\n",
       "  (\u001B[32m18\u001B[39m, \u001B[32m\"Rachel\"\u001B[39m, \u001B[32m93\u001B[39m),\n",
       "  (\u001B[32m19\u001B[39m, \u001B[32m\"Sam\"\u001B[39m, \u001B[32m85\u001B[39m),\n",
       "  (\u001B[32m20\u001B[39m, \u001B[32m\"Tina\"\u001B[39m, \u001B[32m74\u001B[39m),\n",
       "  (\u001B[32m21\u001B[39m, \u001B[32m\"Uma\"\u001B[39m, \u001B[32m69\u001B[39m),\n",
       "  (\u001B[32m22\u001B[39m, \u001B[32m\"Victor\"\u001B[39m, \u001B[32m96\u001B[39m),\n",
       "  (\u001B[32m23\u001B[39m, \u001B[32m\"Wendy\"\u001B[39m, \u001B[32m87\u001B[39m),\n",
       "  (\u001B[32m24\u001B[39m, \u001B[32m\"Xander\"\u001B[39m, \u001B[32m68\u001B[39m),\n",
       "  (\u001B[32m25\u001B[39m, \u001B[32m\"Yara\"\u001B[39m, \u001B[32m94\u001B[39m),\n",
       "  (\u001B[32m26\u001B[39m, \u001B[32m\"Zane\"\u001B[39m, \u001B[32m81\u001B[39m),\n",
       "  (\u001B[32m27\u001B[39m, \u001B[32m\"Oliver\"\u001B[39m, \u001B[32m78\u001B[39m),\n",
       "  (\u001B[32m28\u001B[39m, \u001B[32m\"Sophia\"\u001B[39m, \u001B[32m85\u001B[39m),\n",
       "  (\u001B[32m29\u001B[39m, \u001B[32m\"Liam\"\u001B[39m, \u001B[32m90\u001B[39m),\n",
       "  (\u001B[32m30\u001B[39m, \u001B[32m\"Mia\"\u001B[39m, \u001B[32m83\u001B[39m),\n",
       "  (\u001B[32m31\u001B[39m, \u001B[32m\"Noah\"\u001B[39m, \u001B[32m88\u001B[39m),\n",
       "  (\u001B[32m32\u001B[39m, \u001B[32m\"Emma\"\u001B[39m, \u001B[32m75\u001B[39m),\n",
       "  (\u001B[32m33\u001B[39m, \u001B[32m\"Ava\"\u001B[39m, \u001B[32m92\u001B[39m),\n",
       "  (\u001B[32m34\u001B[39m, \u001B[32m\"William\"\u001B[39m, \u001B[32m86\u001B[39m),\n",
       "  (\u001B[32m35\u001B[39m, \u001B[32m\"James\"\u001B[39m, \u001B[32m91\u001B[39m),\n",
       "  (\u001B[32m36\u001B[39m, \u001B[32m\"Lucas\"\u001B[39m, \u001B[32m72\u001B[39m),\n",
       "  (\u001B[32m37\u001B[39m, \u001B[32m\"Amelia\"\u001B[39m, \u001B[32m79\u001B[39m),\n",
       "  (\u001B[32m38\u001B[39m, \u001B[32m\"Ella\"\u001B[39m, \u001B[32m89\u001B[39m),\n",
       "...\n",
       "\u001B[32mimport \u001B[39m\u001B[36mscala.collection.immutable.ArraySeq\u001B[39m\n",
       "\u001B[32mimport \u001B[39m\u001B[36mscala.collection.mutable.ListBuffer\u001B[39m\n",
       "\u001B[32mimport \u001B[39m\u001B[36mscala.language.implicitConversions\u001B[39m\n",
       "defined \u001B[32mclass\u001B[39m \u001B[36mStudentOps\u001B[39m\n",
       "defined \u001B[32mfunction\u001B[39m \u001B[36mtupleToStudent\u001B[39m\n",
       "defined \u001B[32mobject\u001B[39m \u001B[36mImplicitConversions\u001B[39m\n",
       "\u001B[36mstudentOps\u001B[39m: \u001B[32mStudentOps\u001B[39m = ammonite.$sess.cmd5$Helper$StudentOps@705ff6a5\n",
       "\u001B[36mscore88Students\u001B[39m: \u001B[32mList\u001B[39m[\u001B[32mStudent\u001B[39m] = \u001B[33mList\u001B[39m(\n",
       "  \u001B[33mStudent\u001B[39m(sNo = \u001B[32m7\u001B[39m, name = \u001B[32m\"Grace\"\u001B[39m, score = \u001B[32m88\u001B[39m),\n",
       "  \u001B[33mStudent\u001B[39m(sNo = \u001B[32m31\u001B[39m, name = \u001B[32m\"Noah\"\u001B[39m, score = \u001B[32m88\u001B[39m),\n",
       "  \u001B[33mStudent\u001B[39m(sNo = \u001B[32m45\u001B[39m, name = \u001B[32m\"Michael\"\u001B[39m, score = \u001B[32m88\u001B[39m)\n",
       ")\n",
       "\u001B[36msNameStudents\u001B[39m: \u001B[32mList\u001B[39m[\u001B[32mStudent\u001B[39m] = \u001B[33mList\u001B[39m(\n",
       "  \u001B[33mStudent\u001B[39m(sNo = \u001B[32m19\u001B[39m, name = \u001B[32m\"Sam\"\u001B[39m, score = \u001B[32m85\u001B[39m),\n",
       "  \u001B[33mStudent\u001B[39m(sNo = \u001B[32m28\u001B[39m, name = \u001B[32m\"Sophia\"\u001B[39m, score = \u001B[32m85\u001B[39m)\n",
       ")"
      ]
     },
     "execution_count": 5,
     "metadata": {},
     "output_type": "execute_result"
    }
   ],
   "execution_count": 5
  },
  {
   "metadata": {},
   "cell_type": "markdown",
   "source": [
    "### Task 5\n",
    "    Create an application that asks you to enter (sno,name,city,department) and add the the tuple record in the appropriate deparment and print the organization tree. Create a tree data structure of your own Note: Do not use map or any other collection and for representing (sno,name,city) use tuple and the application must be interactive need to stop when you say exit\n",
    " \n",
    "    Organization\n",
    "    └── Finance\n",
    "        ├── Payments\n",
    "        │   ├── (1,Ravi,Chennai)\n",
    "        │   ├── (2,Ram,Chennai)\n",
    "        │   \n",
    "        └── Sales\n",
    "            ├── Marketing\n",
    "            │   ├── (3,\"Rohan\",\"Kolkata\")\n",
    "            │   ├── (4,\"RAkesh\",\"Mumbai\")\n",
    "            │ \n",
    "            ├── (5,Ravi,Mumbai)\n",
    "            ├\n",
    "            ├── Advertisements\n",
    "            │   ├── (6,Ricky,Chennai)\n",
    "            │  \n",
    "            └── SalesManagement"
   ],
   "id": "c18107891ea1a96b"
  },
  {
   "metadata": {
    "ExecuteTime": {
     "end_time": "2024-11-04T16:55:50.387699Z",
     "start_time": "2024-11-04T16:55:50.121472Z"
    }
   },
   "cell_type": "code",
   "source": [
    "case class Employee(var sno: Int, var name: String, var city: String) {\n",
    "  override def toString: String = s\"Emp(sno: $sno, name: $name, city: $city)\"\n",
    "}\n",
    "\n",
    "case class OrgNode(name: String, var parent: OrgNode, var children: List[OrgNode], var emp: List[Employee]) {\n",
    "  override def toString: String = s\"Org(name: ${name}, parent: ${parent.name}, children: ${children}, emp: $emp\"\n",
    "}"
   ],
   "id": "88fbf0ff0deae349",
   "outputs": [
    {
     "data": {
      "text/plain": [
       "defined \u001B[32mclass\u001B[39m \u001B[36mEmployee\u001B[39m\n",
       "defined \u001B[32mclass\u001B[39m \u001B[36mOrgNode\u001B[39m"
      ]
     },
     "execution_count": 6,
     "metadata": {},
     "output_type": "execute_result"
    }
   ],
   "execution_count": 6
  },
  {
   "metadata": {
    "ExecuteTime": {
     "end_time": "2024-11-04T16:56:37.129110Z",
     "start_time": "2024-11-04T16:56:36.964592Z"
    }
   },
   "cell_type": "code",
   "source": [
    "import scala.io.StdIn.readLine\n",
    "import scala.util.matching.Regex\n",
    "\n",
    "var root: OrgNode = OrgNode(\"Apple\", null, List.empty[OrgNode], null)"
   ],
   "id": "fff3692f5ec837fc",
   "outputs": [
    {
     "data": {
      "text/plain": [
       "\u001B[32mimport \u001B[39m\u001B[36mscala.io.StdIn.readLine\u001B[39m\n",
       "\u001B[32mimport \u001B[39m\u001B[36mscala.util.matching.Regex\u001B[39m\n",
       "\u001B[36mroot\u001B[39m: \u001B[32mOrgNode\u001B[39m = \u001B[33mOrgNode\u001B[39m(\n",
       "  name = \u001B[32m\"Apple\"\u001B[39m,\n",
       "  parent = \u001B[32mnull\u001B[39m,\n",
       "  children = \u001B[33mList\u001B[39m(),\n",
       "  emp = \u001B[32mnull\u001B[39m\n",
       ")"
      ],
      "text/html": [
       "<div class=\"jp-RenderedText\">\n",
       "<pre><code><span style=\"color: rgb(0, 187, 0)\"><span class=\"ansi-green-fg\">import </span></span><span style=\"color: rgb(0, 187, 187)\"><span class=\"ansi-cyan-fg\">scala.io.StdIn.readLine</span></span>\n",
       "<span style=\"color: rgb(0, 187, 0)\"><span class=\"ansi-green-fg\">import </span></span><span style=\"color: rgb(0, 187, 187)\"><span class=\"ansi-cyan-fg\">scala.util.matching.Regex</span></span>\n",
       "<span style=\"color: rgb(0, 187, 187)\"><span class=\"ansi-cyan-fg\">root</span></span>: <span style=\"color: rgb(0, 187, 0)\"><span class=\"ansi-green-fg\">OrgNode</span></span> = <span style=\"color: yellow\"><span class=\"ansi-yellow-fg\">OrgNode</span></span>(\n",
       "  name = <span style=\"color: rgb(0, 187, 0)\"><span class=\"ansi-green-fg\">&quot;Apple&quot;</span></span>,\n",
       "  parent = <span style=\"color: rgb(0, 187, 0)\"><span class=\"ansi-green-fg\">null</span></span>,\n",
       "  children = <span style=\"color: yellow\"><span class=\"ansi-yellow-fg\">List</span></span>(),\n",
       "  emp = <span style=\"color: rgb(0, 187, 0)\"><span class=\"ansi-green-fg\">null</span></span>\n",
       ")</code></pre>\n",
       "</div>"
      ]
     },
     "metadata": {},
     "output_type": "display_data"
    }
   ],
   "execution_count": 11
  },
  {
   "metadata": {
    "ExecuteTime": {
     "end_time": "2024-11-04T16:56:44.239672Z",
     "start_time": "2024-11-04T16:56:44.109827Z"
    }
   },
   "cell_type": "code",
   "source": [
    "// this is to print the org structure when the user will press \"p\"\n",
    "def printOrg(node: OrgNode, prefix: String = \"\", isLast: Boolean = true, isRoot: Boolean = true): Unit = {\n",
    "  if (isRoot) {\n",
    "    println(node.name)\n",
    "  } else {\n",
    "    val connector = if (isLast) \"└── \" else \"├── \"\n",
    "    println(s\"$prefix$connector${node.name}\")\n",
    "  }\n",
    "\n",
    "  val childPrefix = if (isLast) prefix + \"    \" else prefix + \"│   \"\n",
    "\n",
    "  if (node.emp != null && node.emp.nonEmpty) {\n",
    "    node.emp.zipWithIndex.foreach { case (emp, empIndex) =>\n",
    "      val empConnector = if (empIndex == node.emp.length - 1 && node.children.isEmpty) \"└── \" else \"├── \"\n",
    "      println(s\"$childPrefix$empConnector(${emp.sno}, ${emp.name}, ${emp.city})\")\n",
    "    }\n",
    "  }\n",
    "\n",
    "  if (node.children != null && node.children.nonEmpty) {\n",
    "    node.children.zipWithIndex.foreach { case (child, index) =>\n",
    "      val lastChild = index == node.children.length - 1\n",
    "      printOrg(child, childPrefix, lastChild, isRoot = false)\n",
    "    }\n",
    "  }\n",
    "}"
   ],
   "id": "5d000ca4d023c452",
   "outputs": [
    {
     "data": {
      "text/plain": [
       "defined \u001B[32mfunction\u001B[39m \u001B[36mprintOrg\u001B[39m"
      ]
     },
     "execution_count": 12,
     "metadata": {},
     "output_type": "execute_result"
    }
   ],
   "execution_count": 12
  },
  {
   "metadata": {
    "ExecuteTime": {
     "end_time": "2024-11-04T16:56:47.051584Z",
     "start_time": "2024-11-04T16:56:46.919714Z"
    }
   },
   "cell_type": "code",
   "source": [
    "// this function will check if the parent or child exits or not\n",
    "def findTheNode(node: OrgNode, cur: String): OrgNode = {\n",
    "  val head = node\n",
    "  if (head.name.equals(cur)) {\n",
    "    head\n",
    "  } else {\n",
    "    if (head.children != null && head.children.nonEmpty) {\n",
    "      for (child <- head.children) {\n",
    "        val result: OrgNode = findTheNode(child, cur)\n",
    "        if (result != null) {\n",
    "          return result\n",
    "        }\n",
    "      }\n",
    "      null\n",
    "    } else {\n",
    "      null\n",
    "    }\n",
    "  }\n",
    "}"
   ],
   "id": "bddfe97ef601e047",
   "outputs": [
    {
     "data": {
      "text/plain": [
       "defined \u001B[32mfunction\u001B[39m \u001B[36mfindTheNode\u001B[39m"
      ]
     },
     "execution_count": 13,
     "metadata": {},
     "output_type": "execute_result"
    }
   ],
   "execution_count": 13
  },
  {
   "metadata": {
    "ExecuteTime": {
     "end_time": "2024-11-04T16:56:49.535973Z",
     "start_time": "2024-11-04T16:56:49.401957Z"
    }
   },
   "cell_type": "code",
   "source": [
    "def prompts(): Unit = {\n",
    "  println(\"Press <p> to see the organization structure\")\n",
    "  println(\"Press <e> exit the application\")\n",
    "  println(\"For enter employee details, pass data in the below format\")\n",
    "  println(\"<parent_org>,<current_org>,(<sno>,<name>,<city>)\")\n",
    "}"
   ],
   "id": "bfb981c62fd858b",
   "outputs": [
    {
     "data": {
      "text/plain": [
       "defined \u001B[32mfunction\u001B[39m \u001B[36mprompts\u001B[39m"
      ]
     },
     "execution_count": 14,
     "metadata": {},
     "output_type": "execute_result"
    }
   ],
   "execution_count": 14
  },
  {
   "metadata": {
    "ExecuteTime": {
     "end_time": "2024-11-04T17:04:09.242316Z",
     "start_time": "2024-11-04T16:56:52.120743Z"
    }
   },
   "cell_type": "code",
   "source": [
    "// start the application\n",
    "\n",
    "println(\"Application is started .....\")\n",
    "prompts()\n",
    "val exit = \"e\"\n",
    "var input: String = readLine()\n",
    "\n",
    "while (!input.equals(exit)) {\n",
    "  if (input.equals(\"p\")) {\n",
    "    printOrg(root)\n",
    "  } else {\n",
    "    val pattern: Regex = \"\"\"([^,]+),([^,]+),\\((\\d+),([^,]+),([^,]+)\\)\"\"\".r\n",
    "\n",
    "    input match {\n",
    "      case pattern(parentOrg, currentOrg, sno, name, city) =>\n",
    "        var newEmployee = Employee(sno = sno.toInt, name = name, city = city)\n",
    "        var parentNode = findTheNode(node = root, cur = parentOrg)\n",
    "        if (parentNode != null) {\n",
    "          var childNode = findTheNode(node = parentNode, cur = currentOrg)\n",
    "          if (childNode != null) {\n",
    "            childNode.emp = childNode.emp :+ newEmployee\n",
    "          } else {\n",
    "            val newChildNode = OrgNode(currentOrg, parentNode, List.empty[OrgNode], List(newEmployee))\n",
    "            parentNode.children = parentNode.children ++ List(newChildNode)\n",
    "          }\n",
    "        } else {\n",
    "          parentNode = OrgNode(name = parentOrg, parent = root, children = List.empty[OrgNode], emp = null)\n",
    "          val newChildNode = OrgNode(currentOrg, parentNode, List.empty[OrgNode], List(newEmployee))\n",
    "          parentNode.children = parentNode.children ++ List(newChildNode)\n",
    "          root.children = root.children ++ List(parentNode)\n",
    "        }\n",
    "      case _ =>\n",
    "        println(\"Input string does not match the expected format.\")\n",
    "    }\n",
    "  }\n",
    "\n",
    "  prompts()\n",
    "  input = readLine()\n",
    "}"
   ],
   "id": "66f9f33ef20ab468",
   "outputs": [
    {
     "name": "stdout",
     "output_type": "stream",
     "text": [
      "Application is started .....\n",
      "Press <p> to see the organization structure\n",
      "Press <e> exit the application\n",
      "For enter employee details, pass data in the below format\n",
      "<parent_org>,<current_org>,(<sno>,<name>,<city>)\n",
      "Apple\n",
      "Press <p> to see the organization structure\n",
      "Press <e> exit the application\n",
      "For enter employee details, pass data in the below format\n",
      "<parent_org>,<current_org>,(<sno>,<name>,<city>)\n",
      "Press <p> to see the organization structure\n",
      "Press <e> exit the application\n",
      "For enter employee details, pass data in the below format\n",
      "<parent_org>,<current_org>,(<sno>,<name>,<city>)\n",
      "Apple\n",
      "    └── Hr\n",
      "        └── Salary\n",
      "            └── (1, John, Delhi)\n",
      "Press <p> to see the organization structure\n",
      "Press <e> exit the application\n",
      "For enter employee details, pass data in the below format\n",
      "<parent_org>,<current_org>,(<sno>,<name>,<city>)\n",
      "Press <p> to see the organization structure\n",
      "Press <e> exit the application\n",
      "For enter employee details, pass data in the below format\n",
      "<parent_org>,<current_org>,(<sno>,<name>,<city>)\n",
      "Press <p> to see the organization structure\n",
      "Press <e> exit the application\n",
      "For enter employee details, pass data in the below format\n",
      "<parent_org>,<current_org>,(<sno>,<name>,<city>)\n",
      "Press <p> to see the organization structure\n",
      "Press <e> exit the application\n",
      "For enter employee details, pass data in the below format\n",
      "<parent_org>,<current_org>,(<sno>,<name>,<city>)\n",
      "Press <p> to see the organization structure\n",
      "Press <e> exit the application\n",
      "For enter employee details, pass data in the below format\n",
      "<parent_org>,<current_org>,(<sno>,<name>,<city>)\n",
      "Press <p> to see the organization structure\n",
      "Press <e> exit the application\n",
      "For enter employee details, pass data in the below format\n",
      "<parent_org>,<current_org>,(<sno>,<name>,<city>)\n",
      "Apple\n",
      "    ├── Hr\n",
      "    │   └── Salary\n",
      "    │       └── (1, John, Delhi)\n",
      "    ├── Iphone\n",
      "    │   ├── Iphone-15\n",
      "    │   │   └── (2, Rohan, Indore)\n",
      "    │   └── Iphone-16\n",
      "    │       └── (3, Mohan, Mumbai)\n",
      "    ├── Mac\n",
      "    │   └── Mac-16inch\n",
      "    │       └── (4, Suraj, Indore)\n",
      "    └── Maps\n",
      "        └── Backend\n",
      "            ├── (5, Tom, Hyderabad)\n",
      "            └── (6, Robin, Hyderabad)\n",
      "Press <p> to see the organization structure\n",
      "Press <e> exit the application\n",
      "For enter employee details, pass data in the below format\n",
      "<parent_org>,<current_org>,(<sno>,<name>,<city>)\n",
      "Press <p> to see the organization structure\n",
      "Press <e> exit the application\n",
      "For enter employee details, pass data in the below format\n",
      "<parent_org>,<current_org>,(<sno>,<name>,<city>)\n",
      "Press <p> to see the organization structure\n",
      "Press <e> exit the application\n",
      "For enter employee details, pass data in the below format\n",
      "<parent_org>,<current_org>,(<sno>,<name>,<city>)\n",
      "Apple\n",
      "    ├── Hr\n",
      "    │   └── Salary\n",
      "    │       └── (1, John, Delhi)\n",
      "    ├── Iphone\n",
      "    │   ├── Iphone-15\n",
      "    │   │   └── (2, Rohan, Indore)\n",
      "    │   └── Iphone-16\n",
      "    │       └── (3, Mohan, Mumbai)\n",
      "    ├── Mac\n",
      "    │   └── Mac-16inch\n",
      "    │       └── (4, Suraj, Indore)\n",
      "    └── Maps\n",
      "        └── Backend\n",
      "            ├── (5, Tom, Hyderabad)\n",
      "            ├── (6, Robin, Hyderabad)\n",
      "            └── Scala\n",
      "                ├── (8, Rohit, Chennai)\n",
      "                └── (9, Shweta, Mumbai)\n",
      "Press <p> to see the organization structure\n",
      "Press <e> exit the application\n",
      "For enter employee details, pass data in the below format\n",
      "<parent_org>,<current_org>,(<sno>,<name>,<city>)\n"
     ]
    },
    {
     "data": {
      "text/plain": [
       "\u001B[36mexit\u001B[39m: \u001B[32mString\u001B[39m = \u001B[32m\"e\"\u001B[39m\n",
       "\u001B[36minput\u001B[39m: \u001B[32mString\u001B[39m = \u001B[32m\"e\"\u001B[39m"
      ],
      "text/html": [
       "<div class=\"jp-RenderedText\">\n",
       "<pre><code><span style=\"color: rgb(0, 187, 187)\"><span class=\"ansi-cyan-fg\">exit</span></span>: <span style=\"color: rgb(0, 187, 0)\"><span class=\"ansi-green-fg\">String</span></span> = <span style=\"color: rgb(0, 187, 0)\"><span class=\"ansi-green-fg\">&quot;e&quot;</span></span>\n",
       "<span style=\"color: rgb(0, 187, 187)\"><span class=\"ansi-cyan-fg\">input</span></span>: <span style=\"color: rgb(0, 187, 0)\"><span class=\"ansi-green-fg\">String</span></span> = <span style=\"color: rgb(0, 187, 0)\"><span class=\"ansi-green-fg\">&quot;e&quot;</span></span></code></pre>\n",
       "</div>"
      ]
     },
     "metadata": {},
     "output_type": "display_data"
    }
   ],
   "execution_count": 15
  }
 ],
 "metadata": {
  "kernelspec": {
   "display_name": "Scala",
   "language": "scala",
   "name": "scala"
  },
  "language_info": {
   "codemirror_mode": "text/x-scala",
   "file_extension": ".sc",
   "mimetype": "text/x-scala",
   "name": "scala",
   "nbconvert_exporter": "script",
   "version": "2.13.14"
  }
 },
 "nbformat": 4,
 "nbformat_minor": 5
}
