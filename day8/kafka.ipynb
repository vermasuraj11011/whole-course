{
 "cells": [
  {
   "metadata": {},
   "cell_type": "markdown",
   "source": [
    "### Kafka\n",
    "Apache Kafka is a distributed streaming platform. It is used for building real-time data pipelines and streaming applications. It is horizontally scalable, fault-tolerant, and extremely fast. Kafka is used in production by over one-third of the Fortune 500 companies such as Netflix, Airbnb, Uber, Walmart, and LinkedIn. Kafka is written in Scala and Java. It was originally developed by LinkedIn and donated to the Apache Software Foundation.\n",
    "\n",
    "### Kafka Architecture\n",
    "    - Kafka has a distributed architecture. \n",
    "    - It is a publish-subscribe based messaging system. \n",
    "    - Kafka is run as a cluster on one or more servers that can span multiple datacenters. \n",
    "    - Kafka cluster stores streams of records in categories called topics. \n",
    "    - Each record consists of a key, a value, and a timestamp. \n",
    "\n",
    "### Kafka Components\n",
    "1. **Producer**: It is responsible for publishing records to one or more Kafka topics.\n",
    "2. **Consumer**: It subscribes to one or more topics and processes the stream of records produced to them.\n",
    "3. **Broker**: Kafka runs in a distributed manner. Each broker is a server.\n",
    "4. **ZooKeeper**: It is used to manage and coordinate Kafka brokers. It helps in performing leader election for partitions.\n",
    "5. **Topic**: It is a category/feed name to which records are published.\n",
    "6. **Partition**: Topics are split into partitions. Each partition is ordered and immutable sequence of records.\n",
    "7. **Offset**: It is a unique ID given to each record within a partition.\n",
    "8. **Replicas**: Replicas are nothing but backups of a partition. Replicas are never\n",
    "9. **Leader**: The leader of a partition is responsible for all reads and writes for the partition.\n",
    "10. **Follower**: The followers replicate the data from the leader.\n",
    "11. **Consumer Group**: Consumers can be organized into logical groups called consumer groups. A consumer group is a multi-threaded or multi-machine consumption from Kafka topics.\n",
    "\n"
   ],
   "id": "a764f296620e13a0"
  },
  {
   "metadata": {},
   "cell_type": "markdown",
   "source": [
    "### Kafka storage\n",
    "Kafka stores messages in a topic. A topic is a category or feed name to which records are published. Topics in Kafka are always multi-subscriber; that is, a topic can have zero, one, or many consumers that subscribe to the data written to it. Each topic can have a number of partitions. Partitions allow you to parallelize a topic by splitting the data in a particular topic across multiple brokers — each partition can be placed on a separate machine to allow for multiple consumers to read from a topic in parallel.\n",
    "\n",
    "\n",
    "### Why kafka needs the storage\n",
    "Kafka is a distributed streaming platform, which means it is designed to handle large volumes of data in real-time. It is designed to be fault-tolerant and durable. Kafka is designed to be run as a cluster on one or more servers that can span multiple datacenters. Kafka stores streams of records in categories called topics. Each record consists of a key, a value, and a timestamp. Kafka is optimized for high throughput. It is horizontally scalable, fault-tolerant, and extremely fast.\n"
   ],
   "id": "5f55ada6fd118228"
  },
  {
   "metadata": {},
   "cell_type": "markdown",
   "source": [
    "```shell\n",
    "\n",
    "# list of topics\n",
    "kafka-topics.sh --list --zookeeper localhost\n",
    "\n",
    "```"
   ],
   "id": "dd77853ca48f846a"
  }
 ],
 "metadata": {
  "kernelspec": {
   "display_name": "Python 3",
   "language": "python",
   "name": "python3"
  },
  "language_info": {
   "codemirror_mode": {
    "name": "ipython",
    "version": 2
   },
   "file_extension": ".py",
   "mimetype": "text/x-python",
   "name": "python",
   "nbconvert_exporter": "python",
   "pygments_lexer": "ipython2",
   "version": "2.7.6"
  }
 },
 "nbformat": 4,
 "nbformat_minor": 5
}
