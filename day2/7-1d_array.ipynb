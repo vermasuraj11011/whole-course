{
 "cells": [
  {
   "cell_type": "markdown",
   "id": "6e4c51570bfba21",
   "metadata": {},
   "source": [
    "## Arrays\n",
    "* Arrays are mutable, indexed collections of values.\n",
    "* Has fixed size\n",
    "\n"
   ]
  },
  {
   "cell_type": "code",
   "id": "5e6743ffceea47b2",
   "metadata": {
    "ExecuteTime": {
     "end_time": "2024-10-28T04:05:00.585544Z",
     "start_time": "2024-10-28T04:04:59.706627Z"
    }
   },
   "source": [
    "val arr = Array(1, 2, 3, 4, 5)  // An array with elements 1 through 5\n",
    "arr(0) = 10\n",
    "\n",
    "print(arr.mkString(\" \"))\n",
    "println()\n",
    "\n",
    "val arr2 = new Array[Int](5)    // create an array of 5 elements, all initialized to 0\n",
    "arr2(0) = 10\n",
    "print(arr2.mkString(\" \"))\n",
    "\n",
    "val arr3 = Array.fill(5)(1)     // Creates an array of 5 elements, all initialized to 1"
   ],
   "outputs": [
    {
     "name": "stdout",
     "output_type": "stream",
     "text": [
      "10 2 3 4 5\n",
      "10 0 0 0 0"
     ]
    },
    {
     "data": {
      "text/plain": [
       "\u001B[36marr\u001B[39m: \u001B[32mArray\u001B[39m[\u001B[32mInt\u001B[39m] = \u001B[33mArray\u001B[39m(\u001B[32m10\u001B[39m, \u001B[32m2\u001B[39m, \u001B[32m3\u001B[39m, \u001B[32m4\u001B[39m, \u001B[32m5\u001B[39m)\n",
       "\u001B[36marr2\u001B[39m: \u001B[32mArray\u001B[39m[\u001B[32mInt\u001B[39m] = \u001B[33mArray\u001B[39m(\u001B[32m10\u001B[39m, \u001B[32m0\u001B[39m, \u001B[32m0\u001B[39m, \u001B[32m0\u001B[39m, \u001B[32m0\u001B[39m)\n",
       "\u001B[36marr3\u001B[39m: \u001B[32mArray\u001B[39m[\u001B[32mInt\u001B[39m] = \u001B[33mArray\u001B[39m(\u001B[32m1\u001B[39m, \u001B[32m1\u001B[39m, \u001B[32m1\u001B[39m, \u001B[32m1\u001B[39m, \u001B[32m1\u001B[39m)"
      ]
     },
     "execution_count": 1,
     "metadata": {},
     "output_type": "execute_result"
    }
   ],
   "execution_count": 1
  }
 ],
 "metadata": {
  "kernelspec": {
   "display_name": "Scala",
   "language": "scala",
   "name": "scala"
  },
  "language_info": {
   "codemirror_mode": "text/x-scala",
   "file_extension": ".sc",
   "mimetype": "text/x-scala",
   "name": "scala",
   "nbconvert_exporter": "script",
   "version": "2.13.14"
  }
 },
 "nbformat": 4,
 "nbformat_minor": 5
}
