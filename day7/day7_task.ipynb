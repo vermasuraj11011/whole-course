{
 "cells": [
  {
   "cell_type": "markdown",
   "id": "4d59fa74170ddc07",
   "metadata": {},
   "source": [
    "### Task\n",
    "\n",
    "Question 1:"
   ]
  },
  {
   "cell_type": "code",
   "id": "f62d3f17d8828714",
   "metadata": {},
   "source": [
    "import java.lang.Thread\n",
    "\n",
    "case class JobRunner(jobName: String, sec: Int)\n",
    "\n",
    "object JobRunner {\n",
    "  def apply(jobName: String, sec: Int)(logic: (String, Int) => Unit): JobRunner = {\n",
    "    logic(jobName, sec)\n",
    "    new JobRunner(jobName, sec)\n",
    "  }\n",
    "}\n",
    "\n",
    "val jobName = \"Connection to mysql\"\n",
    "val sec = 5\n",
    "val job = JobRunner(jobName, sec) { (name, time) => {\n",
    "  while (true) {\n",
    "    println(s\"$name task is running\")\n",
    "    Thread.sleep(time * 1000)\n",
    "  }\n",
    "}}\n",
    "\n",
    "// output\n",
    "\n",
    "// Connection to mysql task is running\n",
    "// Connection to mysql task is running\n",
    "// Connection to mysql task is running\n",
    "// Connection to mysql task is running"
   ],
   "outputs": [],
   "execution_count": null
  },
  {
   "cell_type": "markdown",
   "id": "cdcd99479e978893",
   "metadata": {},
   "source": []
  },
  {
   "cell_type": "markdown",
   "id": "accc55a4e7192949",
   "metadata": {},
   "source": [
    "Question 2:\n",
    "Create A function that returns a Future[String]\n",
    "\n",
    "The function name is RandomNumberThreadExecutor\n",
    "\n",
    "the function should have a promise created and return associated future\n",
    "\n",
    "in the function  create three  threads where\n",
    "each thread has a logic to generate a random number\n",
    "\n",
    "first thread name is firstThread\n",
    "second thread name is secondThread\n",
    "third thread name is thirdThread\n",
    "\n",
    "all three threads runs infinetly\n",
    "\n",
    "whenever any of the thread gets 1567 as the random number\n",
    "it should resolve the promise by using success with\n",
    "    the message threadname+ \" has generated \" + 1567\n",
    "\n",
    "it should stop and it should also notify (find a mechanism)\n",
    "other threads to stop\n",
    "\n",
    "the main thread should wait for the future to be\n",
    "complete and print the message"
   ]
  },
  {
   "metadata": {
    "ExecuteTime": {
     "end_time": "2024-11-05T11:20:28.533292Z",
     "start_time": "2024-11-05T11:20:28.335250Z"
    }
   },
   "cell_type": "code",
   "source": [
    "import scala.concurrent.{Await, Future, Promise}\n",
    "import scala.concurrent.ExecutionContext.Implicits.global\n",
    "import scala.concurrent.duration.Duration\n",
    "\n",
    "def randomNumberThreadExecutor: Future[String] = {\n",
    "  val promise = Promise[String]()\n",
    "  val future = promise.future\n",
    "\n",
    "  val firstThread = new Thread(() => {\n",
    "    while (true) {\n",
    "      Thread.sleep(1)\n",
    "      val randomNumber = scala.util.Random.nextInt(10000)\n",
    "      if (randomNumber == 1567) {\n",
    "        promise.success(\"firstThread has generated 1567\")\n",
    "      }\n",
    "    }\n",
    "  })\n",
    "\n",
    "  val secondThread = new Thread(() => {\n",
    "    while (true) {\n",
    "      Thread.sleep(1)\n",
    "      val randomNumber = scala.util.Random.nextInt(10000)\n",
    "      if (randomNumber == 1567) {\n",
    "        promise.success(\"secondThread has generated 1567\")\n",
    "      }\n",
    "    }\n",
    "  })\n",
    "\n",
    "  val thirdThread = new Thread(() => {\n",
    "    while (true) {\n",
    "      Thread.sleep(1)\n",
    "      val randomNumber = scala.util.Random.nextInt(10000)\n",
    "      if (randomNumber == 1567) {\n",
    "        promise.success(\"thirdThread has generated 1567\")\n",
    "      }\n",
    "    }\n",
    "  })\n",
    "\n",
    "  firstThread.start()\n",
    "  secondThread.start()\n",
    "  thirdThread.start()\n",
    "\n",
    "  future\n",
    "}\n",
    "\n",
    "val result = randomNumberThreadExecutor"
   ],
   "id": "ce484c3ba41e946c",
   "outputs": [
    {
     "data": {
      "text/plain": [
       "\u001B[32mimport \u001B[39m\u001B[36mscala.concurrent.{Await, Future, Promise}\u001B[39m\n",
       "\u001B[32mimport \u001B[39m\u001B[36mscala.concurrent.ExecutionContext.Implicits.global\u001B[39m\n",
       "\u001B[32mimport \u001B[39m\u001B[36mscala.concurrent.duration.Duration\u001B[39m\n",
       "defined \u001B[32mfunction\u001B[39m \u001B[36mrandomNumberThreadExecutor\u001B[39m\n",
       "\u001B[36mresult\u001B[39m: \u001B[32mFuture\u001B[39m[\u001B[32mString\u001B[39m] = \u001B[32m\u001B[33mSuccess\u001B[39m(value = \u001B[32m\"secondThread has generated 1567\"\u001B[39m)\u001B[39m"
      ],
      "text/html": [
       "<div class=\"jp-RenderedText\">\n",
       "<pre><code><span style=\"color: rgb(0, 187, 0)\"><span class=\"ansi-green-fg\">import </span></span><span style=\"color: rgb(0, 187, 187)\"><span class=\"ansi-cyan-fg\">scala.concurrent.{Await, Future, Promise}</span></span>\n",
       "<span style=\"color: rgb(0, 187, 0)\"><span class=\"ansi-green-fg\">import </span></span><span style=\"color: rgb(0, 187, 187)\"><span class=\"ansi-cyan-fg\">scala.concurrent.ExecutionContext.Implicits.global</span></span>\n",
       "<span style=\"color: rgb(0, 187, 0)\"><span class=\"ansi-green-fg\">import </span></span><span style=\"color: rgb(0, 187, 187)\"><span class=\"ansi-cyan-fg\">scala.concurrent.duration.Duration</span></span>\n",
       "defined <span style=\"color: rgb(0, 187, 0)\"><span class=\"ansi-green-fg\">function</span></span> <span style=\"color: rgb(0, 187, 187)\"><span class=\"ansi-cyan-fg\">randomNumberThreadExecutor</span></span>\n",
       "<span style=\"color: rgb(0, 187, 187)\"><span class=\"ansi-cyan-fg\">result</span></span>: <span style=\"color: rgb(0, 187, 0)\"><span class=\"ansi-green-fg\">Future</span></span>[<span style=\"color: rgb(0, 187, 0)\"><span class=\"ansi-green-fg\">String</span></span>] = <span style=\"color: rgb(0, 187, 0)\"><span class=\"ansi-green-fg\"><style>@keyframes fadein { from { opacity: 0; } to { opacity: 1; } }</style><span style=\"animation: fadein 2s;\"><span style=\"color: yellow\"><span class=\"ansi-yellow-fg\">Success</span></span>(value = <span style=\"color: rgb(0, 187, 0)\"><span class=\"ansi-green-fg\">&quot;secondThread has generated 1567&quot;</span></span>)</span></span></span></code></pre>\n",
       "</div>"
      ]
     },
     "metadata": {},
     "output_type": "display_data"
    }
   ],
   "execution_count": 5
  }
 ],
 "metadata": {
  "kernelspec": {
   "display_name": "Scala",
   "language": "scala",
   "name": "scala"
  },
  "language_info": {
   "codemirror_mode": "text/x-scala",
   "file_extension": ".sc",
   "mimetype": "text/x-scala",
   "name": "scala",
   "nbconvert_exporter": "script",
   "version": "2.13.14"
  }
 },
 "nbformat": 4,
 "nbformat_minor": 5
}
