{
 "cells": [
  {
   "cell_type": "markdown",
   "id": "dc1dc24f09eba088",
   "metadata": {},
   "source": [
    "## Data Types"
   ]
  },
  {
   "cell_type": "markdown",
   "id": "5abc834e7b032621",
   "metadata": {},
   "source": [
    "### numbers \n",
    "    * Byte = 1\n",
    "    * Int = 1       // default\n",
    "    * Long = 1\n",
    "    * Short = 1\n",
    "    * Double = 2.0  // default\n",
    "    * Float = 3.0\n",
    "\n",
    "    - default one is used when we does not provide the type explictly\n",
    "    - if we wants to use the datatypes other than the default one then we have to provide the type of the variable"
   ]
  },
  {
   "cell_type": "code",
   "id": "d7408ec36d86607d",
   "metadata": {
    "ExecuteTime": {
     "end_time": "2024-10-27T17:33:58.221094Z",
     "start_time": "2024-10-27T17:33:57.496117Z"
    }
   },
   "source": [
    "val i: Int = 1\n",
    "val l: Long = 1\n",
    "val s: Short = 1\n",
    "val d: Double = 2.0\n",
    "val f: Float = 3.0f"
   ],
   "outputs": [
    {
     "data": {
      "text/plain": [
       "\u001B[36mi\u001B[39m: \u001B[32mInt\u001B[39m = \u001B[32m1\u001B[39m\n",
       "\u001B[36ml\u001B[39m: \u001B[32mLong\u001B[39m = \u001B[32m1L\u001B[39m\n",
       "\u001B[36ms\u001B[39m: \u001B[32mShort\u001B[39m = \u001B[32m1\u001B[39m\n",
       "\u001B[36md\u001B[39m: \u001B[32mDouble\u001B[39m = \u001B[32m2.0\u001B[39m\n",
       "\u001B[36mf\u001B[39m: \u001B[32mFloat\u001B[39m = \u001B[32m3.0F\u001B[39m"
      ]
     },
     "execution_count": 1,
     "metadata": {},
     "output_type": "execute_result"
    }
   ],
   "execution_count": 1
  },
  {
   "cell_type": "markdown",
   "id": "2f695a14b28a242e",
   "metadata": {},
   "source": [
    "### alphabatical\n",
    "    * String\n",
    "    * Char"
   ]
  },
  {
   "cell_type": "code",
   "id": "a3bd353bc75dfea5",
   "metadata": {
    "ExecuteTime": {
     "end_time": "2024-10-27T17:33:58.507725Z",
     "start_time": "2024-10-27T17:33:58.290113Z"
    }
   },
   "source": [
    "val name = \"Bill\"   // String interpolation\n",
    "val c = 'a' // Char\n",
    "val multiLineStr =\n",
    "\"\"\"This is the multi line \n",
    "string and it is very long with many lines\n",
    "hahhha\"\"\""
   ],
   "outputs": [
    {
     "data": {
      "text/plain": [
       "\u001B[36mname\u001B[39m: \u001B[32mString\u001B[39m = \u001B[32m\"Bill\"\u001B[39m\n",
       "\u001B[36mc\u001B[39m: \u001B[32mChar\u001B[39m = \u001B[32m'a'\u001B[39m\n",
       "\u001B[36mmultiLineStr\u001B[39m: \u001B[32mString\u001B[39m = \u001B[32m\"\"\"This is the multi line \n",
       "string and it is very long with many lines\n",
       "hahhha\"\"\"\u001B[39m"
      ]
     },
     "execution_count": 2,
     "metadata": {},
     "output_type": "execute_result"
    }
   ],
   "execution_count": 2
  },
  {
   "cell_type": "markdown",
   "id": "7ce5bbf1301236ea",
   "metadata": {},
   "source": [
    "### Boolean\n",
    "    * true\n",
    "    * false"
   ]
  },
  {
   "cell_type": "code",
   "id": "5006a56c4bbf8e09",
   "metadata": {
    "ExecuteTime": {
     "end_time": "2024-10-27T17:33:58.667046Z",
     "start_time": "2024-10-27T17:33:58.514741Z"
    }
   },
   "source": [
    "val positive = true\n",
    "val negative = false"
   ],
   "outputs": [
    {
     "data": {
      "text/plain": [
       "\u001B[36mpositive\u001B[39m: \u001B[32mBoolean\u001B[39m = \u001B[32mtrue\u001B[39m\n",
       "\u001B[36mnegative\u001B[39m: \u001B[32mBoolean\u001B[39m = \u001B[32mfalse\u001B[39m"
      ]
     },
     "execution_count": 3,
     "metadata": {},
     "output_type": "execute_result"
    }
   ],
   "execution_count": 3
  },
  {
   "cell_type": "markdown",
   "id": "39ccb0d5c8e3520a",
   "metadata": {},
   "source": [
    "### Unit or ()\n",
    "    is the corrosponds to the no value, similar to void in java"
   ]
  },
  {
   "cell_type": "code",
   "id": "723a19c51ea11ac3",
   "metadata": {
    "ExecuteTime": {
     "end_time": "2024-10-27T17:33:58.799769Z",
     "start_time": "2024-10-27T17:33:58.672990Z"
    }
   },
   "source": [
    "val unit: Unit = ()\n",
    "print(unit)"
   ],
   "outputs": [
    {
     "name": "stdout",
     "output_type": "stream",
     "text": [
      "()"
     ]
    }
   ],
   "execution_count": 4
  },
  {
   "cell_type": "markdown",
   "id": "928c74e2e0a83c09",
   "metadata": {},
   "source": [
    "### Null \n",
    "    null or empty reference similar to null"
   ]
  },
  {
   "cell_type": "code",
   "id": "3001ed4c7a881d94",
   "metadata": {
    "ExecuteTime": {
     "end_time": "2024-10-27T17:33:58.933322Z",
     "start_time": "2024-10-27T17:33:58.805158Z"
    }
   },
   "source": [
    "val nullType: Null = null\n",
    "println(nullType)"
   ],
   "outputs": [
    {
     "name": "stdout",
     "output_type": "stream",
     "text": [
      "null\n"
     ]
    },
    {
     "data": {
      "text/plain": [
       "\u001B[36mnullType\u001B[39m: \u001B[32mNull\u001B[39m = \u001B[32mnull\u001B[39m"
      ]
     },
     "execution_count": 5,
     "metadata": {},
     "output_type": "execute_result"
    }
   ],
   "execution_count": 5
  },
  {
   "cell_type": "markdown",
   "id": "e8dbee534734309c",
   "metadata": {},
   "source": [
    "### Nothing\n",
    "    Nothing is the absolute “no value” type in Scala. It doesn't have any methods or values. Any type is the root of the entire Scala type system, and Nothing extends the Any type"
   ]
  },
  {
   "cell_type": "code",
   "id": "d5387b591ea34764",
   "metadata": {
    "ExecuteTime": {
     "end_time": "2024-10-27T17:33:59.076953Z",
     "start_time": "2024-10-27T17:33:58.938846Z"
    }
   },
   "source": [
    "var nothing: Nothing = throw new Exception(\"error\") // throw does not have any type"
   ],
   "outputs": [
    {
     "ename": "java.lang.Exception",
     "evalue": "error",
     "output_type": "error",
     "traceback": [
      "\u001B[31mjava.lang.Exception: error\u001B[39m",
      "  ammonite.$sess.cmd6$Helper.<init>(\u001B[32mcmd6.sc\u001B[39m:\u001B[32m1\u001B[39m)",
      "  ammonite.$sess.cmd6$.<clinit>(\u001B[32mcmd6.sc\u001B[39m:\u001B[32m7\u001B[39m)"
     ]
    }
   ],
   "execution_count": 6
  },
  {
   "cell_type": "markdown",
   "id": "561692849c5fc9db",
   "metadata": {},
   "source": [
    "### Any\n",
    "    The supertype of any type; any object is of type Any"
   ]
  },
  {
   "cell_type": "code",
   "id": "176d73ad3b83347",
   "metadata": {
    "ExecuteTime": {
     "end_time": "2024-10-27T17:34:12.143093Z",
     "start_time": "2024-10-27T17:34:11.986040Z"
    }
   },
   "source": [
    "val any: Any = 7"
   ],
   "outputs": [
    {
     "data": {
      "text/plain": [
       "\u001B[36many\u001B[39m: \u001B[32mAny\u001B[39m = \u001B[32m7\u001B[39m"
      ]
     },
     "execution_count": 7,
     "metadata": {},
     "output_type": "execute_result"
    }
   ],
   "execution_count": 7
  },
  {
   "cell_type": "markdown",
   "id": "4b19ff7db80784aa",
   "metadata": {},
   "source": [
    "### AnyRef\n",
    "    The supertype of any reference type"
   ]
  },
  {
   "cell_type": "code",
   "id": "2c3bfcca08e645d3",
   "metadata": {
    "ExecuteTime": {
     "end_time": "2024-10-27T17:34:16.204055Z",
     "start_time": "2024-10-27T17:34:16.060352Z"
    }
   },
   "source": [
    "val arr: AnyRef = Array(1, 2, 3) "
   ],
   "outputs": [
    {
     "data": {
      "text/plain": [
       "\u001B[36marr\u001B[39m: \u001B[32mAnyRef\u001B[39m = \u001B[33mArray\u001B[39m(\u001B[32m1\u001B[39m, \u001B[32m2\u001B[39m, \u001B[32m3\u001B[39m)"
      ]
     },
     "execution_count": 8,
     "metadata": {},
     "output_type": "execute_result"
    }
   ],
   "execution_count": 8
  }
 ],
 "metadata": {
  "kernelspec": {
   "display_name": "Scala",
   "language": "scala",
   "name": "scala"
  },
  "language_info": {
   "codemirror_mode": "text/x-scala",
   "file_extension": ".sc",
   "mimetype": "text/x-scala",
   "name": "scala",
   "nbconvert_exporter": "script",
   "version": "2.13.14"
  }
 },
 "nbformat": 4,
 "nbformat_minor": 5
}
