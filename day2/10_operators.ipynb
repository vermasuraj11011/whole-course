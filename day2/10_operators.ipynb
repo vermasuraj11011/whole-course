{
 "cells": [
  {
   "metadata": {},
   "cell_type": "markdown",
   "source": [
    "## Operators in scala\n",
    "   - Arithmetic Operators\n",
    "      - Addition (+)\n",
    "      - Subtraction (-)\n",
    "      - Multiplication (*)\n",
    "      - Division (/)\n",
    "      - Modulus (%)\n",
    "            \n",
    "   - Relational Operators\n",
    "        - Greater than (>)\n",
    "        - Greater than or equal to (>=)\n",
    "        - Less than (<)\n",
    "        - Less than or equal to (<=)\n",
    "        - Equal to (==)\n",
    "            \n",
    "                               \n",
    "   - Bitwise Operators\n",
    "        - Bitwise AND (&)\n",
    "        - Bitwise OR (|)\n",
    "        - Bitwise XOR (^)\n",
    "        - Bitwise NOT (~)\n",
    "        - Left Shift (<<)\n",
    "        - Right Shift (>>) "
   ],
   "id": "42a9c7cf0558e96e"
  },
  {
   "metadata": {
    "ExecuteTime": {
     "end_time": "2024-10-28T11:33:49.838944Z",
     "start_time": "2024-10-28T11:33:48.923812Z"
    }
   },
   "cell_type": "code",
   "source": [
    "// Arithmetic Operators\n",
    "val a = 10\n",
    "val b = 20\n",
    "\n",
    "val sum = a + b\n",
    "val diff = a - b\n",
    "val multi = a * b\n",
    "val div = a / b\n",
    "val mod = a % b\n",
    "\n",
    "// Relation Operators\n",
    "val greater = a > b\n",
    "val greaterOrEqual = a >= b\n",
    "val less = a < b\n",
    "val lessOrEqual = a <= b\n",
    "val equal = a == b\n",
    "\n",
    "// Bitwise Operators\n",
    "val bitwiseAnd = a & b\n",
    "val bitwiseOr = a | b\n",
    "val bitwiseXor = a ^ b\n",
    "val bitwiseNot = ~a\n",
    "val leftShift = a << 2\n",
    "val rightShift = a >> 2\n"
   ],
   "id": "2762a1654cc80418",
   "outputs": [
    {
     "data": {
      "text/plain": [
       "\u001B[36ma\u001B[39m: \u001B[32mInt\u001B[39m = \u001B[32m10\u001B[39m\n",
       "\u001B[36mb\u001B[39m: \u001B[32mInt\u001B[39m = \u001B[32m20\u001B[39m\n",
       "\u001B[36msum\u001B[39m: \u001B[32mInt\u001B[39m = \u001B[32m30\u001B[39m\n",
       "\u001B[36mdiff\u001B[39m: \u001B[32mInt\u001B[39m = \u001B[32m-10\u001B[39m\n",
       "\u001B[36mmulti\u001B[39m: \u001B[32mInt\u001B[39m = \u001B[32m200\u001B[39m\n",
       "\u001B[36mdiv\u001B[39m: \u001B[32mInt\u001B[39m = \u001B[32m0\u001B[39m\n",
       "\u001B[36mmod\u001B[39m: \u001B[32mInt\u001B[39m = \u001B[32m10\u001B[39m\n",
       "\u001B[36mgreater\u001B[39m: \u001B[32mBoolean\u001B[39m = \u001B[32mfalse\u001B[39m\n",
       "\u001B[36mgreaterOrEqual\u001B[39m: \u001B[32mBoolean\u001B[39m = \u001B[32mfalse\u001B[39m\n",
       "\u001B[36mless\u001B[39m: \u001B[32mBoolean\u001B[39m = \u001B[32mtrue\u001B[39m\n",
       "\u001B[36mlessOrEqual\u001B[39m: \u001B[32mBoolean\u001B[39m = \u001B[32mtrue\u001B[39m\n",
       "\u001B[36mequal\u001B[39m: \u001B[32mBoolean\u001B[39m = \u001B[32mfalse\u001B[39m\n",
       "\u001B[36mbitwiseAnd\u001B[39m: \u001B[32mInt\u001B[39m = \u001B[32m0\u001B[39m\n",
       "\u001B[36mbitwiseOr\u001B[39m: \u001B[32mInt\u001B[39m = \u001B[32m30\u001B[39m\n",
       "\u001B[36mbitwiseXor\u001B[39m: \u001B[32mInt\u001B[39m = \u001B[32m30\u001B[39m\n",
       "\u001B[36mbitwiseNot\u001B[39m: \u001B[32mInt\u001B[39m = \u001B[32m-11\u001B[39m\n",
       "\u001B[36mleftShift\u001B[39m: \u001B[32mInt\u001B[39m = \u001B[32m40\u001B[39m\n",
       "\u001B[36mrightShift\u001B[39m: \u001B[32mInt\u001B[39m = \u001B[32m2\u001B[39m"
      ]
     },
     "execution_count": 1,
     "metadata": {},
     "output_type": "execute_result"
    }
   ],
   "execution_count": 1
  }
 ],
 "metadata": {
  "kernelspec": {
   "display_name": "Scala",
   "language": "scala",
   "name": "scala"
  },
  "language_info": {
   "codemirror_mode": {
    "name": "ipython",
    "version": 2
   },
   "file_extension": ".py",
   "mimetype": "text/x-python",
   "name": "python",
   "nbconvert_exporter": "python",
   "pygments_lexer": "ipython2",
   "version": "2.7.6"
  }
 },
 "nbformat": 4,
 "nbformat_minor": 5
}
