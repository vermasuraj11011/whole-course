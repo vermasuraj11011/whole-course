{
 "cells": [
  {
   "cell_type": "markdown",
   "id": "370fdfa61b48b229",
   "metadata": {},
   "source": [
    "## Condition Statements\n",
    "* if\n",
    "* else-if\n",
    "* else\n",
    "* match statement"
   ]
  },
  {
   "cell_type": "code",
   "id": "947aa9016e7f22b9",
   "metadata": {
    "ExecuteTime": {
     "end_time": "2024-10-27T17:34:22.979636Z",
     "start_time": "2024-10-27T17:34:22.092614Z"
    }
   },
   "source": [
    "val num = 10\n",
    "\n",
    "// if-else statement\n",
    "if (num > 7) {\n",
    "    print(\"1 the number is greater than 7\")\n",
    "} else if (num < 7) {\n",
    "    print(\"2 number is less than 7\")\n",
    "} else {\n",
    "    print(\"3 number is equals to 7\")\n",
    "}\n",
    "\n",
    "println()\n",
    "\n",
    "// match statement\n",
    "val result: String =\n",
    "num match {\n",
    "    case x if x < 7=> \"4 number is less than 7\"\n",
    "    case x if x > 7 => \"5 number is greater than 7\"\n",
    "    case 7 => \"6 number is 7\"\n",
    "}\n",
    "\n",
    "print(result)"
   ],
   "outputs": [
    {
     "name": "stdout",
     "output_type": "stream",
     "text": [
      "1 the number is greater than 7\n",
      "5 number is greater than 7"
     ]
    },
    {
     "data": {
      "text/plain": [
       "\u001B[36mnum\u001B[39m: \u001B[32mInt\u001B[39m = \u001B[32m10\u001B[39m\n",
       "\u001B[36mresult\u001B[39m: \u001B[32mString\u001B[39m = \u001B[32m\"5 number is greater than 7\"\u001B[39m"
      ]
     },
     "execution_count": 1,
     "metadata": {},
     "output_type": "execute_result"
    }
   ],
   "execution_count": 1
  },
  {
   "cell_type": "markdown",
   "id": "633db0fd7ed3ac32",
   "metadata": {},
   "source": [
    "## Jump Statements\n",
    "  Scala doesn't have jump statements like break, continue and goto, instead of that we can create a breakable block and use break method to break the loop."
   ]
  },
  {
   "cell_type": "code",
   "id": "44a159717e6e4a78",
   "metadata": {
    "ExecuteTime": {
     "end_time": "2024-10-27T17:34:23.498258Z",
     "start_time": "2024-10-27T17:34:23.100309Z"
    }
   },
   "source": [
    "import scala.util.control.Breaks.{break, breakable}\n",
    "\n",
    "// one way is to use the breakable block\n",
    "breakable {\n",
    "for (i <- 11 to 20) {\n",
    "    if (i == 15) \n",
    "        break()\n",
    "    print(s\"$i \")\n",
    "    }\n",
    "}\n",
    "\n",
    "\n",
    "println()\n",
    "\n",
    "// another way is to use the return statement\n",
    "def findFirstEven(numbers: List[Int]): Int = {\n",
    "    for (num <- numbers) {\n",
    "        if (num % 2 == 0) return num // Returns the first even number\n",
    "    }\n",
    "    -1 // Returns -1 if no even number is found\n",
    "}\n",
    "\n",
    "val numbers: List[Int] = List(1, 3, 5, 6, 7)\n",
    "println(findFirstEven(numbers)) // Output: 6\n"
   ],
   "outputs": [
    {
     "name": "stdout",
     "output_type": "stream",
     "text": [
      "11 12 13 14 \n",
      "6\n"
     ]
    },
    {
     "data": {
      "text/plain": [
       "\u001B[32mimport \u001B[39m\u001B[36mscala.util.control.Breaks.{break, breakable}\u001B[39m\n",
       "defined \u001B[32mfunction\u001B[39m \u001B[36mfindFirstEven\u001B[39m\n",
       "\u001B[36mnumbers\u001B[39m: \u001B[32mList\u001B[39m[\u001B[32mInt\u001B[39m] = \u001B[33mList\u001B[39m(\u001B[32m1\u001B[39m, \u001B[32m3\u001B[39m, \u001B[32m5\u001B[39m, \u001B[32m6\u001B[39m, \u001B[32m7\u001B[39m)"
      ]
     },
     "execution_count": 2,
     "metadata": {},
     "output_type": "execute_result"
    }
   ],
   "execution_count": 2
  }
 ],
 "metadata": {
  "kernelspec": {
   "display_name": "Scala",
   "language": "scala",
   "name": "scala"
  },
  "language_info": {
   "codemirror_mode": "text/x-scala",
   "file_extension": ".sc",
   "mimetype": "text/x-scala",
   "name": "scala",
   "nbconvert_exporter": "script",
   "version": "2.13.14"
  }
 },
 "nbformat": 4,
 "nbformat_minor": 5
}
