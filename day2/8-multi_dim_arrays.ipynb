{
 "cells": [
  {
   "cell_type": "markdown",
   "id": "be80d192327955d7",
   "metadata": {},
   "source": [
    "## Multi-Dimensional Arrays\n"
   ]
  },
  {
   "cell_type": "code",
   "id": "7a3ec7ed27f8d68a",
   "metadata": {
    "ExecuteTime": {
     "end_time": "2024-10-27T17:34:42.674342Z",
     "start_time": "2024-10-27T17:34:41.866647Z"
    }
   },
   "source": [
    "val matrix = Array.ofDim[Int](2, 2)\n",
    "matrix(0)(0) = 1\n",
    "matrix(0)(1) = 2\n",
    "matrix(1)(0) = 3\n",
    "matrix(1)(1) = 4\n",
    "for (i <- 0 to 1) {\n",
    "    for (j <- 0 to 1) {\n",
    "        print(s\"${matrix(i)(j)} \")\n",
    "    }\n",
    "    println()\n",
    "}"
   ],
   "outputs": [
    {
     "name": "stdout",
     "output_type": "stream",
     "text": [
      "1 2 \n",
      "3 4 \n"
     ]
    },
    {
     "data": {
      "text/plain": [
       "\u001B[36mmatrix\u001B[39m: \u001B[32mArray\u001B[39m[\u001B[32mArray\u001B[39m[\u001B[32mInt\u001B[39m]] = \u001B[33mArray\u001B[39m(\u001B[33mArray\u001B[39m(\u001B[32m1\u001B[39m, \u001B[32m2\u001B[39m), \u001B[33mArray\u001B[39m(\u001B[32m3\u001B[39m, \u001B[32m4\u001B[39m))"
      ]
     },
     "execution_count": 1,
     "metadata": {},
     "output_type": "execute_result"
    }
   ],
   "execution_count": 1
  }
 ],
 "metadata": {
  "kernelspec": {
   "display_name": "Scala",
   "language": "scala",
   "name": "scala"
  },
  "language_info": {
   "codemirror_mode": "text/x-scala",
   "file_extension": ".sc",
   "mimetype": "text/x-scala",
   "name": "scala",
   "nbconvert_exporter": "script",
   "version": "2.13.14"
  }
 },
 "nbformat": 4,
 "nbformat_minor": 5
}
