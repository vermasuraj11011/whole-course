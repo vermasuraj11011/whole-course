{
 "cells": [
  {
   "metadata": {},
   "cell_type": "markdown",
   "source": [
    "## Condition Statements\n",
    "* if\n",
    "* else-if\n",
    "* else\n",
    "* match statement"
   ],
   "id": "c4865514d11a513a"
  },
  {
   "metadata": {
    "ExecuteTime": {
     "end_time": "2024-10-27T17:47:54.870697Z",
     "start_time": "2024-10-27T17:47:54.009842Z"
    }
   },
   "cell_type": "code",
   "source": [
    "val num = 10\n",
    "\n",
    "// if-else statement\n",
    "if (num > 7) {\n",
    "    print(\"1 the number is greater than 7\")\n",
    "} else if (num < 7) {\n",
    "    print(\"2 number is less than 7\")\n",
    "} else {\n",
    "    print(\"3 number is equals to 7\")\n",
    "}\n",
    "\n",
    "println()\n",
    "\n",
    "// match statement\n",
    "val result: String =\n",
    "num match {\n",
    "    case x if x < 7=> \"4 number is less than 7\"\n",
    "    case x if x > 7 => \"5 number is greater than 7\"\n",
    "    case 7 => \"6 number is 7\"\n",
    "}\n",
    "\n",
    "print(result)"
   ],
   "id": "b17422c3ad0ddf2c",
   "outputs": [
    {
     "name": "stdout",
     "output_type": "stream",
     "text": [
      "1 the number is greater than 7\n",
      "5 number is greater than 7"
     ]
    },
    {
     "data": {
      "text/plain": [
       "\u001B[36mnum\u001B[39m: \u001B[32mInt\u001B[39m = \u001B[32m10\u001B[39m\n",
       "\u001B[36mresult\u001B[39m: \u001B[32mString\u001B[39m = \u001B[32m\"5 number is greater than 7\"\u001B[39m"
      ]
     },
     "execution_count": 1,
     "metadata": {},
     "output_type": "execute_result"
    }
   ],
   "execution_count": 1
  }
 ],
 "metadata": {
  "kernelspec": {
   "display_name": "Scala",
   "language": "scala",
   "name": "scala"
  },
  "language_info": {
   "codemirror_mode": {
    "name": "ipython",
    "version": 2
   },
   "file_extension": ".py",
   "mimetype": "text/x-python",
   "name": "python",
   "nbconvert_exporter": "python",
   "pygments_lexer": "ipython2",
   "version": "2.7.6"
  }
 },
 "nbformat": 4,
 "nbformat_minor": 5
}
