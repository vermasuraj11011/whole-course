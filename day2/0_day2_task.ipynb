{
 "cells": [
  {
   "cell_type": "markdown",
   "metadata": {},
   "source": [
    "# Tasks\n",
    "  * Formated output or prints statements\n",
    "  * Datatype\n",
    "  * Literals and variables\n",
    "  * Condition and jump Statements\n",
    "  * Iterative Statements\n",
    "  * Selection Statements\n",
    "  * Arrays\n",
    "  * Multi Dimensional Arrays\n",
    "  * Basic Collection"
   ]
  }
 ],
 "metadata": {
  "kernelspec": {
   "display_name": "Scala",
   "language": "scala",
   "name": "scala"
  },
  "language_info": {
   "codemirror_mode": "text/x-scala",
   "file_extension": ".sc",
   "mimetype": "text/x-scala",
   "name": "scala",
   "nbconvert_exporter": "script",
   "version": "2.13.14"
  }
 },
 "nbformat": 4,
 "nbformat_minor": 2
}
