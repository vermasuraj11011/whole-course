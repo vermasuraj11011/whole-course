{
 "cells": [
  {
   "cell_type": "markdown",
   "id": "ebabe05f5bcb8b29",
   "metadata": {},
   "source": [
    "## Task 8\n",
    "\n",
    "Question1:\n",
    "----------\n",
    "\n",
    "Implement Muliple inhertance with traits<br>\n",
    "Trait GetStarted --> has implemented method prepare(also check if it is abstract)<br>\n",
    "Trait Cook extends GetStarted --> has implemented method prepare (super.prepare call must be there)<br>\n",
    "Trait Seasoning ---> has implemented method applySeasoning<br>\n",
    "Class Food extends Cook with Seasoning --> Has implemented method prepareFood <br>\n",
    "that calls prepare and Seasoning\n",
    "\n",
    "the order of execution must be\n",
    "\n",
    "GetStarted prepare <br>\n",
    "Cook prepare <br>\n",
    "Seasoning applySeasoning\n",
    "\n",
    "Check whether there is need of abstract override and comment why in the submisstion"
   ]
  },
  {
   "cell_type": "code",
   "id": "3373b3d67cb12aaf",
   "metadata": {
    "ExecuteTime": {
     "end_time": "2024-11-06T06:53:11.015684Z",
     "start_time": "2024-11-06T06:53:10.897498Z"
    }
   },
   "source": [
    "trait GetStarted {\n",
    "  def prepare(): Unit\n",
    "  def prepares(): Unit = println(\"Prepares\")\n",
    "  def prepareFood(): Unit\n",
    "}\n",
    "\n",
    "trait Cook extends GetStarted {\n",
    "  override def prepare(): Unit = {\n",
    "    super.prepares()\n",
    "    println(\"Cook extends GetStarted and has prepare\")\n",
    "  }\n",
    "}\n",
    "\n",
    "trait Seasoning {\n",
    "  def applySeasoning(): Unit = println(\"Seasoning has apply seasoning\")\n",
    "}\n",
    "\n",
    "class Food extends Cook with Seasoning {\n",
    "  def prepareFood(): Unit = {\n",
    "    this.prepare()\n",
    "    this.applySeasoning()\n",
    "  }\n",
    "}\n",
    "\n",
    "val food: GetStarted = new Food\n",
    "food.prepare()"
   ],
   "outputs": [
    {
     "name": "stdout",
     "output_type": "stream",
     "text": [
      "Prepares\n",
      "Cook extends GetStarted and has prepare\n"
     ]
    },
    {
     "data": {
      "text/plain": [
       "defined \u001B[32mtrait\u001B[39m \u001B[36mGetStarted\u001B[39m\n",
       "defined \u001B[32mtrait\u001B[39m \u001B[36mCook\u001B[39m\n",
       "defined \u001B[32mtrait\u001B[39m \u001B[36mSeasoning\u001B[39m\n",
       "defined \u001B[32mclass\u001B[39m \u001B[36mFood\u001B[39m\n",
       "\u001B[36mfood\u001B[39m: \u001B[32mGetStarted\u001B[39m = ammonite.$sess.cmd14$Helper$Food@539f88e0"
      ]
     },
     "execution_count": 14,
     "metadata": {},
     "output_type": "execute_result"
    }
   ],
   "execution_count": 14
  },
  {
   "metadata": {},
   "cell_type": "markdown",
   "source": [
    "Question 2\n",
    "----------\n",
    "\n",
    "trait Task --->  doTask (implemented method)<br>\n",
    "trait Cook  extends Task --> doTask (override) <br>\n",
    "trait Garnish extends Cook --> doTask (overide) <br> \n",
    "trait Pack extends Garnish --> doTask (overide) <br> \n",
    "class Activity extends Task---> doActivity ---> Call for doTask <br>\n",
    "\n",
    "\n",
    "create object in main method\n",
    "\n",
    "val:Task = new Activity with Cook with Garnish with Pack\n",
    "\n",
    "observe the behavior\n",
    "\n",
    "observe the behavior by changing the order of inheritance"
   ],
   "id": "f4116199db4b266f"
  },
  {
   "metadata": {
    "ExecuteTime": {
     "end_time": "2024-11-06T06:53:14.037539Z",
     "start_time": "2024-11-06T06:53:13.897311Z"
    }
   },
   "cell_type": "code",
   "source": [
    "\n",
    "trait Task {\n",
    "  def doTask(): Unit = println(\"Performing task\")\n",
    "}\n",
    "\n",
    "trait Cook extends Task {\n",
    "  override def doTask(): Unit = {\n",
    "    super.doTask()\n",
    "    println(\"Cook is doing task\")\n",
    "  }\n",
    "}\n",
    "\n",
    "trait Garnish extends Cook {\n",
    "  override def doTask(): Unit = {\n",
    "    super.doTask()\n",
    "    println(\"doing Garnishing task\")\n",
    "  }\n",
    "}\n",
    "\n",
    "trait Pack extends Garnish {\n",
    "  override def doTask(): Unit = {\n",
    "    super.doTask()\n",
    "    println(\"doing packing task\")\n",
    "  }\n",
    "}\n",
    "\n",
    "class Activity extends Task {\n",
    "  def doActivity(): Unit = doTask()\n",
    "}\n",
    "\n",
    "val task = new Activity with Cook with Garnish with Pack\n",
    "val task1: Task = new Activity with Garnish with Cook with Pack\n",
    "\n",
    "task.doActivity()\n",
    "println()\n",
    "task1.doTask()\n",
    "\n",
    "// hierarchy is same in the above case even if the order of extend is changed while object creation\n"
   ],
   "id": "65fe86bc433eb604",
   "outputs": [
    {
     "name": "stdout",
     "output_type": "stream",
     "text": [
      "Performing task\n",
      "Cook is doing task\n",
      "doing Garnishing task\n",
      "doing packing task\n",
      "\n",
      "Performing task\n",
      "Cook is doing task\n",
      "doing Garnishing task\n",
      "doing packing task\n"
     ]
    },
    {
     "data": {
      "text/plain": [
       "defined \u001B[32mtrait\u001B[39m \u001B[36mTask\u001B[39m\n",
       "defined \u001B[32mtrait\u001B[39m \u001B[36mCook\u001B[39m\n",
       "defined \u001B[32mtrait\u001B[39m \u001B[36mGarnish\u001B[39m\n",
       "defined \u001B[32mtrait\u001B[39m \u001B[36mPack\u001B[39m\n",
       "defined \u001B[32mclass\u001B[39m \u001B[36mActivity\u001B[39m\n",
       "\u001B[36mtask\u001B[39m: \u001B[32mActivity\u001B[39m with \u001B[32mCook\u001B[39m with \u001B[32mGarnish\u001B[39m with \u001B[32mPack\u001B[39m = ammonite.$sess.cmd15$Helper$$anon$1@11e79826\n",
       "\u001B[36mtask1\u001B[39m: \u001B[32mTask\u001B[39m = ammonite.$sess.cmd15$Helper$$anon$2@f8a2b1d"
      ]
     },
     "execution_count": 15,
     "metadata": {},
     "output_type": "execute_result"
    }
   ],
   "execution_count": 15
  },
  {
   "metadata": {},
   "cell_type": "code",
   "outputs": [],
   "execution_count": null,
   "source": "",
   "id": "407a7ec957181bba"
  }
 ],
 "metadata": {
  "kernelspec": {
   "display_name": "Scala",
   "language": "scala",
   "name": "scala"
  },
  "language_info": {
   "codemirror_mode": "text/x-scala",
   "file_extension": ".sc",
   "mimetype": "text/x-scala",
   "name": "scala",
   "nbconvert_exporter": "script",
   "version": "2.13.14"
  }
 },
 "nbformat": 4,
 "nbformat_minor": 5
}
