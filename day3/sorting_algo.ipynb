{
 "cells": [
  {
   "cell_type": "markdown",
   "id": "9ed9070080d03bea",
   "metadata": {},
   "source": [
    "# Sorting algo \n",
    "    Implement the above sorting algorithim and donot return the new array. \n",
    "    Instead modify the input array.\n",
    "    \n",
    "    - Bubble sort\n",
    "    - Insertion sort\n",
    "    - Quick sort\n",
    "    - Heap sort\n",
    "    - Selection sort"
   ]
  },
  {
   "cell_type": "code",
   "execution_count": 23,
   "id": "48135236",
   "metadata": {},
   "outputs": [
    {
     "data": {
      "text/plain": [
       "defined \u001b[32mfunction\u001b[39m \u001b[36msortAlgo\u001b[39m\n",
       "defined \u001b[32mfunction\u001b[39m \u001b[36mswap\u001b[39m"
      ]
     },
     "execution_count": 23,
     "metadata": {},
     "output_type": "execute_result"
    }
   ],
   "source": [
    "def sortAlgo(algo: Array[Int] => Unit, arr: Array[Int]): Unit = {\n",
    "    val unsortedArray = arr.mkString(\", \")\n",
    "    algo(arr)\n",
    "    println(s\"unsorted: ${unsortedArray} after sorted: ${arr.mkString(\", \")} \\n\")\n",
    "}\n",
    "\n",
    "def swap(arr:Array[Int], i:Int, j:Int): Unit = {\n",
    "  val temp = arr(i)\n",
    "  arr(i) = arr(j)\n",
    "  arr(j) = temp\n",
    "}"
   ]
  },
  {
   "cell_type": "markdown",
   "id": "56a604ae99c64ca2",
   "metadata": {},
   "source": [
    "## Bubble Sort"
   ]
  },
  {
   "cell_type": "code",
   "execution_count": 24,
   "id": "d4e661b13ee1faf6",
   "metadata": {},
   "outputs": [
    {
     "data": {
      "text/plain": [
       "\u001b[36mbubbleSort\u001b[39m: \u001b[32mArray\u001b[39m[\u001b[32mInt\u001b[39m] => \u001b[32mUnit\u001b[39m = ammonite.$sess.cmd24$Helper$$Lambda/0x00000fff01891de0@698d026d"
      ]
     },
     "execution_count": 24,
     "metadata": {},
     "output_type": "execute_result"
    }
   ],
   "source": [
    "val bubbleSort = (arr: Array[Int]) => {\n",
    "  println(\"This is bubble sort algo \\n\")\n",
    "  \n",
    "  val len = arr.length\n",
    "  var i = len\n",
    "  for (j <- 0 until len - 1) {\n",
    "    for (k <- 0 until i - 1) {\n",
    "      if (arr(k) > arr(k + 1)) {\n",
    "        swap(arr, k, k+1)\n",
    "      }\n",
    "    }\n",
    "    i -= 1\n",
    "  }\n",
    "}"
   ]
  },
  {
   "cell_type": "markdown",
   "id": "8d440ba541b98151",
   "metadata": {},
   "source": [
    "## Insertion Sort"
   ]
  },
  {
   "cell_type": "code",
   "execution_count": 25,
   "id": "238138bc2fcb6c5f",
   "metadata": {},
   "outputs": [
    {
     "data": {
      "text/plain": [
       "\u001b[36minsertionSort\u001b[39m: \u001b[32mArray\u001b[39m[\u001b[32mInt\u001b[39m] => \u001b[32mUnit\u001b[39m = ammonite.$sess.cmd25$Helper$$Lambda/0x00000fff01892a98@75a28dbe"
      ]
     },
     "execution_count": 25,
     "metadata": {},
     "output_type": "execute_result"
    }
   ],
   "source": [
    "val insertionSort = (arr: Array[Int]) => {\n",
    "  println(\"This is insertion sort algo \\n\")\n",
    "  \n",
    "  val n = arr.length\n",
    "  for (i <- 1 until n){\n",
    "    var key = arr(i)\n",
    "    var j = i - 1\n",
    "    while(j >= 0 && arr(j) > key){\n",
    "      arr(j + 1) = arr(j)\n",
    "      j = j - 1\n",
    "    }\n",
    "    arr(j+1) = key\n",
    "  }\n",
    "}"
   ]
  },
  {
   "cell_type": "markdown",
   "id": "3bee0af2154ebf0a",
   "metadata": {},
   "source": [
    "## Quick Sort"
   ]
  },
  {
   "cell_type": "code",
   "execution_count": 26,
   "id": "ba519ac7d518aeae",
   "metadata": {},
   "outputs": [
    {
     "data": {
      "text/plain": [
       "\u001b[36mquickSort\u001b[39m: \u001b[32mArray\u001b[39m[\u001b[32mInt\u001b[39m] => \u001b[32mUnit\u001b[39m = ammonite.$sess.cmd26$Helper$$Lambda/0x00000fff01893748@6c44798e"
      ]
     },
     "execution_count": 26,
     "metadata": {},
     "output_type": "execute_result"
    }
   ],
   "source": [
    "val quickSort = (arr: Array[Int]) => {\n",
    "  println(\"This is quick sort algo \\n\")\n",
    "  \n",
    "  def quickSortAlgo (arr:Array[Int], start:Int,end:Int):Unit = {\n",
    "    if (start < end){\n",
    "      val pi = partition(arr, start, end)\n",
    "      quickSortAlgo(arr, start, pi-1)\n",
    "      quickSortAlgo(arr, pi+1, end)\n",
    "    }\n",
    "  }\n",
    "\n",
    "  def partition(arr:Array[Int], start:Int,end:Int):Int = {\n",
    "    val pivot = arr(end)\n",
    "    var i = start - 1\n",
    "    for (j <- start to end){\n",
    "      if (arr(j) < pivot){\n",
    "        i += 1\n",
    "        swap(arr, i, j)\n",
    "      }\n",
    "    }\n",
    "    swap(arr, i+1, end)\n",
    "    i+1\n",
    "  }\n",
    "\n",
    "  val n = arr.length\n",
    "  quickSortAlgo(arr, 0, n-1)\n",
    "}"
   ]
  },
  {
   "cell_type": "markdown",
   "id": "54b28d99d0fb3cfa",
   "metadata": {},
   "source": [
    "## Heap Sort"
   ]
  },
  {
   "cell_type": "code",
   "execution_count": 27,
   "id": "622d345ac383ee9d",
   "metadata": {},
   "outputs": [
    {
     "data": {
      "text/plain": [
       "\u001b[36mheapSort\u001b[39m: \u001b[32mArray\u001b[39m[\u001b[32mInt\u001b[39m] => \u001b[32mUnit\u001b[39m = ammonite.$sess.cmd27$Helper$$Lambda/0x00000fff01894400@7eebfece"
      ]
     },
     "execution_count": 27,
     "metadata": {},
     "output_type": "execute_result"
    }
   ],
   "source": [
    "val heapSort = (arr:Array[Int]) => {\n",
    "  println(\"This is heap sort algo \\n\")\n",
    "  \n",
    "  val n = arr.length\n",
    "  \n",
    "  def heapify(arr:Array[Int], n:Int, i:Int): Unit = {\n",
    "    var largest = i;\n",
    "    var l = 2 * i + 1;\n",
    "    var r = 2 * i + 2;\n",
    "    \n",
    "    if (l < n && arr(l) > arr(largest)) {\n",
    "      largest = l;\n",
    "    }\n",
    "\n",
    "    if (r < n && arr(r) > arr(largest)) {\n",
    "      largest = r;\n",
    "    }\n",
    "    \n",
    "    if (largest != i) {\n",
    "      swap(arr, i, largest)\n",
    "      heapify(arr, n, largest);\n",
    "    }\n",
    "  }\n",
    "  \n",
    "  for (i <- n/2 - 1 to 0 by -1){\n",
    "    heapify(arr, n, i)\n",
    "  }\n",
    "  \n",
    "  for (i <- n-1 until 0 by -1) {\n",
    "    swap(arr, 0, i)\n",
    "    heapify(arr, i, 0);\n",
    "  }\n",
    "}"
   ]
  },
  {
   "cell_type": "markdown",
   "id": "77a01b82e64735cf",
   "metadata": {},
   "source": [
    "## Selection Sort"
   ]
  },
  {
   "cell_type": "code",
   "execution_count": 28,
   "id": "160a65ad2e61a1c",
   "metadata": {},
   "outputs": [
    {
     "data": {
      "text/plain": [
       "\u001b[36mselectionSort\u001b[39m: \u001b[32mArray\u001b[39m[\u001b[32mInt\u001b[39m] => \u001b[32mUnit\u001b[39m = ammonite.$sess.cmd28$Helper$$Lambda/0x00000fff018950b8@390b1eb4"
      ]
     },
     "execution_count": 28,
     "metadata": {},
     "output_type": "execute_result"
    }
   ],
   "source": [
    "val selectionSort = (arr:Array[Int]) => {\n",
    "  println(\"This is selection sort algo \\n\")\n",
    "  val n = arr.length\n",
    "  for (i <- 0 until n){\n",
    "    var min_idx = i\n",
    "    for (j <- i+1 until n){\n",
    "      if (arr(j) < arr(min_idx)){\n",
    "        min_idx = j\n",
    "      }\n",
    "    }\n",
    "    swap(arr, i, min_idx)\n",
    "  }\n",
    "}"
   ]
  },
  {
   "cell_type": "code",
   "execution_count": 29,
   "id": "98b77ea0",
   "metadata": {},
   "outputs": [
    {
     "name": "stdout",
     "output_type": "stream",
     "text": [
      "This is bubble sort algo \n",
      "\n",
      "unsorted: 2, 4, 1, 3, 8, 5 after sorted: 1, 2, 3, 4, 5, 8 \n",
      "\n"
     ]
    },
    {
     "data": {
      "text/plain": [
       "\u001b[36marr\u001b[39m: \u001b[32mArray\u001b[39m[\u001b[32mInt\u001b[39m] = \u001b[33mArray\u001b[39m(\u001b[32m1\u001b[39m, \u001b[32m2\u001b[39m, \u001b[32m3\u001b[39m, \u001b[32m4\u001b[39m, \u001b[32m5\u001b[39m, \u001b[32m8\u001b[39m)"
      ]
     },
     "execution_count": 29,
     "metadata": {},
     "output_type": "execute_result"
    }
   ],
   "source": [
    "val arr: Array[Int] = Array(2, 4, 1, 3, 8, 5)\n",
    "sortAlgo(bubbleSort, arr)"
   ]
  },
  {
   "cell_type": "code",
   "execution_count": 30,
   "id": "68f760c85d02a959",
   "metadata": {},
   "outputs": [
    {
     "name": "stdout",
     "output_type": "stream",
     "text": [
      "This is insertion sort algo \n",
      "\n",
      "unsorted: 10, 4, 9, 2, 4, 8, 3, 7 after sorted: 2, 3, 4, 4, 7, 8, 9, 10 \n",
      "\n"
     ]
    },
    {
     "data": {
      "text/plain": [
       "\u001b[36marr1\u001b[39m: \u001b[32mArray\u001b[39m[\u001b[32mInt\u001b[39m] = \u001b[33mArray\u001b[39m(\u001b[32m2\u001b[39m, \u001b[32m3\u001b[39m, \u001b[32m4\u001b[39m, \u001b[32m4\u001b[39m, \u001b[32m7\u001b[39m, \u001b[32m8\u001b[39m, \u001b[32m9\u001b[39m, \u001b[32m10\u001b[39m)"
      ]
     },
     "execution_count": 30,
     "metadata": {},
     "output_type": "execute_result"
    }
   ],
   "source": [
    "val arr1: Array[Int] = Array(10, 4, 9, 2, 4, 8, 3, 7)\n",
    "sortAlgo(insertionSort, arr1)"
   ]
  },
  {
   "cell_type": "code",
   "execution_count": 31,
   "id": "1b7f51d9f7194236",
   "metadata": {},
   "outputs": [
    {
     "name": "stdout",
     "output_type": "stream",
     "text": [
      "This is quick sort algo \n",
      "\n",
      "unsorted: 32, 21, 8, 4, 11, 1, 12, 0, 10 after sorted: 0, 1, 4, 8, 10, 11, 12, 21, 32 \n",
      "\n"
     ]
    },
    {
     "data": {
      "text/plain": [
       "\u001b[36marr2\u001b[39m: \u001b[32mArray\u001b[39m[\u001b[32mInt\u001b[39m] = \u001b[33mArray\u001b[39m(\u001b[32m0\u001b[39m, \u001b[32m1\u001b[39m, \u001b[32m4\u001b[39m, \u001b[32m8\u001b[39m, \u001b[32m10\u001b[39m, \u001b[32m11\u001b[39m, \u001b[32m12\u001b[39m, \u001b[32m21\u001b[39m, \u001b[32m32\u001b[39m)"
      ]
     },
     "execution_count": 31,
     "metadata": {},
     "output_type": "execute_result"
    }
   ],
   "source": [
    "val arr2: Array[Int] = Array(32, 21, 8, 4, 11, 1, 12, 0, 10)\n",
    "sortAlgo(quickSort, arr2)"
   ]
  },
  {
   "cell_type": "code",
   "execution_count": 32,
   "id": "6485941743abeab8",
   "metadata": {},
   "outputs": [
    {
     "name": "stdout",
     "output_type": "stream",
     "text": [
      "This is heap sort algo \n",
      "\n",
      "unsorted: 98, 30, 49, 72, 12, 0, 11, 7, 34 after sorted: 0, 7, 11, 12, 30, 34, 49, 72, 98 \n",
      "\n"
     ]
    },
    {
     "data": {
      "text/plain": [
       "\u001b[36marr3\u001b[39m: \u001b[32mArray\u001b[39m[\u001b[32mInt\u001b[39m] = \u001b[33mArray\u001b[39m(\u001b[32m0\u001b[39m, \u001b[32m7\u001b[39m, \u001b[32m11\u001b[39m, \u001b[32m12\u001b[39m, \u001b[32m30\u001b[39m, \u001b[32m34\u001b[39m, \u001b[32m49\u001b[39m, \u001b[32m72\u001b[39m, \u001b[32m98\u001b[39m)"
      ]
     },
     "execution_count": 32,
     "metadata": {},
     "output_type": "execute_result"
    }
   ],
   "source": [
    "val arr3: Array[Int] = Array(98, 30, 49, 72, 12, 0, 11, 7, 34)\n",
    "sortAlgo(heapSort, arr3)"
   ]
  },
  {
   "cell_type": "code",
   "execution_count": 33,
   "id": "f2fc395009f0ee08",
   "metadata": {},
   "outputs": [
    {
     "name": "stdout",
     "output_type": "stream",
     "text": [
      "This is selection sort algo \n",
      "\n",
      "unsorted: 23, 12, 45, 89, 12, 34, 0, 3, 4, 9 after sorted: 0, 3, 4, 9, 12, 12, 23, 34, 45, 89 \n",
      "\n"
     ]
    },
    {
     "data": {
      "text/plain": [
       "\u001b[36marr4\u001b[39m: \u001b[32mArray\u001b[39m[\u001b[32mInt\u001b[39m] = \u001b[33mArray\u001b[39m(\u001b[32m0\u001b[39m, \u001b[32m3\u001b[39m, \u001b[32m4\u001b[39m, \u001b[32m9\u001b[39m, \u001b[32m12\u001b[39m, \u001b[32m12\u001b[39m, \u001b[32m23\u001b[39m, \u001b[32m34\u001b[39m, \u001b[32m45\u001b[39m, \u001b[32m89\u001b[39m)"
      ]
     },
     "execution_count": 33,
     "metadata": {},
     "output_type": "execute_result"
    }
   ],
   "source": [
    "val arr4: Array[Int] = Array(23, 12, 45, 89, 12, 34, 0, 3, 4, 9)\n",
    "sortAlgo(selectionSort, arr4)"
   ]
  }
 ],
 "metadata": {
  "kernelspec": {
   "display_name": "Scala",
   "language": "scala",
   "name": "scala"
  },
  "language_info": {
   "codemirror_mode": "text/x-scala",
   "file_extension": ".sc",
   "mimetype": "text/x-scala",
   "name": "scala",
   "nbconvert_exporter": "script",
   "version": "2.13.14"
  }
 },
 "nbformat": 4,
 "nbformat_minor": 5
}
