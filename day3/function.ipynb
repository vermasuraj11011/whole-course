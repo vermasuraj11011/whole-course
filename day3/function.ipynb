{
 "cells": [
  {
   "cell_type": "markdown",
   "id": "73a29e9d7ff284a7",
   "metadata": {},
   "source": "# Functions"
  },
  {
   "cell_type": "code",
   "id": "2ef793d8216cda75",
   "metadata": {
    "ExecuteTime": {
     "end_time": "2024-10-28T09:11:04.631495Z",
     "start_time": "2024-10-28T09:11:04.555680Z"
    }
   },
   "source": [
    "def greet (name:String):String = \n",
    "    return s\"Hello ${name}\"\n",
    "\n",
    "println(greet(\"John\"))"
   ],
   "outputs": [
    {
     "name": "stdout",
     "output_type": "stream",
     "text": [
      "Hello John\n"
     ]
    },
    {
     "data": {
      "text/plain": [
       "defined \u001B[32mfunction\u001B[39m \u001B[36mgreet\u001B[39m"
      ]
     },
     "execution_count": 55,
     "metadata": {},
     "output_type": "execute_result"
    }
   ],
   "execution_count": 55
  },
  {
   "cell_type": "code",
   "id": "30baf3aaaf740ba7",
   "metadata": {
    "ExecuteTime": {
     "end_time": "2024-10-28T09:11:04.808042Z",
     "start_time": "2024-10-28T09:11:04.750600Z"
    }
   },
   "source": [
    "def greet (name: String):String = s\"Hello ${name}\"\n",
    "println(greet(\"John\"))"
   ],
   "outputs": [
    {
     "name": "stdout",
     "output_type": "stream",
     "text": [
      "Hello John\n"
     ]
    },
    {
     "data": {
      "text/plain": [
       "defined \u001B[32mfunction\u001B[39m \u001B[36mgreet\u001B[39m"
      ]
     },
     "execution_count": 56,
     "metadata": {},
     "output_type": "execute_result"
    }
   ],
   "execution_count": 56
  },
  {
   "metadata": {},
   "cell_type": "markdown",
   "source": [
    "## More Functions\n",
    "\n",
    " "
   ],
   "id": "3d0b67e09dffe342"
  },
  {
   "metadata": {
    "ExecuteTime": {
     "end_time": "2024-10-28T09:11:04.938741Z",
     "start_time": "2024-10-28T09:11:04.870080Z"
    }
   },
   "cell_type": "code",
   "source": [
    "def add (a:Int, b:Int):Int = a + b\n",
    "val sum = add(2,3)\n",
    "println(sum)\n"
   ],
   "id": "719df7a31281d1d8",
   "outputs": [
    {
     "name": "stdout",
     "output_type": "stream",
     "text": [
      "5\n"
     ]
    },
    {
     "data": {
      "text/plain": [
       "defined \u001B[32mfunction\u001B[39m \u001B[36madd\u001B[39m\n",
       "\u001B[36msum\u001B[39m: \u001B[32mInt\u001B[39m = \u001B[32m5\u001B[39m"
      ]
     },
     "execution_count": 57,
     "metadata": {},
     "output_type": "execute_result"
    }
   ],
   "execution_count": 57
  },
  {
   "metadata": {
    "ExecuteTime": {
     "end_time": "2024-10-28T09:11:05.056024Z",
     "start_time": "2024-10-28T09:11:04.980988Z"
    }
   },
   "cell_type": "code",
   "source": [
    "val sum = (a:Int,b:Int) => a + b\n",
    "// or\n",
    "def sum1 (a:Int,b:Int):Int = a + b + 1\n",
    "\n",
    "println(sum(2,3))\n",
    "println()\n",
    "println(sum1(2,3))"
   ],
   "id": "44d6acc16be13143",
   "outputs": [
    {
     "name": "stdout",
     "output_type": "stream",
     "text": [
      "5\n",
      "\n",
      "6\n"
     ]
    },
    {
     "data": {
      "text/plain": [
       "\u001B[36msum\u001B[39m: (\u001B[32mInt\u001B[39m, \u001B[32mInt\u001B[39m) => \u001B[32mInt\u001B[39m = ammonite.$sess.cmd58$Helper$$Lambda/0x000007fc01901908@4273378e\n",
       "defined \u001B[32mfunction\u001B[39m \u001B[36msum1\u001B[39m"
      ]
     },
     "execution_count": 58,
     "metadata": {},
     "output_type": "execute_result"
    }
   ],
   "execution_count": 58
  },
  {
   "metadata": {
    "ExecuteTime": {
     "end_time": "2024-10-28T09:11:05.121570Z",
     "start_time": "2024-10-28T09:11:05.060178Z"
    }
   },
   "cell_type": "code",
   "source": [
    " def add(a: String, b: Int): String = a + b\n",
    "val sum = add(\"2\",3)"
   ],
   "id": "f05d83e84b57df2a",
   "outputs": [
    {
     "data": {
      "text/plain": [
       "defined \u001B[32mfunction\u001B[39m \u001B[36madd\u001B[39m\n",
       "\u001B[36msum\u001B[39m: \u001B[32mString\u001B[39m = \u001B[32m\"23\"\u001B[39m"
      ]
     },
     "execution_count": 59,
     "metadata": {},
     "output_type": "execute_result"
    }
   ],
   "execution_count": 59
  },
  {
   "metadata": {
    "ExecuteTime": {
     "end_time": "2024-10-28T09:11:05.187209Z",
     "start_time": "2024-10-28T09:11:05.126357Z"
    }
   },
   "cell_type": "code",
   "source": [
    "val cube : Int => Int = x => x*x*x\n",
    "println(cube(3))"
   ],
   "id": "a8ab4ac52019ea53",
   "outputs": [
    {
     "name": "stdout",
     "output_type": "stream",
     "text": [
      "27\n"
     ]
    },
    {
     "data": {
      "text/plain": [
       "\u001B[36mcube\u001B[39m: \u001B[32mInt\u001B[39m => \u001B[32mInt\u001B[39m = ammonite.$sess.cmd60$Helper$$Lambda/0x000007fc01903940@3e56fcb9"
      ]
     },
     "execution_count": 60,
     "metadata": {},
     "output_type": "execute_result"
    }
   ],
   "execution_count": 60
  },
  {
   "metadata": {
    "ExecuteTime": {
     "end_time": "2024-10-28T09:11:05.255356Z",
     "start_time": "2024-10-28T09:11:05.192035Z"
    }
   },
   "cell_type": "code",
   "source": [
    "def process(x:String):String = s\"Processing $x\"\n",
    "val target = process _                  // if the type is not specified we can use _ to infer the type\n",
    "\n",
    "val copied : String => String = process // if the type is specified we don't need to use _\n",
    "\n",
    "println(target(\"Desktop app x23\"))\n",
    "println()\n",
    "println(copied(\"Desktop app x89\"))"
   ],
   "id": "5bae0491600e03d8",
   "outputs": [
    {
     "name": "stdout",
     "output_type": "stream",
     "text": [
      "Processing Desktop app x23\n",
      "\n",
      "Processing Desktop app x89\n"
     ]
    },
    {
     "data": {
      "text/plain": [
       "defined \u001B[32mfunction\u001B[39m \u001B[36mprocess\u001B[39m\n",
       "\u001B[36mtarget\u001B[39m: \u001B[32mString\u001B[39m => \u001B[32mString\u001B[39m = ammonite.$sess.cmd61$Helper$$Lambda/0x000007fc019048f0@4b046c6a\n",
       "\u001B[36mcopied\u001B[39m: \u001B[32mString\u001B[39m => \u001B[32mString\u001B[39m = ammonite.$sess.cmd61$Helper$$Lambda/0x000007fc01904cc0@401b9e9c"
      ]
     },
     "execution_count": 61,
     "metadata": {},
     "output_type": "execute_result"
    }
   ],
   "execution_count": 61
  },
  {
   "metadata": {
    "ExecuteTime": {
     "end_time": "2024-10-28T09:11:05.334318Z",
     "start_time": "2024-10-28T09:11:05.259726Z"
    }
   },
   "cell_type": "code",
   "source": [
    "def callMEIWilSendThatManyTimes(x:Int, method:(String) => Unit) = {\n",
    "  for (i <- 1 to x){\n",
    "    println(s\"In the bigening original method\")\n",
    "    method(s\"India $i\")\n",
    "    println(s\"Back to the original method\")\n",
    "  }\n",
    "}"
   ],
   "id": "ec2722b0fa815dca",
   "outputs": [
    {
     "data": {
      "text/plain": [
       "defined \u001B[32mfunction\u001B[39m \u001B[36mcallMEIWilSendThatManyTimes\u001B[39m"
      ]
     },
     "execution_count": 62,
     "metadata": {},
     "output_type": "execute_result"
    }
   ],
   "execution_count": 62
  },
  {
   "metadata": {
    "ExecuteTime": {
     "end_time": "2024-10-28T09:11:16.721494Z",
     "start_time": "2024-10-28T09:11:16.641177Z"
    }
   },
   "cell_type": "code",
   "source": [
    "def getTheData(data:String) : Unit = {\n",
    "  println(s\"User is processing $data\")\n",
    "}\n",
    "callMEIWilSendThatManyTimes(3, getTheData)\n",
    "\n",
    "println()\n",
    "\n",
    "callMEIWilSendThatManyTimes(3 , (data:String) => println(s\"User is processing $data\"))"
   ],
   "id": "1943c58ddfc003ba",
   "outputs": [
    {
     "name": "stdout",
     "output_type": "stream",
     "text": [
      "In the bigening original method\n",
      "User is processing India 1\n",
      "Back to the original method\n",
      "In the bigening original method\n",
      "User is processing India 2\n",
      "Back to the original method\n",
      "In the bigening original method\n",
      "User is processing India 3\n",
      "Back to the original method\n",
      "\n",
      "In the bigening original method\n",
      "User is processing India 1\n",
      "Back to the original method\n",
      "In the bigening original method\n",
      "User is processing India 2\n",
      "Back to the original method\n",
      "In the bigening original method\n",
      "User is processing India 3\n",
      "Back to the original method\n"
     ]
    },
    {
     "data": {
      "text/plain": [
       "defined \u001B[32mfunction\u001B[39m \u001B[36mgetTheData\u001B[39m"
      ]
     },
     "execution_count": 66,
     "metadata": {},
     "output_type": "execute_result"
    }
   ],
   "execution_count": 66
  },
  {
   "metadata": {
    "ExecuteTime": {
     "end_time": "2024-10-28T09:11:05.477046Z",
     "start_time": "2024-10-28T09:11:05.410493Z"
    }
   },
   "cell_type": "code",
   "source": [
    "def filterIt(element:Array[Int], logic: Int => Boolean): Array[Int] = {\n",
    "  var a : Int = 0\n",
    "  var count : Int = 0\n",
    "  for (data <- element){\n",
    "    if(logic(data))\n",
    "      count += 1\n",
    "  }\n",
    "  \n",
    "  val arr: Array[Int] = Array.fill(count)(0)\n",
    "  for (data <- element){\n",
    "    if(logic(data)){\n",
    "      arr(a) = data\n",
    "      a += 1\n",
    "    }\n",
    "  }\n",
    "  arr\n",
    "}"
   ],
   "id": "a58299be44dadf92",
   "outputs": [
    {
     "data": {
      "text/plain": [
       "defined \u001B[32mfunction\u001B[39m \u001B[36mfilterIt\u001B[39m"
      ]
     },
     "execution_count": 64,
     "metadata": {},
     "output_type": "execute_result"
    }
   ],
   "execution_count": 64
  },
  {
   "metadata": {
    "ExecuteTime": {
     "end_time": "2024-10-28T09:11:05.562650Z",
     "start_time": "2024-10-28T09:11:05.481393Z"
    }
   },
   "cell_type": "code",
   "source": [
    "val arr: Array[Int] = Array(1,2,3,4,5,6,7,8,9,10)\n",
    "val even: Array[Int] = filterIt(arr, (x:Int) => x % 2 == 0)\n",
    "val multipleOfThree: Array[Int] = filterIt(arr, (x:Int) => x % 3 == 0)\n",
    "val between3and8: Array[Int] = filterIt(arr, (x) => x >= 3 && x <= 8)\n",
    "println(even.mkString(\", \"))\n",
    "println()\n",
    "println(multipleOfThree.mkString(\", \"))\n",
    "println()\n",
    "println(between3and8.mkString(\", \"))"
   ],
   "id": "d01d3e6ab3251c16",
   "outputs": [
    {
     "name": "stdout",
     "output_type": "stream",
     "text": [
      "2, 4, 6, 8, 10\n",
      "\n",
      "3, 6, 9\n",
      "\n",
      "3, 4, 5, 6, 7, 8\n"
     ]
    },
    {
     "data": {
      "text/plain": [
       "\u001B[36marr\u001B[39m: \u001B[32mArray\u001B[39m[\u001B[32mInt\u001B[39m] = \u001B[33mArray\u001B[39m(\u001B[32m1\u001B[39m, \u001B[32m2\u001B[39m, \u001B[32m3\u001B[39m, \u001B[32m4\u001B[39m, \u001B[32m5\u001B[39m, \u001B[32m6\u001B[39m, \u001B[32m7\u001B[39m, \u001B[32m8\u001B[39m, \u001B[32m9\u001B[39m, \u001B[32m10\u001B[39m)\n",
       "\u001B[36meven\u001B[39m: \u001B[32mArray\u001B[39m[\u001B[32mInt\u001B[39m] = \u001B[33mArray\u001B[39m(\u001B[32m2\u001B[39m, \u001B[32m4\u001B[39m, \u001B[32m6\u001B[39m, \u001B[32m8\u001B[39m, \u001B[32m10\u001B[39m)\n",
       "\u001B[36mmultipleOfThree\u001B[39m: \u001B[32mArray\u001B[39m[\u001B[32mInt\u001B[39m] = \u001B[33mArray\u001B[39m(\u001B[32m3\u001B[39m, \u001B[32m6\u001B[39m, \u001B[32m9\u001B[39m)\n",
       "\u001B[36mbetween3and8\u001B[39m: \u001B[32mArray\u001B[39m[\u001B[32mInt\u001B[39m] = \u001B[33mArray\u001B[39m(\u001B[32m3\u001B[39m, \u001B[32m4\u001B[39m, \u001B[32m5\u001B[39m, \u001B[32m6\u001B[39m, \u001B[32m7\u001B[39m, \u001B[32m8\u001B[39m)"
      ]
     },
     "execution_count": 65,
     "metadata": {},
     "output_type": "execute_result"
    }
   ],
   "execution_count": 65
  }
 ],
 "metadata": {
  "kernelspec": {
   "display_name": "Scala",
   "language": "scala",
   "name": "scala"
  },
  "language_info": {
   "codemirror_mode": "text/x-scala",
   "file_extension": ".sc",
   "mimetype": "text/x-scala",
   "name": "scala",
   "nbconvert_exporter": "script",
   "version": "2.13.14"
  }
 },
 "nbformat": 4,
 "nbformat_minor": 5
}
