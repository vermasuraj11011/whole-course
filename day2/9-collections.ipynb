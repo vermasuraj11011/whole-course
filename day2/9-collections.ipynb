{
 "cells": [
  {
   "cell_type": "markdown",
   "id": "7cfbaf6c0f2ff85b",
   "metadata": {},
   "source": [
    "## Collections\n",
    "* List -> immutable sequence of elements\n",
    "* Set -> immutable collection of unique elements\n",
    "* Map -> collection of key-value pairs\n",
    "* Tuple -> collection of elements of different types\n",
    "\n"
   ]
  },
  {
   "cell_type": "code",
   "id": "ba07f85579fa81ba",
   "metadata": {
    "ExecuteTime": {
     "end_time": "2024-10-27T17:34:48.978011Z",
     "start_time": "2024-10-27T17:34:48.079899Z"
    }
   },
   "source": [
    "// List\n",
    "val numbers = List(1, 2, 3, 4, 5)\n",
    "val names = List(\"Alice\", \"Bob\", \"Charlie\")\n",
    "val mixed = List(1, \"Alice\", true)\n",
    "\n",
    "// Set\n",
    "val uniqueNumbers = Set(1, 2, 3, 4, 5)\n",
    "val uniqueNames = Set(\"Alice\", \"Bob\", \"Charlie\")\n",
    "\n",
    "// Map\n",
    "val numberToName = Map(1 -> \"Alice\", 2 -> \"Bob\", 3 -> \"Charlie\")\n",
    "\n",
    "// Tuple\n",
    "val tuple = (1, \"Alice\", true)\n",
    "val tuple2 = Tuple3(1, \"Alice\", true)\n",
    "val tuple3 = (1, \"Alice\", true, 2.5)\n"
   ],
   "outputs": [
    {
     "data": {
      "text/plain": [
       "\u001B[36mnumbers\u001B[39m: \u001B[32mList\u001B[39m[\u001B[32mInt\u001B[39m] = \u001B[33mList\u001B[39m(\u001B[32m1\u001B[39m, \u001B[32m2\u001B[39m, \u001B[32m3\u001B[39m, \u001B[32m4\u001B[39m, \u001B[32m5\u001B[39m)\n",
       "\u001B[36mnames\u001B[39m: \u001B[32mList\u001B[39m[\u001B[32mString\u001B[39m] = \u001B[33mList\u001B[39m(\u001B[32m\"Alice\"\u001B[39m, \u001B[32m\"Bob\"\u001B[39m, \u001B[32m\"Charlie\"\u001B[39m)\n",
       "\u001B[36mmixed\u001B[39m: \u001B[32mList\u001B[39m[\u001B[32mAny\u001B[39m] = \u001B[33mList\u001B[39m(\u001B[32m1\u001B[39m, \u001B[32m\"Alice\"\u001B[39m, \u001B[32mtrue\u001B[39m)\n",
       "\u001B[36muniqueNumbers\u001B[39m: \u001B[32mSet\u001B[39m[\u001B[32mInt\u001B[39m] = \u001B[33mHashSet\u001B[39m(\u001B[32m5\u001B[39m, \u001B[32m1\u001B[39m, \u001B[32m2\u001B[39m, \u001B[32m3\u001B[39m, \u001B[32m4\u001B[39m)\n",
       "\u001B[36muniqueNames\u001B[39m: \u001B[32mSet\u001B[39m[\u001B[32mString\u001B[39m] = \u001B[33mSet\u001B[39m(\u001B[32m\"Alice\"\u001B[39m, \u001B[32m\"Bob\"\u001B[39m, \u001B[32m\"Charlie\"\u001B[39m)\n",
       "\u001B[36mnumberToName\u001B[39m: \u001B[32mMap\u001B[39m[\u001B[32mInt\u001B[39m, \u001B[32mString\u001B[39m] = \u001B[33mMap\u001B[39m(\u001B[32m1\u001B[39m -> \u001B[32m\"Alice\"\u001B[39m, \u001B[32m2\u001B[39m -> \u001B[32m\"Bob\"\u001B[39m, \u001B[32m3\u001B[39m -> \u001B[32m\"Charlie\"\u001B[39m)\n",
       "\u001B[36mtuple\u001B[39m: (\u001B[32mInt\u001B[39m, \u001B[32mString\u001B[39m, \u001B[32mBoolean\u001B[39m) = (\u001B[32m1\u001B[39m, \u001B[32m\"Alice\"\u001B[39m, \u001B[32mtrue\u001B[39m)\n",
       "\u001B[36mtuple2\u001B[39m: (\u001B[32mInt\u001B[39m, \u001B[32mString\u001B[39m, \u001B[32mBoolean\u001B[39m) = (\u001B[32m1\u001B[39m, \u001B[32m\"Alice\"\u001B[39m, \u001B[32mtrue\u001B[39m)\n",
       "\u001B[36mtuple3\u001B[39m: (\u001B[32mInt\u001B[39m, \u001B[32mString\u001B[39m, \u001B[32mBoolean\u001B[39m, \u001B[32mDouble\u001B[39m) = (\u001B[32m1\u001B[39m, \u001B[32m\"Alice\"\u001B[39m, \u001B[32mtrue\u001B[39m, \u001B[32m2.5\u001B[39m)"
      ]
     },
     "execution_count": 1,
     "metadata": {},
     "output_type": "execute_result"
    }
   ],
   "execution_count": 1
  }
 ],
 "metadata": {
  "kernelspec": {
   "display_name": "Scala",
   "language": "scala",
   "name": "scala"
  },
  "language_info": {
   "codemirror_mode": "text/x-scala",
   "file_extension": ".sc",
   "mimetype": "text/x-scala",
   "name": "scala",
   "nbconvert_exporter": "script",
   "version": "2.13.14"
  }
 },
 "nbformat": 4,
 "nbformat_minor": 5
}
