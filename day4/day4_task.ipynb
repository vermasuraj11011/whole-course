{
 "cells": [
  {
   "metadata": {},
   "cell_type": "markdown",
   "source": [
    "### Encapsulation\n",
    "    * Encapsulation is the technique of making the fields in a class private and providing access to the fields via public methods.\n",
    "    * If a field is declared private, it cannot be accessed by anyone outside the class, thereby hiding the fields within the class.\n",
    "    * To read or modify the field, you have to use the getter and setter methods.\n",
    "    * With this feature, you can make a class read-only or write-only. For example, you may want the \"salary\" field of an Employee class to be write-only. No one should be able to read it, but anyone should be able to modify it.\n",
    "    * Encapsulation is also known as data hiding."
   ],
   "id": "d9656d7a34002e40"
  },
  {
   "cell_type": "code",
   "id": "362371c86b66f9fa",
   "metadata": {
    "ExecuteTime": {
     "end_time": "2024-10-29T18:38:54.991587Z",
     "start_time": "2024-10-29T18:38:54.758800Z"
    }
   },
   "source": [
    "// Encapsulation\n",
    "\n",
    "class School(val name: String, val board: String, val students: Int, val medium: String, val city: String) {\n",
    "\n",
    "  def this(name: String) = this(name, \"CBSE\", 0, \"English\", School.cbseAddress)\n",
    "\n",
    "  def this(name: String, board: String = \"CBSE\") = this(name, board, 0, \"English\", School.cbseAddress)\n",
    "\n",
    "  def this(args: String*) = this(args(\"name\"), args(\"board\"), args(\"students\").toInt, args(\"medium\"), args(\"city\"))\n",
    "\n",
    "  def address: String = board match {\n",
    "    case \"CBSE\" => School.cbseAddress\n",
    "    case \"ICSE\" => School.icseAddress\n",
    "    case \"MPBoard\" => School.mpBoardAddress\n",
    "    case \"UPBoard\" => School.upBoardAddress\n",
    "    case _ => \"Unknown\"\n",
    "  }\n",
    "\n",
    "  def aboutSchool: String = s\"$name is located in $city and it is $medium school which is affiliated to $board board and its head office is in ${address}\"\n",
    "\n",
    "  override def toString: String = s\"School(name: $name,board: $board,students: $students,medium: $medium,city: $city)\"\n",
    "}\n",
    "\n",
    "// companion object\n",
    "object School {\n",
    "  val cbseAddress = \"Delhi\"\n",
    "  val icseAddress = \"Bangalore\"\n",
    "  val mpBoardAddress = \"Bhopal\"\n",
    "  val upBoardAddress = \"Lucknow\"\n",
    "}\n",
    "\n",
    "\n",
    "val ipsSchool = new School(name = \"IPS\", board = \"CBSE\", students = 2000, medium = \"English\", city = \"Indore\")\n",
    "println(\"\")\n",
    "println(ipsSchool)\n",
    "\n",
    "println(s\"name of the school is ${ipsSchool.name}\")\n"
   ],
   "outputs": [
    {
     "name": "stdout",
     "output_type": "stream",
     "text": [
      "\n",
      "School(name: IPS,board: CBSE,students: 2000,medium: English,city: Indore)\n",
      "name of the school is IPS\n"
     ]
    },
    {
     "data": {
      "text/plain": [
       "defined \u001B[32mclass\u001B[39m \u001B[36mSchool\u001B[39m\n",
       "defined \u001B[32mobject\u001B[39m \u001B[36mSchool\u001B[39m\n",
       "\u001B[36mipsSchool\u001B[39m: \u001B[32mSchool\u001B[39m = School(name: IPS,board: CBSE,students: 2000,medium: English,city: Indore)"
      ]
     },
     "execution_count": 12,
     "metadata": {},
     "output_type": "execute_result"
    }
   ],
   "execution_count": 12
  },
  {
   "metadata": {},
   "cell_type": "markdown",
   "source": [
    " ### Abstraction\n",
    "    * Abstraction is a process of hiding the implementation details and showing only functionality to the user.\n",
    "    * Abstraction lets you focus on what the object does instead of how it does it.\n",
    "    * Abstraction provides you a blueprint of a class and you can"
   ],
   "id": "5ade5402cc775624"
  },
  {
   "metadata": {
    "ExecuteTime": {
     "end_time": "2024-10-29T18:38:55.135200Z",
     "start_time": "2024-10-29T18:38:55.017321Z"
    }
   },
   "cell_type": "code",
   "source": [
    "// Abstraction\n",
    "// Access Specifiers (public, private, protected)\n",
    "// public - accessible from anywhere\n",
    "// private - accessible only within the class\n",
    "// protected - accessible within the class and its subclasses\n",
    "\n",
    "abstract class Animal {\n",
    "  def sound(): String\n",
    "\n",
    "  protected def sleep(): String = \"Sleeping\"\n",
    "}\n",
    "\n",
    "class Dog extends Animal {\n",
    "  def sound(): String = \"Bark\"\n",
    "\n",
    "  def showSleep(): String = sleep()\n",
    "}\n",
    "\n",
    "trait Pet {\n",
    "  def name(): String\n",
    "\n",
    "  private def secret(): String = \"This is a secret\"\n",
    "\n",
    "  def revealSecret(): String = secret()\n",
    "}\n",
    "\n",
    "class Cat extends Pet {\n",
    "  def name(): String = \"MyCat\"\n",
    "}\n",
    "\n",
    "val dog = new Dog\n",
    "println(dog.sound())\n",
    "println(dog.showSleep())\n",
    "\n",
    "val cat = new Cat\n",
    "println(cat.name())\n",
    "println(cat.revealSecret())\n"
   ],
   "id": "da91f0fea63223db",
   "outputs": [
    {
     "name": "stdout",
     "output_type": "stream",
     "text": [
      "Bark\n",
      "Sleeping\n",
      "MyCat\n",
      "This is a secret\n"
     ]
    },
    {
     "data": {
      "text/plain": [
       "defined \u001B[32mclass\u001B[39m \u001B[36mAnimal\u001B[39m\n",
       "defined \u001B[32mclass\u001B[39m \u001B[36mDog\u001B[39m\n",
       "defined \u001B[32mtrait\u001B[39m \u001B[36mPet\u001B[39m\n",
       "defined \u001B[32mclass\u001B[39m \u001B[36mCat\u001B[39m\n",
       "\u001B[36mdog\u001B[39m: \u001B[32mDog\u001B[39m = ammonite.$sess.cmd13$Helper$Dog@719fdcde\n",
       "\u001B[36mcat\u001B[39m: \u001B[32mCat\u001B[39m = ammonite.$sess.cmd13$Helper$Cat@34538433"
      ]
     },
     "execution_count": 13,
     "metadata": {},
     "output_type": "execute_result"
    }
   ],
   "execution_count": 13
  },
  {
   "metadata": {},
   "cell_type": "markdown",
   "source": [
    "### Polymorphism \n",
    "  * Method Overloading \n",
    "    - Compile Time Polymorphism (Static Polymorphism) \n",
    "    - Method Overloading is a feature that allows a class to have more than one method having the same name, if their argument lists are different.\n",
    "    - It is similar to constructor overloading in Java.\n",
    "\n",
    "  * Method Overriding\n",
    "    - Run Time Polymorphism (Dynamic Polymorphism)\n",
    "    - Method Overriding is a feature that allows a subclass to provide a specific implementation of a method that is already provided by its superclass.\n",
    "    - When a method in a subclass has the same name, same parameters or signature and same return type as a method in its super-class, then the method in the subclass is said to override the method in the super-class."
   ],
   "id": "44625bc9e6ec9507"
  },
  {
   "metadata": {},
   "cell_type": "markdown",
   "source": [
    "# OOPs\n",
    "    * Encapsulation\n",
    "        - Class\n",
    "        - Object\n",
    "        - Instance\n",
    "        - Constructor\n",
    "        \n",
    "    * Abstraction\n",
    "        - Access Specifiers\n",
    "        \n",
    "    * Polymorphism\n",
    "        - Method Overloading\n",
    "        - Method Overriding\n",
    "    \n",
    "    * Inheritance\n",
    "        - Super Class & Sub Class\n",
    "        - Abstract Class\n",
    "        "
   ],
   "id": "e51649e16ad77e1c"
  },
  {
   "metadata": {
    "ExecuteTime": {
     "end_time": "2024-10-30T09:57:57.017322Z",
     "start_time": "2024-10-30T09:57:56.785589Z"
    }
   },
   "cell_type": "code",
   "source": [
    "// Polymorphism\n",
    "\n",
    "// Method Overloading\n",
    "class Calculator {\n",
    "  def add(a: Int, b: Int): Int = a + b\n",
    "\n",
    "  def add(a: Int, b: Int, c: Int): Int = a + b + c\n",
    "}\n",
    "\n",
    "val calc = new Calculator\n",
    "println(calc.add(10, 20))\n",
    "println(calc.add(10, 20, 30))\n",
    "\n",
    "// Method Overriding\n",
    "class Animal {\n",
    "  def sound(): String = \"Animal Sound\"\n",
    "}\n",
    "\n",
    "class Dog extends Animal {\n",
    "  override def sound(): String = \"Bark\"\n",
    "}\n",
    "\n",
    "val dog = new Dog\n",
    "println(dog.sound())\n",
    "\n",
    "import scala.language.implicitConversions\n",
    "\n",
    "implicit class InhanceAdditon(a: Int) {\n",
    "  def +(b: Int): Int = a - b\n",
    "\n",
    "  def -(b: Int): Int = a + b\n",
    "}\n",
    "\n",
    "val num = new InhanceAdditon(10)\n",
    "\n",
    "val addingButSubtracting = num + 5\n",
    "val subtractingButAdding = num - 5\n",
    "println(addingButSubtracting)\n",
    "println(subtractingButAdding)"
   ],
   "id": "9fd108eec5ffddb9",
   "outputs": [
    {
     "name": "stdout",
     "output_type": "stream",
     "text": [
      "30\n",
      "60\n",
      "Bark\n",
      "5\n",
      "15\n"
     ]
    },
    {
     "data": {
      "text/plain": [
       "defined \u001B[32mclass\u001B[39m \u001B[36mCalculator\u001B[39m\n",
       "\u001B[36mcalc\u001B[39m: \u001B[32mCalculator\u001B[39m = ammonite.$sess.cmd2$Helper$Calculator@4d9f0867\n",
       "defined \u001B[32mclass\u001B[39m \u001B[36mAnimal\u001B[39m\n",
       "defined \u001B[32mclass\u001B[39m \u001B[36mDog\u001B[39m\n",
       "\u001B[36mdog\u001B[39m: \u001B[32mDog\u001B[39m = ammonite.$sess.cmd2$Helper$Dog@4e9f41c3\n",
       "\u001B[32mimport \u001B[39m\u001B[36mscala.language.implicitConversions\u001B[39m\n",
       "defined \u001B[32mclass\u001B[39m \u001B[36mInhanceAdditon\u001B[39m\n",
       "\u001B[36mnum\u001B[39m: \u001B[32mInhanceAdditon\u001B[39m = ammonite.$sess.cmd2$Helper$InhanceAdditon@69a1f41e\n",
       "\u001B[36maddingButSubtracting\u001B[39m: \u001B[32mInt\u001B[39m = \u001B[32m5\u001B[39m\n",
       "\u001B[36msubtractingButAdding\u001B[39m: \u001B[32mInt\u001B[39m = \u001B[32m15\u001B[39m"
      ]
     },
     "execution_count": 2,
     "metadata": {},
     "output_type": "execute_result"
    }
   ],
   "execution_count": 2
  },
  {
   "metadata": {},
   "cell_type": "markdown",
   "source": [
    "### Inheritance\n",
    "    * Inheritance is a mechanism in which one class acquires the property of another class.\n",
    "    * For example, a child inherits the traits of his/her parents. With inheritance, we can reuse the fields and methods of the existing class.\n",
    "    * Inheritance represents the IS-A relationship which is also known as a parent-child relationship.\n",
    "    * Super Class & Sub Class\n",
    "    * Abstract Class"
   ],
   "id": "2da10edfa06c440b"
  },
  {
   "metadata": {
    "ExecuteTime": {
     "end_time": "2024-10-29T18:38:55.395646Z",
     "start_time": "2024-10-29T18:38:55.276742Z"
    }
   },
   "cell_type": "code",
   "source": [
    "// Inheritance\n",
    "\n",
    "// Super Class & Sub Class\n",
    "class Animal {\n",
    "  def sound(): String = \"Animal Sound\"\n",
    "}\n",
    "\n",
    "class Dog extends Animal {\n",
    "  override def sound(): String = \"Bark\"\n",
    "}\n",
    "\n",
    "// animal is super class and dog is subclass\n",
    "val dog = new Dog\n",
    "println(dog.sound())"
   ],
   "id": "3aa95ec83abbcab4",
   "outputs": [
    {
     "name": "stdout",
     "output_type": "stream",
     "text": [
      "Bark\n"
     ]
    },
    {
     "data": {
      "text/plain": [
       "defined \u001B[32mclass\u001B[39m \u001B[36mAnimal\u001B[39m\n",
       "defined \u001B[32mclass\u001B[39m \u001B[36mDog\u001B[39m\n",
       "\u001B[36mdog\u001B[39m: \u001B[32mDog\u001B[39m = ammonite.$sess.cmd15$Helper$Dog@13bad69a"
      ]
     },
     "execution_count": 15,
     "metadata": {},
     "output_type": "execute_result"
    }
   ],
   "execution_count": 15
  },
  {
   "cell_type": "markdown",
   "id": "27719d8d5a124129",
   "metadata": {},
   "source": []
  },
  {
   "metadata": {
    "ExecuteTime": {
     "end_time": "2024-10-29T18:38:55.503671Z",
     "start_time": "2024-10-29T18:38:55.408879Z"
    }
   },
   "cell_type": "code",
   "source": [
    "// Abstract Class\n",
    "abstract class Animal {\n",
    "  def sound(): String\n",
    "}\n",
    "\n",
    "class Dog extends Animal {\n",
    "  def sound(): String = \"Bark\"\n",
    "}\n",
    "\n",
    "val dog = new Dog\n",
    "println(dog.sound())"
   ],
   "id": "4b3bf9caacb26d29",
   "outputs": [
    {
     "name": "stdout",
     "output_type": "stream",
     "text": [
      "Bark\n"
     ]
    },
    {
     "data": {
      "text/plain": [
       "defined \u001B[32mclass\u001B[39m \u001B[36mAnimal\u001B[39m\n",
       "defined \u001B[32mclass\u001B[39m \u001B[36mDog\u001B[39m\n",
       "\u001B[36mdog\u001B[39m: \u001B[32mDog\u001B[39m = ammonite.$sess.cmd16$Helper$Dog@76545bcc"
      ]
     },
     "execution_count": 16,
     "metadata": {},
     "output_type": "execute_result"
    }
   ],
   "execution_count": 16
  },
  {
   "metadata": {
    "ExecuteTime": {
     "end_time": "2024-10-29T18:38:55.600144Z",
     "start_time": "2024-10-29T18:38:55.512592Z"
    }
   },
   "cell_type": "code",
   "source": [
    "// multilevel inheritance\n",
    "class A() {\n",
    "  val a = \"A\"\n",
    "}\n",
    "\n",
    "class B() extends A() {\n",
    "  val b = \"B\"\n",
    "}\n",
    "\n",
    "class C() extends B() {\n",
    "  val c = \"C\"\n",
    "}\n",
    "\n",
    "\n",
    "val c = new C()\n",
    "println()\n",
    "println(c.a)\n",
    "println(c.b)"
   ],
   "id": "a48c2a61e32f71be",
   "outputs": [
    {
     "name": "stdout",
     "output_type": "stream",
     "text": [
      "\n",
      "A\n",
      "B\n"
     ]
    },
    {
     "data": {
      "text/plain": [
       "defined \u001B[32mclass\u001B[39m \u001B[36mA\u001B[39m\n",
       "defined \u001B[32mclass\u001B[39m \u001B[36mB\u001B[39m\n",
       "defined \u001B[32mclass\u001B[39m \u001B[36mC\u001B[39m\n",
       "\u001B[36mc\u001B[39m: \u001B[32mC\u001B[39m = ammonite.$sess.cmd17$Helper$C@6c54ba33"
      ]
     },
     "execution_count": 17,
     "metadata": {},
     "output_type": "execute_result"
    }
   ],
   "execution_count": 17
  },
  {
   "metadata": {
    "ExecuteTime": {
     "end_time": "2024-10-29T18:55:34.932669Z",
     "start_time": "2024-10-29T18:55:34.796449Z"
    }
   },
   "cell_type": "code",
   "source": [
    "// Multiple Inheritance\n",
    "trait A {\n",
    "  val a = \"A\"\n",
    "}\n",
    "\n",
    "trait B {\n",
    "  // val a = \"BA\" // this will give compilation error\n",
    "  val b = \"B\"\n",
    "}\n",
    "\n",
    "class C extends A with B {\n",
    "  val c = \"C\"\n",
    "}\n",
    "\n",
    "val c = new C()\n",
    "println()\n",
    "println(c.a)\n",
    "println(c.b)"
   ],
   "id": "9590173c350701d7",
   "outputs": [
    {
     "name": "stdout",
     "output_type": "stream",
     "text": [
      "\n",
      "A\n",
      "B\n"
     ]
    },
    {
     "data": {
      "text/plain": [
       "defined \u001B[32mtrait\u001B[39m \u001B[36mA\u001B[39m\n",
       "defined \u001B[32mtrait\u001B[39m \u001B[36mB\u001B[39m\n",
       "defined \u001B[32mclass\u001B[39m \u001B[36mC\u001B[39m\n",
       "\u001B[36mc\u001B[39m: \u001B[32mC\u001B[39m = ammonite.$sess.cmd19$Helper$C@2a133cd"
      ]
     },
     "execution_count": 19,
     "metadata": {},
     "output_type": "execute_result"
    }
   ],
   "execution_count": 19
  },
  {
   "metadata": {},
   "cell_type": "markdown",
   "source": [
    "### Case class\n",
    "    * Case classes are like regular classes with a few key differences which are:\n",
    "        - Immutable by default\n",
    "        - Decomposable through pattern matching\n",
    "        - Equality is based on value, not reference\n",
    "        - Compiler generated equals, hashCode, toString methods\n",
    "        - Can be used in collections"
   ],
   "id": "8c76c45823a93c5e"
  },
  {
   "metadata": {
    "ExecuteTime": {
     "end_time": "2024-10-30T09:11:01.069888Z",
     "start_time": "2024-10-30T09:11:00.946754Z"
    }
   },
   "cell_type": "code",
   "source": [
    "\n",
    "class Animal(val category: String)\n",
    "\n",
    "case class Dog(name: String, breed: String) extends Animal(\"Domesticate\")\n",
    "\n",
    "case class Cat(name: String, breed: String) extends Animal(\"Domesticate\")\n",
    "\n",
    "val dog = Dog(\"Tommy\", \"Pug\")\n",
    "val cat = Cat(\"Kitty\", \"Persian\")\n",
    "\n",
    "println(dog)\n",
    "\n",
    "println(cat)\n",
    "val person: Person = Person(\"John\", 30, \"1234567890\", \"Indore\", \"India\")\n",
    "val person1 = new Person1(\"Rohan\", 40, \"1234567890\", \"Delhi\", \"India\")\n",
    "println(person)\n",
    "\n",
    "println(person1)"
   ],
   "id": "878ef4a1650121b6",
   "outputs": [
    {
     "name": "stdout",
     "output_type": "stream",
     "text": [
      "Dog(Tommy,Pug)\n",
      "Cat(Kitty,Persian)\n",
      "Person(John,30,1234567890,Indore,India)\n",
      "ammonite.$sess.cmd20$Helper$Person1@1d4247\n"
     ]
    },
    {
     "data": {
      "text/plain": [
       "\u001B[32mimport \u001B[39m\u001B[36mscala.language.implicitConversions\u001B[39m\n",
       "defined \u001B[32mclass\u001B[39m \u001B[36mAnimal\u001B[39m\n",
       "defined \u001B[32mclass\u001B[39m \u001B[36mDog\u001B[39m\n",
       "defined \u001B[32mclass\u001B[39m \u001B[36mCat\u001B[39m\n",
       "\u001B[36mdog\u001B[39m: \u001B[32mDog\u001B[39m = \u001B[33mDog\u001B[39m(name = \u001B[32m\"Tommy\"\u001B[39m, breed = \u001B[32m\"Pug\"\u001B[39m)\n",
       "\u001B[36mcat\u001B[39m: \u001B[32mCat\u001B[39m = \u001B[33mCat\u001B[39m(name = \u001B[32m\"Kitty\"\u001B[39m, breed = \u001B[32m\"Persian\"\u001B[39m)\n",
       "\u001B[36mperson\u001B[39m: \u001B[32mPerson\u001B[39m = \u001B[33mPerson\u001B[39m(\n",
       "  name = \u001B[32m\"John\"\u001B[39m,\n",
       "  age = \u001B[32m30\u001B[39m,\n",
       "  mobile = \u001B[32m\"1234567890\"\u001B[39m,\n",
       "  city = \u001B[32m\"Indore\"\u001B[39m,\n",
       "  country = \u001B[32m\"India\"\u001B[39m\n",
       ")\n",
       "\u001B[36mperson1\u001B[39m: \u001B[32mPerson1\u001B[39m = ammonite.$sess.cmd20$Helper$Person1@1d4247"
      ]
     },
     "execution_count": 58,
     "metadata": {},
     "output_type": "execute_result"
    }
   ],
   "execution_count": 58
  },
  {
   "metadata": {
    "ExecuteTime": {
     "end_time": "2024-10-30T05:22:01.849325Z",
     "start_time": "2024-10-30T05:22:01.784066Z"
    }
   },
   "cell_type": "code",
   "source": [
    "def multiArgs(args: String*): Unit = {\n",
    "  println(args(2))\n",
    "\n",
    "  args.foreach(println)\n",
    "}\n",
    "\n",
    "multiArgs(\"a\", \"b\", \"c\", \"d\")"
   ],
   "id": "411f3ca36b9289cf",
   "outputs": [
    {
     "name": "stdout",
     "output_type": "stream",
     "text": [
      "c\n",
      "a\n",
      "b\n",
      "c\n",
      "d\n"
     ]
    },
    {
     "data": {
      "text/plain": [
       "defined \u001B[32mfunction\u001B[39m \u001B[36mmultiArgs\u001B[39m"
      ]
     },
     "execution_count": 33,
     "metadata": {},
     "output_type": "execute_result"
    }
   ],
   "execution_count": 33
  },
  {
   "metadata": {
    "ExecuteTime": {
     "end_time": "2024-10-30T05:40:02.710103Z",
     "start_time": "2024-10-30T05:40:02.641503Z"
    }
   },
   "cell_type": "code",
   "source": [
    "trait Animal {\n",
    "  def wagTail(): Unit = println(\"Animal is wagging tail\")\n",
    "}\n",
    "\n",
    "trait Dog extends Animal {\n",
    "  override def wagTail(): Unit = println(\"Dog is wagging tail\")\n",
    "}\n",
    "\n",
    "class GermanShepherd(doBark: Boolean) extends Dog {\n",
    "  override def wagTail(): Unit = println(\"German Shepherd is wagging tail\")\n",
    "}\n",
    "\n",
    "// val dog = new Dog(true)\n",
    "\n",
    "val germanShepherd = new GermanShepherd(true)\n",
    "\n",
    "// dog.wagTail()\n",
    "\n",
    "germanShepherd.wagTail()\n"
   ],
   "id": "57927c72a784765a",
   "outputs": [
    {
     "name": "stdout",
     "output_type": "stream",
     "text": [
      "German Shepherd is wagging tail\n"
     ]
    },
    {
     "data": {
      "text/plain": [
       "defined \u001B[32mtrait\u001B[39m \u001B[36mAnimal\u001B[39m\n",
       "defined \u001B[32mtrait\u001B[39m \u001B[36mDog\u001B[39m\n",
       "defined \u001B[32mclass\u001B[39m \u001B[36mGermanShepherd\u001B[39m\n",
       "\u001B[36mgermanShepherd\u001B[39m: \u001B[32mGermanShepherd\u001B[39m = ammonite.$sess.cmd43$Helper$GermanShepherd@32c2838f"
      ]
     },
     "execution_count": 43,
     "metadata": {},
     "output_type": "execute_result"
    }
   ],
   "execution_count": 43
  },
  {
   "metadata": {},
   "cell_type": "markdown",
   "source": [
    "### Anonymous Class\n",
    "    * Anonymous classes are a way to extend the existing classes on the fly.\n",
    "    * It is useful when you need a class only once.\n",
    "    * It is created without a name and for instant use."
   ],
   "id": "4e59f985d0110ac6"
  },
  {
   "metadata": {
    "ExecuteTime": {
     "end_time": "2024-10-30T06:44:42.726471Z",
     "start_time": "2024-10-30T06:44:42.625680Z"
    }
   },
   "cell_type": "code",
   "source": [
    "// Anonymous Class\n",
    "abstract class Employee {\n",
    "  val department: String\n",
    "\n",
    "  def showSalary(): Unit\n",
    "}\n",
    "\n",
    "class HR(var name: String) extends Employee {\n",
    "  val department: String = \"HR\"\n",
    "\n",
    "  def showSalary(): Unit = println(\"Salary is 20000\")\n",
    "}\n",
    "\n",
    "// use anonymous class for the unknown cases or for the one time use\n",
    "val employee: Employee = new Employee {\n",
    "  val department: String = \"Unknown\"\n",
    "\n",
    "  def showSalary(): Unit = println(\"Salary is 10000\")\n",
    "}\n",
    "\n",
    "println(employee.department)\n",
    "println(employee.showSalary())\n",
    "\n",
    "\n",
    "// definite implementation\n",
    "val hrEmp: Employee = new HR(\"Ramesh\")\n",
    "println(hrEmp.asInstanceOf[HR].name)\n",
    "println(hrEmp.department)\n",
    "println(hrEmp.showSalary())\n",
    "\n",
    "// lamda support \n",
    "// val employee1:Employee = () => println(\"Salary is 10000\")  // this will give error lamda support is not there for abstract class\n",
    "// println(employee1.department)\n",
    "// println(employee1.showSalary())\n",
    "\n",
    "// found   : () => Unit\n",
    "// required: Helper.this.Employee\n",
    "// val employee1:Employee = () => println(\"Salary is 10000\")"
   ],
   "id": "24b2430873c65ba4",
   "outputs": [
    {
     "name": "stdout",
     "output_type": "stream",
     "text": [
      "Unknown\n",
      "Salary is 10000\n",
      "()\n",
      "Ramesh\n",
      "HR\n",
      "Salary is 20000\n",
      "()\n"
     ]
    },
    {
     "data": {
      "text/plain": [
       "defined \u001B[32mclass\u001B[39m \u001B[36mEmployee\u001B[39m\n",
       "defined \u001B[32mclass\u001B[39m \u001B[36mHR\u001B[39m\n",
       "\u001B[36memployee\u001B[39m: \u001B[32mEmployee\u001B[39m = ammonite.$sess.cmd48$Helper$$anon$1@7ab61f48\n",
       "\u001B[36mhrEmp\u001B[39m: \u001B[32mEmployee\u001B[39m = ammonite.$sess.cmd48$Helper$HR@678379ca"
      ]
     },
     "execution_count": 48,
     "metadata": {},
     "output_type": "execute_result"
    }
   ],
   "execution_count": 48
  },
  {
   "metadata": {},
   "cell_type": "markdown",
   "source": "",
   "id": "4ce7cf15f25671f0"
  },
  {
   "metadata": {},
   "cell_type": "markdown",
   "source": "### Anonymous Class in Trait",
   "id": "4465b2ee6ed647b2"
  },
  {
   "metadata": {
    "ExecuteTime": {
     "end_time": "2024-10-30T07:28:29.714803Z",
     "start_time": "2024-10-30T07:28:29.622455Z"
    }
   },
   "cell_type": "code",
   "source": [
    "trait Animal {\n",
    "  def sound(): String\n",
    "\n",
    "  def sleep(): String = \"Sleeping\"\n",
    "}\n",
    "\n",
    "val animal: Animal = new Animal {\n",
    "  def sound(): String = \"Animal Sound\"\n",
    "}\n",
    "\n",
    "println(animal.sound())\n",
    "\n",
    "\n",
    "val animal1: Animal = () => \"Lamda Animal Sound\"\n",
    "println(animal1.sound())\n",
    "println(animal1.sleep())"
   ],
   "id": "43b6a5096e018d69",
   "outputs": [
    {
     "name": "stdout",
     "output_type": "stream",
     "text": [
      "Animal Sound\n",
      "Lamda Animal Sound\n",
      "Sleeping\n"
     ]
    },
    {
     "data": {
      "text/plain": [
       "defined \u001B[32mtrait\u001B[39m \u001B[36mAnimal\u001B[39m\n",
       "\u001B[36manimal\u001B[39m: \u001B[32mAnimal\u001B[39m = ammonite.$sess.cmd53$Helper$$anon$1@9959007\n",
       "\u001B[36manimal1\u001B[39m: \u001B[32mAnimal\u001B[39m = ammonite.$sess.cmd53$Helper$$anonfun$1@f6661a1"
      ]
     },
     "execution_count": 53,
     "metadata": {},
     "output_type": "execute_result"
    }
   ],
   "execution_count": 53
  },
  {
   "metadata": {
    "ExecuteTime": {
     "end_time": "2024-10-30T07:42:53.851470Z",
     "start_time": "2024-10-30T07:42:53.772660Z"
    }
   },
   "cell_type": "code",
   "source": [
    "class A {\n",
    "  var v: String = _\n",
    "\n",
    "  def this(a: String) = {\n",
    "    this()\n",
    "    v = a\n",
    "  }\n",
    "}\n",
    "\n",
    "val a = new A(\"A\")\n",
    "println(a.v)\n"
   ],
   "id": "b5a5c3614c92c4db",
   "outputs": [
    {
     "name": "stdout",
     "output_type": "stream",
     "text": [
      "A\n"
     ]
    },
    {
     "data": {
      "text/plain": [
       "defined \u001B[32mclass\u001B[39m \u001B[36mA\u001B[39m\n",
       "\u001B[36ma\u001B[39m: \u001B[32mA\u001B[39m = ammonite.$sess.cmd55$Helper$A@125bc950"
      ]
     },
     "execution_count": 55,
     "metadata": {},
     "output_type": "execute_result"
    }
   ],
   "execution_count": 55
  }
 ],
 "metadata": {
  "kernelspec": {
   "display_name": "Scala",
   "language": "scala",
   "name": "scala"
  },
  "language_info": {
   "codemirror_mode": "text/x-scala",
   "file_extension": ".sc",
   "mimetype": "text/x-scala",
   "name": "scala",
   "nbconvert_exporter": "script",
   "version": "2.13.14"
  }
 },
 "nbformat": 4,
 "nbformat_minor": 5
}
