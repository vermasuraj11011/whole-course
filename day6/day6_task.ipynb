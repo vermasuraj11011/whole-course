{
 "cells": [
  {
   "cell_type": "markdown",
   "id": "b4c3067ff19d9afb",
   "metadata": {},
   "source": [
    "## Day 6 \n",
    "\n",
    "### task 1\n",
    "\n",
    "    implicit conversion\n",
    "    implicit class and extend function     \n",
    "\n",
    "    1) crate a case class Student (sno, name, score)\n",
    "    2) process a list of students \n",
    "        - student with score > 70\n",
    "        - student whith score < 60\n",
    "    "
   ]
  },
  {
   "cell_type": "code",
   "id": "bfefa67ec77d8ca1",
   "metadata": {
    "ExecuteTime": {
     "end_time": "2024-11-04T05:48:18.811508Z",
     "start_time": "2024-11-04T05:48:18.693162Z"
    }
   },
   "source": "case class Student(sNo: Int, name: String, score: Int)",
   "outputs": [
    {
     "data": {
      "text/plain": [
       "defined \u001B[32mclass\u001B[39m \u001B[36mStudent\u001B[39m"
      ]
     },
     "execution_count": 13,
     "metadata": {},
     "output_type": "execute_result"
    }
   ],
   "execution_count": 13
  },
  {
   "cell_type": "code",
   "id": "8950d12a1a4bc263",
   "metadata": {
    "ExecuteTime": {
     "end_time": "2024-11-04T05:48:18.985394Z",
     "start_time": "2024-11-04T05:48:18.875754Z"
    }
   },
   "source": [
    "implicit class ListStudents(students: List[Student]) {\n",
    "  def %>(x: Int): List[Student] = students.filter(_.score > x)\n",
    "\n",
    "  def %<(x: Int): List[Student] = students.filter(_.score < x)\n",
    "}\n",
    "\n",
    "val students = List(Student(1, \"Suraj\", 78), Student(2, \"Shyam\", 60), Student(3, \"Ram\", 90), Student(4, \"Ghansham\", 67), Student(5, \"John\", 59), Student(6, \"Shown\", 40), Student(7, \"Mohan\", 70))\n",
    "\n",
    "val sudentGreaterThan70 = students %> 70\n",
    "val studentLessThan60 = students %< 60"
   ],
   "outputs": [
    {
     "data": {
      "text/plain": [
       "defined \u001B[32mclass\u001B[39m \u001B[36mListStudents\u001B[39m\n",
       "\u001B[36mstudents\u001B[39m: \u001B[32mList\u001B[39m[\u001B[32mStudent\u001B[39m] = \u001B[33mList\u001B[39m(\n",
       "  \u001B[33mStudent\u001B[39m(sNo = \u001B[32m1\u001B[39m, name = \u001B[32m\"Suraj\"\u001B[39m, score = \u001B[32m78\u001B[39m),\n",
       "  \u001B[33mStudent\u001B[39m(sNo = \u001B[32m2\u001B[39m, name = \u001B[32m\"Shyam\"\u001B[39m, score = \u001B[32m60\u001B[39m),\n",
       "  \u001B[33mStudent\u001B[39m(sNo = \u001B[32m3\u001B[39m, name = \u001B[32m\"Ram\"\u001B[39m, score = \u001B[32m90\u001B[39m),\n",
       "  \u001B[33mStudent\u001B[39m(sNo = \u001B[32m4\u001B[39m, name = \u001B[32m\"Ghansham\"\u001B[39m, score = \u001B[32m67\u001B[39m),\n",
       "  \u001B[33mStudent\u001B[39m(sNo = \u001B[32m5\u001B[39m, name = \u001B[32m\"John\"\u001B[39m, score = \u001B[32m59\u001B[39m),\n",
       "  \u001B[33mStudent\u001B[39m(sNo = \u001B[32m6\u001B[39m, name = \u001B[32m\"Shown\"\u001B[39m, score = \u001B[32m40\u001B[39m),\n",
       "  \u001B[33mStudent\u001B[39m(sNo = \u001B[32m7\u001B[39m, name = \u001B[32m\"Mohan\"\u001B[39m, score = \u001B[32m70\u001B[39m)\n",
       ")\n",
       "\u001B[36msudentGreaterThan70\u001B[39m: \u001B[32mList\u001B[39m[\u001B[32mStudent\u001B[39m] = \u001B[33mList\u001B[39m(\n",
       "  \u001B[33mStudent\u001B[39m(sNo = \u001B[32m1\u001B[39m, name = \u001B[32m\"Suraj\"\u001B[39m, score = \u001B[32m78\u001B[39m),\n",
       "  \u001B[33mStudent\u001B[39m(sNo = \u001B[32m3\u001B[39m, name = \u001B[32m\"Ram\"\u001B[39m, score = \u001B[32m90\u001B[39m)\n",
       ")\n",
       "\u001B[36mstudentLessThan60\u001B[39m: \u001B[32mList\u001B[39m[\u001B[32mStudent\u001B[39m] = \u001B[33mList\u001B[39m(\n",
       "  \u001B[33mStudent\u001B[39m(sNo = \u001B[32m5\u001B[39m, name = \u001B[32m\"John\"\u001B[39m, score = \u001B[32m59\u001B[39m),\n",
       "  \u001B[33mStudent\u001B[39m(sNo = \u001B[32m6\u001B[39m, name = \u001B[32m\"Shown\"\u001B[39m, score = \u001B[32m40\u001B[39m)\n",
       ")"
      ]
     },
     "execution_count": 14,
     "metadata": {},
     "output_type": "execute_result"
    }
   ],
   "execution_count": 14
  },
  {
   "metadata": {},
   "cell_type": "markdown",
   "source": [
    "## task 2\n",
    "    extend a add method in the student collection where one can pass the tuple (int, string, int) to add the student in the list\n"
   ],
   "id": "de5e533dfe7eff38"
  },
  {
   "metadata": {
    "ExecuteTime": {
     "end_time": "2024-11-04T05:48:19.163496Z",
     "start_time": "2024-11-04T05:48:19.046356Z"
    }
   },
   "cell_type": "code",
   "source": [
    "import scala.collection.mutable.ListBuffer\n",
    "\n",
    "class StudentOps(var students: ListBuffer[Student]) {\n",
    "  def add(student: Student): Unit = {\n",
    "    students.append(student)\n",
    "  }\n",
    "\n",
    "  def add(student: (Int, String, Int)): Unit = {\n",
    "    students.append(Student(student._1, student._2, student._3))\n",
    "  }\n",
    "}\n",
    "\n",
    "val students = ListBuffer(\n",
    "  Student(1, \"Suraj\", 78),\n",
    "  Student(2, \"Shyam\", 60)\n",
    ")\n",
    "\n",
    "val studentOps = new StudentOps(students)\n",
    "studentOps.add(Student(3, \"Tom\", 89))\n",
    "studentOps.add((4, \"Robin\", 90))\n",
    "\n",
    "println(students)"
   ],
   "id": "bb73d2559d93ee06",
   "outputs": [
    {
     "name": "stdout",
     "output_type": "stream",
     "text": [
      "ListBuffer(Student(1,Suraj,78), Student(2,Shyam,60), Student(3,Tom,89), Student(4,Robin,90))\n"
     ]
    },
    {
     "data": {
      "text/plain": [
       "\u001B[32mimport \u001B[39m\u001B[36mscala.collection.mutable.ListBuffer\u001B[39m\n",
       "defined \u001B[32mclass\u001B[39m \u001B[36mStudentOps\u001B[39m\n",
       "\u001B[36mstudents\u001B[39m: \u001B[32mListBuffer\u001B[39m[\u001B[32mStudent\u001B[39m] = \u001B[33mListBuffer\u001B[39m(\n",
       "  \u001B[33mStudent\u001B[39m(sNo = \u001B[32m1\u001B[39m, name = \u001B[32m\"Suraj\"\u001B[39m, score = \u001B[32m78\u001B[39m),\n",
       "  \u001B[33mStudent\u001B[39m(sNo = \u001B[32m2\u001B[39m, name = \u001B[32m\"Shyam\"\u001B[39m, score = \u001B[32m60\u001B[39m),\n",
       "  \u001B[33mStudent\u001B[39m(sNo = \u001B[32m3\u001B[39m, name = \u001B[32m\"Tom\"\u001B[39m, score = \u001B[32m89\u001B[39m),\n",
       "  \u001B[33mStudent\u001B[39m(sNo = \u001B[32m4\u001B[39m, name = \u001B[32m\"Robin\"\u001B[39m, score = \u001B[32m90\u001B[39m)\n",
       ")\n",
       "\u001B[36mstudentOps\u001B[39m: \u001B[32mStudentOps\u001B[39m = ammonite.$sess.cmd15$Helper$StudentOps@69767853"
      ]
     },
     "execution_count": 15,
     "metadata": {},
     "output_type": "execute_result"
    }
   ],
   "execution_count": 15
  },
  {
   "metadata": {},
   "cell_type": "markdown",
   "source": [
    "### Task 3\n",
    "    extent a filterRecord method which will flter the students record on the basic of the lambda function "
   ],
   "id": "49069a28a5daa96b"
  },
  {
   "metadata": {
    "ExecuteTime": {
     "end_time": "2024-11-04T05:48:19.277573Z",
     "start_time": "2024-11-04T05:48:19.169330Z"
    }
   },
   "cell_type": "code",
   "source": [
    "implicit class ArrayFilter(students: Array[Student]) {\n",
    "  def filterRecord(x: Student => Boolean): Array[Student] = students.filter(x)\n",
    "}\n",
    "\n",
    "val students = Array(\n",
    "  Student(1, \"Suraj\", 74),\n",
    "  Student(2, \"Shyam\", 60),\n",
    "  Student(3, \"Ram\", 90),\n",
    "  Student(4, \"Tom\", 78),\n",
    "  Student(5, \"Shaun\", 71),\n",
    "  Student(6, \"Tom\", 66),\n",
    "  Student(7, \"Tom\", 94)\n",
    ")\n",
    "\n",
    "students.filterRecord(x => x.score == 78)\n",
    "students.filterRecord(x => x.name.startsWith(\"S\"))\n",
    "students.filterRecord(x => x.name.contains(\"a\"))\n",
    "students.filterRecord(x => x.score > 70 && x.score < 90)"
   ],
   "id": "c7ff9679c1bcbc8",
   "outputs": [
    {
     "data": {
      "text/plain": [
       "defined \u001B[32mclass\u001B[39m \u001B[36mArrayFilter\u001B[39m\n",
       "\u001B[36mstudents\u001B[39m: \u001B[32mArray\u001B[39m[\u001B[32mStudent\u001B[39m] = \u001B[33mArray\u001B[39m(\n",
       "  \u001B[33mStudent\u001B[39m(sNo = \u001B[32m1\u001B[39m, name = \u001B[32m\"Suraj\"\u001B[39m, score = \u001B[32m74\u001B[39m),\n",
       "  \u001B[33mStudent\u001B[39m(sNo = \u001B[32m2\u001B[39m, name = \u001B[32m\"Shyam\"\u001B[39m, score = \u001B[32m60\u001B[39m),\n",
       "  \u001B[33mStudent\u001B[39m(sNo = \u001B[32m3\u001B[39m, name = \u001B[32m\"Ram\"\u001B[39m, score = \u001B[32m90\u001B[39m),\n",
       "  \u001B[33mStudent\u001B[39m(sNo = \u001B[32m4\u001B[39m, name = \u001B[32m\"Tom\"\u001B[39m, score = \u001B[32m78\u001B[39m),\n",
       "  \u001B[33mStudent\u001B[39m(sNo = \u001B[32m5\u001B[39m, name = \u001B[32m\"Shaun\"\u001B[39m, score = \u001B[32m71\u001B[39m),\n",
       "  \u001B[33mStudent\u001B[39m(sNo = \u001B[32m6\u001B[39m, name = \u001B[32m\"Tom\"\u001B[39m, score = \u001B[32m66\u001B[39m),\n",
       "  \u001B[33mStudent\u001B[39m(sNo = \u001B[32m7\u001B[39m, name = \u001B[32m\"Tom\"\u001B[39m, score = \u001B[32m94\u001B[39m)\n",
       ")\n",
       "\u001B[36mres16_2\u001B[39m: \u001B[32mArray\u001B[39m[\u001B[32mStudent\u001B[39m] = \u001B[33mArray\u001B[39m(\u001B[33mStudent\u001B[39m(sNo = \u001B[32m4\u001B[39m, name = \u001B[32m\"Tom\"\u001B[39m, score = \u001B[32m78\u001B[39m))\n",
       "\u001B[36mres16_3\u001B[39m: \u001B[32mArray\u001B[39m[\u001B[32mStudent\u001B[39m] = \u001B[33mArray\u001B[39m(\n",
       "  \u001B[33mStudent\u001B[39m(sNo = \u001B[32m1\u001B[39m, name = \u001B[32m\"Suraj\"\u001B[39m, score = \u001B[32m74\u001B[39m),\n",
       "  \u001B[33mStudent\u001B[39m(sNo = \u001B[32m2\u001B[39m, name = \u001B[32m\"Shyam\"\u001B[39m, score = \u001B[32m60\u001B[39m),\n",
       "  \u001B[33mStudent\u001B[39m(sNo = \u001B[32m5\u001B[39m, name = \u001B[32m\"Shaun\"\u001B[39m, score = \u001B[32m71\u001B[39m)\n",
       ")\n",
       "\u001B[36mres16_4\u001B[39m: \u001B[32mArray\u001B[39m[\u001B[32mStudent\u001B[39m] = \u001B[33mArray\u001B[39m(\n",
       "  \u001B[33mStudent\u001B[39m(sNo = \u001B[32m1\u001B[39m, name = \u001B[32m\"Suraj\"\u001B[39m, score = \u001B[32m74\u001B[39m),\n",
       "  \u001B[33mStudent\u001B[39m(sNo = \u001B[32m2\u001B[39m, name = \u001B[32m\"Shyam\"\u001B[39m, score = \u001B[32m60\u001B[39m),\n",
       "  \u001B[33mStudent\u001B[39m(sNo = \u001B[32m3\u001B[39m, name = \u001B[32m\"Ram\"\u001B[39m, score = \u001B[32m90\u001B[39m),\n",
       "  \u001B[33mStudent\u001B[39m(sNo = \u001B[32m5\u001B[39m, name = \u001B[32m\"Shaun\"\u001B[39m, score = \u001B[32m71\u001B[39m)\n",
       ")\n",
       "\u001B[36mres16_5\u001B[39m: \u001B[32mArray\u001B[39m[\u001B[32mStudent\u001B[39m] = \u001B[33mArray\u001B[39m(\n",
       "  \u001B[33mStudent\u001B[39m(sNo = \u001B[32m1\u001B[39m, name = \u001B[32m\"Suraj\"\u001B[39m, score = \u001B[32m74\u001B[39m),\n",
       "  \u001B[33mStudent\u001B[39m(sNo = \u001B[32m4\u001B[39m, name = \u001B[32m\"Tom\"\u001B[39m, score = \u001B[32m78\u001B[39m),\n",
       "  \u001B[33mStudent\u001B[39m(sNo = \u001B[32m5\u001B[39m, name = \u001B[32m\"Shaun\"\u001B[39m, score = \u001B[32m71\u001B[39m)\n",
       ")"
      ]
     },
     "execution_count": 16,
     "metadata": {},
     "output_type": "execute_result"
    }
   ],
   "execution_count": 16
  }
 ],
 "metadata": {
  "kernelspec": {
   "display_name": "Scala",
   "language": "scala",
   "name": "scala"
  },
  "language_info": {
   "codemirror_mode": "text/x-scala",
   "file_extension": ".sc",
   "mimetype": "text/x-scala",
   "name": "scala",
   "nbconvert_exporter": "script",
   "version": "2.13.14"
  }
 },
 "nbformat": 4,
 "nbformat_minor": 5
}
